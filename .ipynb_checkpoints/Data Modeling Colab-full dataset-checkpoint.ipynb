{
 "cells": [
  {
   "cell_type": "markdown",
   "metadata": {},
   "source": [
    "## **CODE EXECUTED IN COLAB IN ORDER TO SELECT THE ALGORITHM USED IN PREDICTION MODEL**"
   ]
  },
  {
   "cell_type": "markdown",
   "metadata": {
    "colab_type": "text",
    "id": "mJFNwYdXT9IQ"
   },
   "source": [
    "To install xgboost package: *!conda install -c conda-forge xgboost*"
   ]
  },
  {
   "cell_type": "code",
   "execution_count": 0,
   "metadata": {
    "colab": {},
    "colab_type": "code",
    "id": "O8O5Sdp6T9IX"
   },
   "outputs": [],
   "source": [
    "import pandas as pd\n",
    "from sklearn.model_selection import train_test_split\n",
    "from sklearn.metrics import accuracy_score\n",
    "from sklearn.model_selection import cross_val_score\n",
    "from sklearn.model_selection import GridSearchCV\n",
    "from sklearn.neighbors import KNeighborsRegressor\n",
    "from sklearn.tree import DecisionTreeRegressor\n",
    "from sklearn.ensemble import RandomForestRegressor\n",
    "from sklearn.ensemble import GradientBoostingRegressor\n",
    "from xgboost import XGBRegressor\n",
    "import numpy as np"
   ]
  },
  {
   "cell_type": "code",
   "execution_count": 0,
   "metadata": {
    "colab": {
     "base_uri": "https://localhost:8080/",
     "height": 461
    },
    "colab_type": "code",
    "executionInfo": {
     "elapsed": 5272,
     "status": "ok",
     "timestamp": 1547583982479,
     "user": {
      "displayName": "Antonio Bravo Muñoz",
      "photoUrl": "https://lh5.googleusercontent.com/-I0fIeuNLzog/AAAAAAAAAAI/AAAAAAAAAAs/MDZ3MDDdQoQ/s64/photo.jpg",
      "userId": "01083771191048821860"
     },
     "user_tz": -60
    },
    "id": "ASeeyCbKUS6t",
    "outputId": "b01ca3d0-ec04-44e5-8303-f7b2cf79575b"
   },
   "outputs": [
    {
     "data": {
      "text/plain": [
       "[name: \"/device:CPU:0\"\n",
       " device_type: \"CPU\"\n",
       " memory_limit: 268435456\n",
       " locality {\n",
       " }\n",
       " incarnation: 149372704519492368, name: \"/device:XLA_CPU:0\"\n",
       " device_type: \"XLA_CPU\"\n",
       " memory_limit: 17179869184\n",
       " locality {\n",
       " }\n",
       " incarnation: 16116512034728060295\n",
       " physical_device_desc: \"device: XLA_CPU device\", name: \"/device:XLA_GPU:0\"\n",
       " device_type: \"XLA_GPU\"\n",
       " memory_limit: 17179869184\n",
       " locality {\n",
       " }\n",
       " incarnation: 13546559401204391687\n",
       " physical_device_desc: \"device: XLA_GPU device\", name: \"/device:GPU:0\"\n",
       " device_type: \"GPU\"\n",
       " memory_limit: 11281491559\n",
       " locality {\n",
       "   bus_id: 1\n",
       "   links {\n",
       "   }\n",
       " }\n",
       " incarnation: 14841359796577988151\n",
       " physical_device_desc: \"device: 0, name: Tesla K80, pci bus id: 0000:00:04.0, compute capability: 3.7\"]"
      ]
     },
     "execution_count": 2,
     "metadata": {
      "tags": []
     },
     "output_type": "execute_result"
    }
   ],
   "source": [
    "# Check if we have a GPU\n",
    "from tensorflow.python.client import device_lib\n",
    "device_lib.list_local_devices()"
   ]
  },
  {
   "cell_type": "code",
   "execution_count": 0,
   "metadata": {
    "colab": {
     "base_uri": "https://localhost:8080/",
     "height": 32
    },
    "colab_type": "code",
    "executionInfo": {
     "elapsed": 5257,
     "status": "ok",
     "timestamp": 1547583982480,
     "user": {
      "displayName": "Antonio Bravo Muñoz",
      "photoUrl": "https://lh5.googleusercontent.com/-I0fIeuNLzog/AAAAAAAAAAI/AAAAAAAAAAs/MDZ3MDDdQoQ/s64/photo.jpg",
      "userId": "01083771191048821860"
     },
     "user_tz": -60
    },
    "id": "6mEOQTCltC3I",
    "outputId": "e827234e-c40b-4172-c647-05d0df730cc9"
   },
   "outputs": [
    {
     "name": "stdout",
     "output_type": "stream",
     "text": [
      "Found GPU at: /device:GPU:0\n"
     ]
    }
   ],
   "source": [
    "import tensorflow as tf\n",
    "device_name = tf.test.gpu_device_name()\n",
    "if device_name != '/device:GPU:0':\n",
    "  raise SystemError('GPU device not found')\n",
    "print('Found GPU at: {}'.format(device_name))"
   ]
  },
  {
   "cell_type": "markdown",
   "metadata": {
    "colab_type": "text",
    "id": "DJ6Yymr7MBnj"
   },
   "source": [
    "To use the personal Drive unit in order to load and save files."
   ]
  },
  {
   "cell_type": "code",
   "execution_count": 0,
   "metadata": {
    "colab": {
     "base_uri": "https://localhost:8080/",
     "height": 32
    },
    "colab_type": "code",
    "executionInfo": {
     "elapsed": 5244,
     "status": "ok",
     "timestamp": 1547583982481,
     "user": {
      "displayName": "Antonio Bravo Muñoz",
      "photoUrl": "https://lh5.googleusercontent.com/-I0fIeuNLzog/AAAAAAAAAAI/AAAAAAAAAAs/MDZ3MDDdQoQ/s64/photo.jpg",
      "userId": "01083771191048821860"
     },
     "user_tz": -60
    },
    "id": "QrzTn3pMUDch",
    "outputId": "ba4d7145-a82f-4970-b1b3-090b752e2679"
   },
   "outputs": [
    {
     "name": "stdout",
     "output_type": "stream",
     "text": [
      "Drive already mounted at /content/drive; to attempt to forcibly remount, call drive.mount(\"/content/drive\", force_remount=True).\n"
     ]
    }
   ],
   "source": [
    "from google.colab import drive\n",
    "drive.mount('/content/drive')"
   ]
  },
  {
   "cell_type": "code",
   "execution_count": 0,
   "metadata": {
    "colab": {
     "base_uri": "https://localhost:8080/",
     "height": 49
    },
    "colab_type": "code",
    "executionInfo": {
     "elapsed": 21503,
     "status": "ok",
     "timestamp": 1547583998755,
     "user": {
      "displayName": "Antonio Bravo Muñoz",
      "photoUrl": "https://lh5.googleusercontent.com/-I0fIeuNLzog/AAAAAAAAAAI/AAAAAAAAAAs/MDZ3MDDdQoQ/s64/photo.jpg",
      "userId": "01083771191048821860"
     },
     "user_tz": -60
    },
    "id": "7A9olz0fT9Iy",
    "outputId": "60efe24b-fdfb-4ed5-81a8-cc970bf1c6cc"
   },
   "outputs": [
    {
     "name": "stdout",
     "output_type": "stream",
     "text": [
      "CPU times: user 14.4 s, sys: 1.69 s, total: 16.1 s\n",
      "Wall time: 16.1 s\n"
     ]
    }
   ],
   "source": [
    "%%time\n",
    "source = '/content/drive/My Drive/Colab_Notebooks/TFM_Kschool/traffic_data_complete.zip'\n",
    "df = pd.read_csv(source,sep=',')"
   ]
  },
  {
   "cell_type": "code",
   "execution_count": 0,
   "metadata": {
    "colab": {
     "base_uri": "https://localhost:8080/",
     "height": 201
    },
    "colab_type": "code",
    "executionInfo": {
     "elapsed": 21490,
     "status": "ok",
     "timestamp": 1547583998756,
     "user": {
      "displayName": "Antonio Bravo Muñoz",
      "photoUrl": "https://lh5.googleusercontent.com/-I0fIeuNLzog/AAAAAAAAAAI/AAAAAAAAAAs/MDZ3MDDdQoQ/s64/photo.jpg",
      "userId": "01083771191048821860"
     },
     "user_tz": -60
    },
    "id": "tPA1uE7669BD",
    "outputId": "921706e9-0ae3-4497-9bd0-3dc01eed2275"
   },
   "outputs": [
    {
     "data": {
      "text/html": [
       "<div>\n",
       "<style scoped>\n",
       "    .dataframe tbody tr th:only-of-type {\n",
       "        vertical-align: middle;\n",
       "    }\n",
       "\n",
       "    .dataframe tbody tr th {\n",
       "        vertical-align: top;\n",
       "    }\n",
       "\n",
       "    .dataframe thead th {\n",
       "        text-align: right;\n",
       "    }\n",
       "</style>\n",
       "<table border=\"1\" class=\"dataframe\">\n",
       "  <thead>\n",
       "    <tr style=\"text-align: right;\">\n",
       "      <th></th>\n",
       "      <th>id</th>\n",
       "      <th>intensidad</th>\n",
       "      <th>ocupacion</th>\n",
       "      <th>carga</th>\n",
       "      <th>vmed</th>\n",
       "      <th>periodo_integracion</th>\n",
       "      <th>Hora</th>\n",
       "      <th>Lat</th>\n",
       "      <th>Long</th>\n",
       "      <th>M30</th>\n",
       "      <th>URB</th>\n",
       "      <th>Mes</th>\n",
       "      <th>Dia</th>\n",
       "      <th>Minutos</th>\n",
       "    </tr>\n",
       "  </thead>\n",
       "  <tbody>\n",
       "    <tr>\n",
       "      <th>0</th>\n",
       "      <td>1001</td>\n",
       "      <td>204</td>\n",
       "      <td>12</td>\n",
       "      <td>0</td>\n",
       "      <td>73</td>\n",
       "      <td>5</td>\n",
       "      <td>0</td>\n",
       "      <td>40.409729</td>\n",
       "      <td>-3.740786</td>\n",
       "      <td>1</td>\n",
       "      <td>0</td>\n",
       "      <td>1</td>\n",
       "      <td>1</td>\n",
       "      <td>0</td>\n",
       "    </tr>\n",
       "    <tr>\n",
       "      <th>1</th>\n",
       "      <td>1002</td>\n",
       "      <td>252</td>\n",
       "      <td>1</td>\n",
       "      <td>0</td>\n",
       "      <td>79</td>\n",
       "      <td>5</td>\n",
       "      <td>0</td>\n",
       "      <td>40.408029</td>\n",
       "      <td>-3.743760</td>\n",
       "      <td>1</td>\n",
       "      <td>0</td>\n",
       "      <td>1</td>\n",
       "      <td>1</td>\n",
       "      <td>0</td>\n",
       "    </tr>\n",
       "    <tr>\n",
       "      <th>2</th>\n",
       "      <td>1003</td>\n",
       "      <td>420</td>\n",
       "      <td>2</td>\n",
       "      <td>0</td>\n",
       "      <td>82</td>\n",
       "      <td>5</td>\n",
       "      <td>0</td>\n",
       "      <td>40.406824</td>\n",
       "      <td>-3.746834</td>\n",
       "      <td>1</td>\n",
       "      <td>0</td>\n",
       "      <td>1</td>\n",
       "      <td>1</td>\n",
       "      <td>0</td>\n",
       "    </tr>\n",
       "    <tr>\n",
       "      <th>3</th>\n",
       "      <td>1006</td>\n",
       "      <td>288</td>\n",
       "      <td>1</td>\n",
       "      <td>0</td>\n",
       "      <td>75</td>\n",
       "      <td>5</td>\n",
       "      <td>0</td>\n",
       "      <td>40.411894</td>\n",
       "      <td>-3.736324</td>\n",
       "      <td>1</td>\n",
       "      <td>0</td>\n",
       "      <td>1</td>\n",
       "      <td>1</td>\n",
       "      <td>0</td>\n",
       "    </tr>\n",
       "    <tr>\n",
       "      <th>4</th>\n",
       "      <td>1009</td>\n",
       "      <td>276</td>\n",
       "      <td>0</td>\n",
       "      <td>0</td>\n",
       "      <td>76</td>\n",
       "      <td>5</td>\n",
       "      <td>0</td>\n",
       "      <td>40.416233</td>\n",
       "      <td>-3.724909</td>\n",
       "      <td>1</td>\n",
       "      <td>0</td>\n",
       "      <td>1</td>\n",
       "      <td>1</td>\n",
       "      <td>0</td>\n",
       "    </tr>\n",
       "  </tbody>\n",
       "</table>\n",
       "</div>"
      ],
      "text/plain": [
       "     id  intensidad  ocupacion  carga  vmed  periodo_integracion  Hora  \\\n",
       "0  1001         204         12      0    73                    5     0   \n",
       "1  1002         252          1      0    79                    5     0   \n",
       "2  1003         420          2      0    82                    5     0   \n",
       "3  1006         288          1      0    75                    5     0   \n",
       "4  1009         276          0      0    76                    5     0   \n",
       "\n",
       "         Lat      Long  M30  URB  Mes  Dia  Minutos  \n",
       "0  40.409729 -3.740786    1    0    1    1        0  \n",
       "1  40.408029 -3.743760    1    0    1    1        0  \n",
       "2  40.406824 -3.746834    1    0    1    1        0  \n",
       "3  40.411894 -3.736324    1    0    1    1        0  \n",
       "4  40.416233 -3.724909    1    0    1    1        0  "
      ]
     },
     "execution_count": 6,
     "metadata": {
      "tags": []
     },
     "output_type": "execute_result"
    }
   ],
   "source": [
    "df.head()"
   ]
  },
  {
   "cell_type": "code",
   "execution_count": 0,
   "metadata": {
    "colab": {
     "base_uri": "https://localhost:8080/",
     "height": 201
    },
    "colab_type": "code",
    "executionInfo": {
     "elapsed": 21822,
     "status": "ok",
     "timestamp": 1547583999101,
     "user": {
      "displayName": "Antonio Bravo Muñoz",
      "photoUrl": "https://lh5.googleusercontent.com/-I0fIeuNLzog/AAAAAAAAAAI/AAAAAAAAAAs/MDZ3MDDdQoQ/s64/photo.jpg",
      "userId": "01083771191048821860"
     },
     "user_tz": -60
    },
    "id": "AGdfNXROT9JN",
    "outputId": "06bddb3a-8bb1-4841-c1f0-7ba14fcfefd5"
   },
   "outputs": [
    {
     "data": {
      "text/html": [
       "<div>\n",
       "<style scoped>\n",
       "    .dataframe tbody tr th:only-of-type {\n",
       "        vertical-align: middle;\n",
       "    }\n",
       "\n",
       "    .dataframe tbody tr th {\n",
       "        vertical-align: top;\n",
       "    }\n",
       "\n",
       "    .dataframe thead th {\n",
       "        text-align: right;\n",
       "    }\n",
       "</style>\n",
       "<table border=\"1\" class=\"dataframe\">\n",
       "  <thead>\n",
       "    <tr style=\"text-align: right;\">\n",
       "      <th></th>\n",
       "      <th>id</th>\n",
       "      <th>intensidad</th>\n",
       "      <th>ocupacion</th>\n",
       "      <th>carga</th>\n",
       "      <th>vmed</th>\n",
       "      <th>periodo_integracion</th>\n",
       "      <th>Hora</th>\n",
       "      <th>Lat</th>\n",
       "      <th>Long</th>\n",
       "      <th>M30</th>\n",
       "      <th>URB</th>\n",
       "      <th>Mes</th>\n",
       "      <th>Dia</th>\n",
       "      <th>Minutos</th>\n",
       "    </tr>\n",
       "  </thead>\n",
       "  <tbody>\n",
       "    <tr>\n",
       "      <th>4846937</th>\n",
       "      <td>5993</td>\n",
       "      <td>0</td>\n",
       "      <td>0</td>\n",
       "      <td>0</td>\n",
       "      <td>0</td>\n",
       "      <td>15</td>\n",
       "      <td>2</td>\n",
       "      <td>40.417211</td>\n",
       "      <td>-3.623704</td>\n",
       "      <td>0</td>\n",
       "      <td>1</td>\n",
       "      <td>3</td>\n",
       "      <td>31</td>\n",
       "      <td>0</td>\n",
       "    </tr>\n",
       "    <tr>\n",
       "      <th>600194</th>\n",
       "      <td>6684</td>\n",
       "      <td>2768</td>\n",
       "      <td>10</td>\n",
       "      <td>78</td>\n",
       "      <td>88</td>\n",
       "      <td>15</td>\n",
       "      <td>13</td>\n",
       "      <td>40.387559</td>\n",
       "      <td>-3.680936</td>\n",
       "      <td>1</td>\n",
       "      <td>0</td>\n",
       "      <td>1</td>\n",
       "      <td>15</td>\n",
       "      <td>15</td>\n",
       "    </tr>\n",
       "    <tr>\n",
       "      <th>9084408</th>\n",
       "      <td>6846</td>\n",
       "      <td>3756</td>\n",
       "      <td>9</td>\n",
       "      <td>0</td>\n",
       "      <td>61</td>\n",
       "      <td>5</td>\n",
       "      <td>15</td>\n",
       "      <td>40.399618</td>\n",
       "      <td>-3.720037</td>\n",
       "      <td>1</td>\n",
       "      <td>0</td>\n",
       "      <td>5</td>\n",
       "      <td>15</td>\n",
       "      <td>45</td>\n",
       "    </tr>\n",
       "    <tr>\n",
       "      <th>4902448</th>\n",
       "      <td>1015</td>\n",
       "      <td>3588</td>\n",
       "      <td>22</td>\n",
       "      <td>0</td>\n",
       "      <td>23</td>\n",
       "      <td>5</td>\n",
       "      <td>8</td>\n",
       "      <td>40.420487</td>\n",
       "      <td>-3.721843</td>\n",
       "      <td>1</td>\n",
       "      <td>0</td>\n",
       "      <td>2</td>\n",
       "      <td>1</td>\n",
       "      <td>45</td>\n",
       "    </tr>\n",
       "    <tr>\n",
       "      <th>1525845</th>\n",
       "      <td>6772</td>\n",
       "      <td>1208</td>\n",
       "      <td>4</td>\n",
       "      <td>35</td>\n",
       "      <td>59</td>\n",
       "      <td>15</td>\n",
       "      <td>16</td>\n",
       "      <td>40.484712</td>\n",
       "      <td>-3.697591</td>\n",
       "      <td>1</td>\n",
       "      <td>0</td>\n",
       "      <td>7</td>\n",
       "      <td>7</td>\n",
       "      <td>15</td>\n",
       "    </tr>\n",
       "  </tbody>\n",
       "</table>\n",
       "</div>"
      ],
      "text/plain": [
       "           id  intensidad  ocupacion  carga  vmed  periodo_integracion  Hora  \\\n",
       "4846937  5993           0          0      0     0                   15     2   \n",
       "600194   6684        2768         10     78    88                   15    13   \n",
       "9084408  6846        3756          9      0    61                    5    15   \n",
       "4902448  1015        3588         22      0    23                    5     8   \n",
       "1525845  6772        1208          4     35    59                   15    16   \n",
       "\n",
       "               Lat      Long  M30  URB  Mes  Dia  Minutos  \n",
       "4846937  40.417211 -3.623704    0    1    3   31        0  \n",
       "600194   40.387559 -3.680936    1    0    1   15       15  \n",
       "9084408  40.399618 -3.720037    1    0    5   15       45  \n",
       "4902448  40.420487 -3.721843    1    0    2    1       45  \n",
       "1525845  40.484712 -3.697591    1    0    7    7       15  "
      ]
     },
     "execution_count": 7,
     "metadata": {
      "tags": []
     },
     "output_type": "execute_result"
    }
   ],
   "source": [
    "df.sample(5)"
   ]
  },
  {
   "cell_type": "code",
   "execution_count": 0,
   "metadata": {
    "colab": {
     "base_uri": "https://localhost:8080/",
     "height": 263
    },
    "colab_type": "code",
    "executionInfo": {
     "elapsed": 21810,
     "status": "ok",
     "timestamp": 1547583999102,
     "user": {
      "displayName": "Antonio Bravo Muñoz",
      "photoUrl": "https://lh5.googleusercontent.com/-I0fIeuNLzog/AAAAAAAAAAI/AAAAAAAAAAs/MDZ3MDDdQoQ/s64/photo.jpg",
      "userId": "01083771191048821860"
     },
     "user_tz": -60
    },
    "id": "bKVH_0gAT9Jh",
    "outputId": "d0d70fe9-848f-4970-cb8d-806e8b9eb5e3"
   },
   "outputs": [
    {
     "data": {
      "text/plain": [
       "id                       int64\n",
       "intensidad               int64\n",
       "ocupacion                int64\n",
       "carga                    int64\n",
       "vmed                     int64\n",
       "periodo_integracion      int64\n",
       "Hora                     int64\n",
       "Lat                    float64\n",
       "Long                   float64\n",
       "M30                      int64\n",
       "URB                      int64\n",
       "Mes                      int64\n",
       "Dia                      int64\n",
       "Minutos                  int64\n",
       "dtype: object"
      ]
     },
     "execution_count": 8,
     "metadata": {
      "tags": []
     },
     "output_type": "execute_result"
    }
   ],
   "source": [
    "df.dtypes"
   ]
  },
  {
   "cell_type": "markdown",
   "metadata": {
    "colab_type": "text",
    "id": "vImCkUnjT9Ju"
   },
   "source": [
    "SPLITTING THE DATASET IN TRAIN AND TEST SETS"
   ]
  },
  {
   "cell_type": "code",
   "execution_count": 0,
   "metadata": {
    "colab": {},
    "colab_type": "code",
    "id": "RBkCWXetT9Jv"
   },
   "outputs": [],
   "source": [
    "X=df.drop(['carga'],axis=1)"
   ]
  },
  {
   "cell_type": "code",
   "execution_count": 0,
   "metadata": {
    "colab": {
     "base_uri": "https://localhost:8080/",
     "height": 32
    },
    "colab_type": "code",
    "executionInfo": {
     "elapsed": 21798,
     "status": "ok",
     "timestamp": 1547583999104,
     "user": {
      "displayName": "Antonio Bravo Muñoz",
      "photoUrl": "https://lh5.googleusercontent.com/-I0fIeuNLzog/AAAAAAAAAAI/AAAAAAAAAAs/MDZ3MDDdQoQ/s64/photo.jpg",
      "userId": "01083771191048821860"
     },
     "user_tz": -60
    },
    "id": "jNZ5Kv0uT9Jy",
    "outputId": "ffd70860-e34d-4cb4-95a3-a05bedb97ecd"
   },
   "outputs": [
    {
     "data": {
      "text/plain": [
       "numpy.int64"
      ]
     },
     "execution_count": 10,
     "metadata": {
      "tags": []
     },
     "output_type": "execute_result"
    }
   ],
   "source": [
    "type(X['Hora'][0])"
   ]
  },
  {
   "cell_type": "code",
   "execution_count": 0,
   "metadata": {
    "colab": {
     "base_uri": "https://localhost:8080/",
     "height": 32
    },
    "colab_type": "code",
    "executionInfo": {
     "elapsed": 21786,
     "status": "ok",
     "timestamp": 1547583999105,
     "user": {
      "displayName": "Antonio Bravo Muñoz",
      "photoUrl": "https://lh5.googleusercontent.com/-I0fIeuNLzog/AAAAAAAAAAI/AAAAAAAAAAs/MDZ3MDDdQoQ/s64/photo.jpg",
      "userId": "01083771191048821860"
     },
     "user_tz": -60
    },
    "id": "l0q9WRsXT9J3",
    "outputId": "a2abf50c-762e-4712-a63a-d2dafcecef84"
   },
   "outputs": [
    {
     "data": {
      "text/plain": [
       "(9740545, 13)"
      ]
     },
     "execution_count": 11,
     "metadata": {
      "tags": []
     },
     "output_type": "execute_result"
    }
   ],
   "source": [
    "X.shape"
   ]
  },
  {
   "cell_type": "code",
   "execution_count": 0,
   "metadata": {
    "colab": {},
    "colab_type": "code",
    "id": "AUiA4i1oT9J7"
   },
   "outputs": [],
   "source": [
    "y=df['carga']"
   ]
  },
  {
   "cell_type": "code",
   "execution_count": 0,
   "metadata": {
    "colab": {
     "base_uri": "https://localhost:8080/",
     "height": 32
    },
    "colab_type": "code",
    "executionInfo": {
     "elapsed": 22092,
     "status": "ok",
     "timestamp": 1547583999426,
     "user": {
      "displayName": "Antonio Bravo Muñoz",
      "photoUrl": "https://lh5.googleusercontent.com/-I0fIeuNLzog/AAAAAAAAAAI/AAAAAAAAAAs/MDZ3MDDdQoQ/s64/photo.jpg",
      "userId": "01083771191048821860"
     },
     "user_tz": -60
    },
    "id": "Q2mo_AfGT9J-",
    "outputId": "dfecb4d1-7407-482a-b170-8fede76a1167"
   },
   "outputs": [
    {
     "data": {
      "text/plain": [
       "(9740545,)"
      ]
     },
     "execution_count": 13,
     "metadata": {
      "tags": []
     },
     "output_type": "execute_result"
    }
   ],
   "source": [
    "y.shape"
   ]
  },
  {
   "cell_type": "markdown",
   "metadata": {
    "colab_type": "text",
    "id": "blk47KWRT9KO"
   },
   "source": [
    "Training With GridSearchCV"
   ]
  },
  {
   "cell_type": "code",
   "execution_count": 0,
   "metadata": {
    "colab": {
     "base_uri": "https://localhost:8080/",
     "height": 152
    },
    "colab_type": "code",
    "executionInfo": {
     "elapsed": 262343,
     "status": "ok",
     "timestamp": 1547063009709,
     "user": {
      "displayName": "Antonio Bravo Muñoz",
      "photoUrl": "https://lh5.googleusercontent.com/-I0fIeuNLzog/AAAAAAAAAAI/AAAAAAAAAAs/MDZ3MDDdQoQ/s64/photo.jpg",
      "userId": "01083771191048821860"
     },
     "user_tz": -60
    },
    "id": "KLZyvf4vT9KR",
    "outputId": "02241e69-1492-4bcb-dbb4-bc4c004e985a"
   },
   "outputs": [
    {
     "name": "stderr",
     "output_type": "stream",
     "text": [
      "/usr/local/lib/python3.6/dist-packages/sklearn/model_selection/_split.py:2053: FutureWarning: You should specify a value for 'cv' instead of relying on the default value. The default value will change from 3 to 5 in version 0.22.\n",
      "  warnings.warn(CV_WARNING, FutureWarning)\n"
     ]
    },
    {
     "name": "stdout",
     "output_type": "stream",
     "text": [
      "-55.22309243886141\n",
      "7.4312241547985485\n",
      "{'max_depth': 5, 'min_samples_leaf': 10}\n",
      "CPU times: user 3min 58s, sys: 3.11 s, total: 4min 1s\n",
      "Wall time: 4min 1s\n"
     ]
    }
   ],
   "source": [
    "%%time\n",
    "#Decission Tree\n",
    "reg_DeciTree=GridSearchCV(DecisionTreeRegressor(min_samples_leaf=1,max_depth=4),\n",
    "                          param_grid={\"min_samples_leaf\":[10,20,30],\"max_depth\":range(5,6)},\n",
    "                          scoring=\"neg_mean_squared_error\"\n",
    "                          )\n",
    "reg_DeciTree.fit(X,y)\n",
    "print(reg_DeciTree.best_score_)\n",
    "print(np.sqrt(-reg_DeciTree.best_score_))\n",
    "print(reg_DeciTree.best_params_)"
   ]
  },
  {
   "cell_type": "code",
   "execution_count": 0,
   "metadata": {
    "colab": {
     "base_uri": "https://localhost:8080/",
     "height": 152
    },
    "colab_type": "code",
    "executionInfo": {
     "elapsed": 496128,
     "status": "ok",
     "timestamp": 1547064497842,
     "user": {
      "displayName": "Antonio Bravo Muñoz",
      "photoUrl": "https://lh5.googleusercontent.com/-I0fIeuNLzog/AAAAAAAAAAI/AAAAAAAAAAs/MDZ3MDDdQoQ/s64/photo.jpg",
      "userId": "01083771191048821860"
     },
     "user_tz": -60
    },
    "id": "BPjGipZjKP2M",
    "outputId": "41e19797-1f7f-4fb4-aaa5-113e35446e91"
   },
   "outputs": [
    {
     "name": "stderr",
     "output_type": "stream",
     "text": [
      "/usr/local/lib/python3.6/dist-packages/sklearn/model_selection/_split.py:2053: FutureWarning: You should specify a value for 'cv' instead of relying on the default value. The default value will change from 3 to 5 in version 0.22.\n",
      "  warnings.warn(CV_WARNING, FutureWarning)\n"
     ]
    },
    {
     "name": "stdout",
     "output_type": "stream",
     "text": [
      "-33.74100075145445\n",
      "5.8087004356787455\n",
      "{'max_depth': 9, 'min_samples_leaf': 30}\n",
      "CPU times: user 7min 58s, sys: 3.82 s, total: 8min 2s\n",
      "Wall time: 8min 2s\n"
     ]
    }
   ],
   "source": [
    "%%time\n",
    "#Decission Tree v2\n",
    "reg_DeciTree2=GridSearchCV(DecisionTreeRegressor(min_samples_leaf=10,max_depth=9),\n",
    "                          param_grid={\"min_samples_leaf\":[10,20,30],\"max_depth\":range(9,10)},\n",
    "                          scoring=\"neg_mean_squared_error\"\n",
    "                          )\n",
    "reg_DeciTree2.fit(X,y)\n",
    "print(reg_DeciTree2.best_score_)\n",
    "print(np.sqrt(-reg_DeciTree2.best_score_))\n",
    "print(reg_DeciTree2.best_params_)"
   ]
  },
  {
   "cell_type": "code",
   "execution_count": 0,
   "metadata": {
    "colab": {
     "base_uri": "https://localhost:8080/",
     "height": 135
    },
    "colab_type": "code",
    "executionInfo": {
     "elapsed": 221720,
     "status": "ok",
     "timestamp": 1547066514254,
     "user": {
      "displayName": "Antonio Bravo Muñoz",
      "photoUrl": "https://lh5.googleusercontent.com/-I0fIeuNLzog/AAAAAAAAAAI/AAAAAAAAAAs/MDZ3MDDdQoQ/s64/photo.jpg",
      "userId": "01083771191048821860"
     },
     "user_tz": -60
    },
    "id": "0Wdxg0cTT9KZ",
    "outputId": "2135e88c-59e4-43f1-9557-9c2933b957b1"
   },
   "outputs": [
    {
     "name": "stderr",
     "output_type": "stream",
     "text": [
      "/usr/local/lib/python3.6/dist-packages/sklearn/model_selection/_split.py:2053: FutureWarning: You should specify a value for 'cv' instead of relying on the default value. The default value will change from 3 to 5 in version 0.22.\n",
      "  warnings.warn(CV_WARNING, FutureWarning)\n"
     ]
    },
    {
     "name": "stdout",
     "output_type": "stream",
     "text": [
      "2.5516449684326363\n",
      "{'max_depth': 19, 'min_samples_leaf': 20}\n",
      "CPU times: user 11min 19s, sys: 2.76 s, total: 11min 22s\n",
      "Wall time: 11min 22s\n"
     ]
    }
   ],
   "source": [
    "%%time\n",
    "#Decission Tree v3\n",
    "reg_DeciTree3=GridSearchCV(DecisionTreeRegressor(min_samples_leaf=1,max_depth=19),\n",
    "                          param_grid={\"min_samples_leaf\":[10,20,30],\"max_depth\":range(19,20)},\n",
    "                          scoring=\"neg_mean_squared_error\"\n",
    "                          )\n",
    "reg_DeciTree3.fit(X,y)\n",
    "print(np.sqrt(-reg_DeciTree3.best_score_))\n",
    "print(reg_DeciTree3.best_params_)"
   ]
  },
  {
   "cell_type": "code",
   "execution_count": 0,
   "metadata": {
    "colab": {
     "base_uri": "https://localhost:8080/",
     "height": 169
    },
    "colab_type": "code",
    "executionInfo": {
     "elapsed": 2003891,
     "status": "ok",
     "timestamp": 1547231203439,
     "user": {
      "displayName": "Antonio Bravo Muñoz",
      "photoUrl": "https://lh5.googleusercontent.com/-I0fIeuNLzog/AAAAAAAAAAI/AAAAAAAAAAs/MDZ3MDDdQoQ/s64/photo.jpg",
      "userId": "01083771191048821860"
     },
     "user_tz": -60
    },
    "id": "pJqSeLLkT9Kd",
    "outputId": "a657506d-181e-450a-a73c-88eb2f5a73d8"
   },
   "outputs": [
    {
     "name": "stderr",
     "output_type": "stream",
     "text": [
      "/usr/local/lib/python3.6/dist-packages/sklearn/model_selection/_split.py:2053: FutureWarning: You should specify a value for 'cv' instead of relying on the default value. The default value will change from 3 to 5 in version 0.22.\n",
      "  warnings.warn(CV_WARNING, FutureWarning)\n"
     ]
    },
    {
     "name": "stdout",
     "output_type": "stream",
     "text": [
      "5.237243637879109\n",
      "2.288502488064872\n",
      "{'max_depth': 19, 'min_samples_leaf': 20}\n",
      "CPU times: user 4h 35min 19s, sys: 12.2 s, total: 4h 35min 32s\n",
      "Wall time: 4h 35min 38s\n"
     ]
    }
   ],
   "source": [
    "%%time\n",
    "#Random Forest\n",
    "reg_RF=GridSearchCV(RandomForestRegressor(n_estimators=50,min_samples_leaf=20,max_depth=19),\n",
    "                          param_grid={\"min_samples_leaf\":[20,30],\"max_depth\":range(19,20)},\n",
    "                          scoring=\"neg_mean_squared_error\"\n",
    "                          )\n",
    "reg_RF.fit(X,y)\n",
    "print(-reg_RF.best_score_)\n",
    "print(np.sqrt(-reg_RF.best_score_))\n",
    "print(reg_RF.best_params_)"
   ]
  },
  {
   "cell_type": "code",
   "execution_count": 0,
   "metadata": {
    "colab": {
     "base_uri": "https://localhost:8080/",
     "height": 32
    },
    "colab_type": "code",
    "executionInfo": {
     "elapsed": 10434,
     "status": "ok",
     "timestamp": 1547231791755,
     "user": {
      "displayName": "Antonio Bravo Muñoz",
      "photoUrl": "https://lh5.googleusercontent.com/-I0fIeuNLzog/AAAAAAAAAAI/AAAAAAAAAAs/MDZ3MDDdQoQ/s64/photo.jpg",
      "userId": "01083771191048821860"
     },
     "user_tz": -60
    },
    "id": "RIOJ5f0OMNeU",
    "outputId": "f4914547-ec08-45c7-8714-162dcb897336"
   },
   "outputs": [
    {
     "data": {
      "text/plain": [
       "['/content/drive/My Drive/Colab_Notebooks/TFM_Kschool/randomforest_colab.pkl']"
      ]
     },
     "execution_count": 19,
     "metadata": {
      "tags": []
     },
     "output_type": "execute_result"
    }
   ],
   "source": [
    "from sklearn.externals import joblib\n",
    "joblib.dump(reg_RF.best_estimator_, '/content/drive/My Drive/Colab_Notebooks/TFM_Kschool/randomforest_colab.pkl', compress = 1)"
   ]
  },
  {
   "cell_type": "code",
   "execution_count": 0,
   "metadata": {
    "colab": {},
    "colab_type": "code",
    "id": "NeEXn3kZLKWu"
   },
   "outputs": [],
   "source": []
  },
  {
   "cell_type": "code",
   "execution_count": 0,
   "metadata": {
    "colab": {
     "base_uri": "https://localhost:8080/",
     "height": 167
    },
    "colab_type": "code",
    "executionInfo": {
     "elapsed": 5763181,
     "status": "ok",
     "timestamp": 1547302090937,
     "user": {
      "displayName": "Antonio Bravo Muñoz",
      "photoUrl": "https://lh5.googleusercontent.com/-I0fIeuNLzog/AAAAAAAAAAI/AAAAAAAAAAs/MDZ3MDDdQoQ/s64/photo.jpg",
      "userId": "01083771191048821860"
     },
     "user_tz": -60
    },
    "id": "vX3-musbT9Kh",
    "outputId": "3a8fbaf5-c407-4e0b-d04b-589ef5ff91cd"
   },
   "outputs": [
    {
     "name": "stderr",
     "output_type": "stream",
     "text": [
      "/usr/local/lib/python3.6/dist-packages/sklearn/model_selection/_split.py:2053: FutureWarning: You should specify a value for 'cv' instead of relying on the default value. The default value will change from 3 to 5 in version 0.22.\n",
      "  warnings.warn(CV_WARNING, FutureWarning)\n"
     ]
    },
    {
     "name": "stdout",
     "output_type": "stream",
     "text": [
      "-8.799743849180878\n",
      "2.966436220312326\n",
      "{'max_depth': 19, 'min_samples_leaf': 20}\n",
      "CPU times: user 4h 55min 19s, sys: 29.9 s, total: 4h 55min 49s\n",
      "Wall time: 4h 55min 51s\n"
     ]
    }
   ],
   "source": [
    "%%time\n",
    "#XGBoost\n",
    "reg_XGB=GridSearchCV(XGBRegressor(n_estimators=50,min_samples_leaf=20,max_depth=19),\n",
    "                          param_grid={\"min_samples_leaf\":[20,30],\"max_depth\":range(19,20)},\n",
    "                          scoring=\"neg_mean_squared_error\"\n",
    "                          )\n",
    "reg_XGB.fit(X,y)\n",
    "print(reg_XGB.best_score_)\n",
    "print(np.sqrt(-reg_XGB.best_score_))\n",
    "print(reg_XGB.best_params_)"
   ]
  },
  {
   "cell_type": "code",
   "execution_count": 0,
   "metadata": {
    "colab": {
     "base_uri": "https://localhost:8080/",
     "height": 32
    },
    "colab_type": "code",
    "executionInfo": {
     "elapsed": 8630,
     "status": "ok",
     "timestamp": 1547304770517,
     "user": {
      "displayName": "Antonio Bravo Muñoz",
      "photoUrl": "https://lh5.googleusercontent.com/-I0fIeuNLzog/AAAAAAAAAAI/AAAAAAAAAAs/MDZ3MDDdQoQ/s64/photo.jpg",
      "userId": "01083771191048821860"
     },
     "user_tz": -60
    },
    "id": "VLeOxas0jHiv",
    "outputId": "311a8638-01de-425c-b5ad-44cf8c155df8"
   },
   "outputs": [
    {
     "data": {
      "text/plain": [
       "['/content/drive/My Drive/Colab_Notebooks/TFM_Kschool/xgb_colab.pkl']"
      ]
     },
     "execution_count": 16,
     "metadata": {
      "tags": []
     },
     "output_type": "execute_result"
    }
   ],
   "source": [
    "from sklearn.externals import joblib\n",
    "joblib.dump(reg_XGB.best_estimator_, '/content/drive/My Drive/Colab_Notebooks/TFM_Kschool/xgb_colab.pkl', compress = 1)"
   ]
  },
  {
   "cell_type": "markdown",
   "metadata": {
    "colab_type": "text",
    "id": "Yr3rtM8Kop-O"
   },
   "source": [
    "**The following algorithm has been selected for the final model. The result cell has been removed by error, the results can be see in the project report and in the Data Modeling and Predictions-full dataset.ipynb notebook.**"
   ]
  },
  {
   "cell_type": "code",
   "execution_count": 0,
   "metadata": {
    "colab": {},
    "colab_type": "code",
    "id": "ASZPX8L0T9Kk"
   },
   "outputs": [],
   "source": [
    "%%time\n",
    "#Random Forest2\n",
    "reg_RF2=GridSearchCV(RandomForestRegressor(n_estimators=100,min_samples_leaf=20,max_depth=28),\n",
    "                          param_grid={\"min_samples_leaf\":[20,30],\"max_depth\":range(29,30)},\n",
    "                          scoring=\"neg_mean_squared_error\"\n",
    "                          )\n",
    "reg_RF2.fit(X,y)\n",
    "print(reg_RF2.best_score_)\n",
    "print(np.sqrt(-reg_RF2.best_score_))\n",
    "print(reg_RF2.best_params_)"
   ]
  },
  {
   "cell_type": "code",
   "execution_count": 0,
   "metadata": {
    "colab": {
     "base_uri": "https://localhost:8080/",
     "height": 32
    },
    "colab_type": "code",
    "executionInfo": {
     "elapsed": 49347,
     "status": "ok",
     "timestamp": 1547411338789,
     "user": {
      "displayName": "Antonio Bravo Muñoz",
      "photoUrl": "https://lh5.googleusercontent.com/-I0fIeuNLzog/AAAAAAAAAAI/AAAAAAAAAAs/MDZ3MDDdQoQ/s64/photo.jpg",
      "userId": "01083771191048821860"
     },
     "user_tz": -60
    },
    "id": "5OuItqQmLA5d",
    "outputId": "3bd970d3-cd89-4fc8-f069-a770814755c6"
   },
   "outputs": [
    {
     "data": {
      "text/plain": [
       "['/content/drive/My Drive/Colab_Notebooks/randomforest2_colab_compr3.pkl']"
      ]
     },
     "execution_count": 26,
     "metadata": {
      "tags": []
     },
     "output_type": "execute_result"
    }
   ],
   "source": [
    "from sklearn.externals import joblib\n",
    "joblib.dump(reg_RF2.best_estimator_, '/content/drive/My Drive/Colab_Notebooks/TFM_Kschool/randomforest2_colab_compr3.pkl', compress = 3)"
   ]
  },
  {
   "cell_type": "code",
   "execution_count": 0,
   "metadata": {
    "colab": {},
    "colab_type": "code",
    "id": "MG_N0eAgSNOC"
   },
   "outputs": [],
   "source": []
  },
  {
   "cell_type": "markdown",
   "metadata": {
    "colab_type": "text",
    "id": "8eApHS4zpYMw"
   },
   "source": [
    "The following result cell has been removed by error, the results can be see in the project report and in the Data Modeling and Predictions-full dataset.ipynb notebook."
   ]
  },
  {
   "cell_type": "code",
   "execution_count": 0,
   "metadata": {
    "colab": {
     "base_uri": "https://localhost:8080/",
     "height": 72
    },
    "colab_type": "code",
    "id": "KpnTZBZw3EtL",
    "outputId": "5529e06f-0118-4e33-8751-903815e56fd2"
   },
   "outputs": [
    {
     "name": "stderr",
     "output_type": "stream",
     "text": [
      "/usr/local/lib/python3.6/dist-packages/sklearn/model_selection/_split.py:2053: FutureWarning: You should specify a value for 'cv' instead of relying on the default value. The default value will change from 3 to 5 in version 0.22.\n",
      "  warnings.warn(CV_WARNING, FutureWarning)\n"
     ]
    }
   ],
   "source": [
    "%%time\n",
    "#XGBoost2\n",
    "reg_XGB2=GridSearchCV(XGBRegressor(n_estimators=100,min_samples_leaf=20,max_depth=28),\n",
    "                          param_grid={\"min_samples_leaf\":[20,30],\"max_depth\":range(29,30)},\n",
    "                          scoring=\"neg_mean_squared_error\"\n",
    "                          )\n",
    "reg_XGB2.fit(X,y)\n",
    "print(reg_XGB2.best_score_)\n",
    "print(np.sqrt(-reg_XGB2.best_score_))\n",
    "print(reg_XGB2.best_params_)"
   ]
  },
  {
   "cell_type": "code",
   "execution_count": 0,
   "metadata": {
    "colab": {},
    "colab_type": "code",
    "id": "iv_Ki2lBz1Og"
   },
   "outputs": [],
   "source": [
    "from sklearn.externals import joblib\n",
    "joblib.dump(reg_XGB2.best_estimator_, '/content/drive/My Drive/Colab_Notebooks/TFM_Kschool/xgb2_colab.pkl', compress = 3)"
   ]
  },
  {
   "cell_type": "code",
   "execution_count": 0,
   "metadata": {
    "colab": {},
    "colab_type": "code",
    "id": "3WtwUhURT9Kq"
   },
   "outputs": [],
   "source": []
  },
  {
   "cell_type": "code",
   "execution_count": 0,
   "metadata": {
    "colab": {},
    "colab_type": "code",
    "id": "Ndd6J_vdT9Kr"
   },
   "outputs": [],
   "source": []
  }
 ],
 "metadata": {
  "accelerator": "GPU",
  "colab": {
   "collapsed_sections": [],
   "name": "Data Modeling Colab-full dataset.ipynb",
   "provenance": [],
   "version": "0.3.2"
  },
  "kernelspec": {
   "display_name": "Python 3",
   "language": "python",
   "name": "python3"
  },
  "language_info": {
   "codemirror_mode": {
    "name": "ipython",
    "version": 3
   },
   "file_extension": ".py",
   "mimetype": "text/x-python",
   "name": "python",
   "nbconvert_exporter": "python",
   "pygments_lexer": "ipython3",
   "version": "3.6.6"
  }
 },
 "nbformat": 4,
 "nbformat_minor": 1
}

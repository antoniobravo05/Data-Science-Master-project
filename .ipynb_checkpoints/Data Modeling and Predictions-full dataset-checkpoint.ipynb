{
 "cells": [
  {
   "cell_type": "markdown",
   "metadata": {},
   "source": [
    "## **IMPORT PACKAGES**"
   ]
  },
  {
   "cell_type": "markdown",
   "metadata": {},
   "source": [
    "To install xgboost package: *!conda install -c conda-forge xgboost*"
   ]
  },
  {
   "cell_type": "code",
   "execution_count": 1,
   "metadata": {},
   "outputs": [],
   "source": [
    "import pandas as pd\n",
    "import numpy as np\n",
    "from sklearn.model_selection import train_test_split\n",
    "from sklearn.metrics import accuracy_score\n",
    "from sklearn.model_selection import cross_val_score\n",
    "from sklearn.model_selection import GridSearchCV\n",
    "from sklearn.neighbors import KNeighborsRegressor\n",
    "from sklearn.tree import DecisionTreeRegressor\n",
    "from sklearn.ensemble import RandomForestRegressor\n",
    "from sklearn.ensemble import GradientBoostingRegressor\n",
    "from xgboost import XGBRegressor\n",
    "import matplotlib.pyplot as plt\n",
    "%matplotlib inline\n",
    "import datetime"
   ]
  },
  {
   "cell_type": "markdown",
   "metadata": {},
   "source": [
    "## **READING PREPARED DATASET**"
   ]
  },
  {
   "cell_type": "code",
   "execution_count": 2,
   "metadata": {},
   "outputs": [
    {
     "name": "stdout",
     "output_type": "stream",
     "text": [
      "CPU times: user 14.8 s, sys: 1.79 s, total: 16.6 s\n",
      "Wall time: 16.4 s\n"
     ]
    }
   ],
   "source": [
    "%%time\n",
    "source = '/Users/antoniobravomunoz/Documents/DATA_SCIENCE_MASTER/TFM/Data-Science-Master-project/DATA/traffic_data_complete.csv'\n",
    "df = pd.read_csv(source,sep=',')"
   ]
  },
  {
   "cell_type": "code",
   "execution_count": 3,
   "metadata": {},
   "outputs": [
    {
     "data": {
      "text/html": [
       "<div>\n",
       "<style scoped>\n",
       "    .dataframe tbody tr th:only-of-type {\n",
       "        vertical-align: middle;\n",
       "    }\n",
       "\n",
       "    .dataframe tbody tr th {\n",
       "        vertical-align: top;\n",
       "    }\n",
       "\n",
       "    .dataframe thead th {\n",
       "        text-align: right;\n",
       "    }\n",
       "</style>\n",
       "<table border=\"1\" class=\"dataframe\">\n",
       "  <thead>\n",
       "    <tr style=\"text-align: right;\">\n",
       "      <th></th>\n",
       "      <th>id</th>\n",
       "      <th>intensidad</th>\n",
       "      <th>ocupacion</th>\n",
       "      <th>carga</th>\n",
       "      <th>vmed</th>\n",
       "      <th>periodo_integracion</th>\n",
       "      <th>Hora</th>\n",
       "      <th>Lat</th>\n",
       "      <th>Long</th>\n",
       "      <th>M30</th>\n",
       "      <th>URB</th>\n",
       "      <th>Mes</th>\n",
       "      <th>Dia</th>\n",
       "      <th>Minutos</th>\n",
       "    </tr>\n",
       "  </thead>\n",
       "  <tbody>\n",
       "    <tr>\n",
       "      <th>0</th>\n",
       "      <td>1001</td>\n",
       "      <td>204</td>\n",
       "      <td>12</td>\n",
       "      <td>0</td>\n",
       "      <td>73</td>\n",
       "      <td>5</td>\n",
       "      <td>0</td>\n",
       "      <td>40.409729</td>\n",
       "      <td>-3.740786</td>\n",
       "      <td>1</td>\n",
       "      <td>0</td>\n",
       "      <td>1</td>\n",
       "      <td>1</td>\n",
       "      <td>0</td>\n",
       "    </tr>\n",
       "    <tr>\n",
       "      <th>1</th>\n",
       "      <td>1002</td>\n",
       "      <td>252</td>\n",
       "      <td>1</td>\n",
       "      <td>0</td>\n",
       "      <td>79</td>\n",
       "      <td>5</td>\n",
       "      <td>0</td>\n",
       "      <td>40.408029</td>\n",
       "      <td>-3.743760</td>\n",
       "      <td>1</td>\n",
       "      <td>0</td>\n",
       "      <td>1</td>\n",
       "      <td>1</td>\n",
       "      <td>0</td>\n",
       "    </tr>\n",
       "    <tr>\n",
       "      <th>2</th>\n",
       "      <td>1003</td>\n",
       "      <td>420</td>\n",
       "      <td>2</td>\n",
       "      <td>0</td>\n",
       "      <td>82</td>\n",
       "      <td>5</td>\n",
       "      <td>0</td>\n",
       "      <td>40.406824</td>\n",
       "      <td>-3.746834</td>\n",
       "      <td>1</td>\n",
       "      <td>0</td>\n",
       "      <td>1</td>\n",
       "      <td>1</td>\n",
       "      <td>0</td>\n",
       "    </tr>\n",
       "    <tr>\n",
       "      <th>3</th>\n",
       "      <td>1006</td>\n",
       "      <td>288</td>\n",
       "      <td>1</td>\n",
       "      <td>0</td>\n",
       "      <td>75</td>\n",
       "      <td>5</td>\n",
       "      <td>0</td>\n",
       "      <td>40.411894</td>\n",
       "      <td>-3.736324</td>\n",
       "      <td>1</td>\n",
       "      <td>0</td>\n",
       "      <td>1</td>\n",
       "      <td>1</td>\n",
       "      <td>0</td>\n",
       "    </tr>\n",
       "    <tr>\n",
       "      <th>4</th>\n",
       "      <td>1009</td>\n",
       "      <td>276</td>\n",
       "      <td>0</td>\n",
       "      <td>0</td>\n",
       "      <td>76</td>\n",
       "      <td>5</td>\n",
       "      <td>0</td>\n",
       "      <td>40.416233</td>\n",
       "      <td>-3.724909</td>\n",
       "      <td>1</td>\n",
       "      <td>0</td>\n",
       "      <td>1</td>\n",
       "      <td>1</td>\n",
       "      <td>0</td>\n",
       "    </tr>\n",
       "  </tbody>\n",
       "</table>\n",
       "</div>"
      ],
      "text/plain": [
       "     id  intensidad  ocupacion  carga  vmed  periodo_integracion  Hora  \\\n",
       "0  1001         204         12      0    73                    5     0   \n",
       "1  1002         252          1      0    79                    5     0   \n",
       "2  1003         420          2      0    82                    5     0   \n",
       "3  1006         288          1      0    75                    5     0   \n",
       "4  1009         276          0      0    76                    5     0   \n",
       "\n",
       "         Lat      Long  M30  URB  Mes  Dia  Minutos  \n",
       "0  40.409729 -3.740786    1    0    1    1        0  \n",
       "1  40.408029 -3.743760    1    0    1    1        0  \n",
       "2  40.406824 -3.746834    1    0    1    1        0  \n",
       "3  40.411894 -3.736324    1    0    1    1        0  \n",
       "4  40.416233 -3.724909    1    0    1    1        0  "
      ]
     },
     "execution_count": 3,
     "metadata": {},
     "output_type": "execute_result"
    }
   ],
   "source": [
    "df.head()"
   ]
  },
  {
   "cell_type": "code",
   "execution_count": 4,
   "metadata": {},
   "outputs": [
    {
     "data": {
      "text/html": [
       "<div>\n",
       "<style scoped>\n",
       "    .dataframe tbody tr th:only-of-type {\n",
       "        vertical-align: middle;\n",
       "    }\n",
       "\n",
       "    .dataframe tbody tr th {\n",
       "        vertical-align: top;\n",
       "    }\n",
       "\n",
       "    .dataframe thead th {\n",
       "        text-align: right;\n",
       "    }\n",
       "</style>\n",
       "<table border=\"1\" class=\"dataframe\">\n",
       "  <thead>\n",
       "    <tr style=\"text-align: right;\">\n",
       "      <th></th>\n",
       "      <th>id</th>\n",
       "      <th>intensidad</th>\n",
       "      <th>ocupacion</th>\n",
       "      <th>carga</th>\n",
       "      <th>vmed</th>\n",
       "      <th>periodo_integracion</th>\n",
       "      <th>Hora</th>\n",
       "      <th>Lat</th>\n",
       "      <th>Long</th>\n",
       "      <th>M30</th>\n",
       "      <th>URB</th>\n",
       "      <th>Mes</th>\n",
       "      <th>Dia</th>\n",
       "      <th>Minutos</th>\n",
       "    </tr>\n",
       "  </thead>\n",
       "  <tbody>\n",
       "    <tr>\n",
       "      <th>8458800</th>\n",
       "      <td>6643</td>\n",
       "      <td>499</td>\n",
       "      <td>1</td>\n",
       "      <td>14</td>\n",
       "      <td>80</td>\n",
       "      <td>15</td>\n",
       "      <td>20</td>\n",
       "      <td>40.475980</td>\n",
       "      <td>-3.674579</td>\n",
       "      <td>1</td>\n",
       "      <td>0</td>\n",
       "      <td>4</td>\n",
       "      <td>30</td>\n",
       "      <td>45</td>\n",
       "    </tr>\n",
       "    <tr>\n",
       "      <th>6256376</th>\n",
       "      <td>6639</td>\n",
       "      <td>132</td>\n",
       "      <td>3</td>\n",
       "      <td>5</td>\n",
       "      <td>62</td>\n",
       "      <td>15</td>\n",
       "      <td>3</td>\n",
       "      <td>40.491675</td>\n",
       "      <td>-3.671563</td>\n",
       "      <td>1</td>\n",
       "      <td>0</td>\n",
       "      <td>8</td>\n",
       "      <td>7</td>\n",
       "      <td>45</td>\n",
       "    </tr>\n",
       "    <tr>\n",
       "      <th>5981614</th>\n",
       "      <td>6879</td>\n",
       "      <td>636</td>\n",
       "      <td>1</td>\n",
       "      <td>0</td>\n",
       "      <td>70</td>\n",
       "      <td>5</td>\n",
       "      <td>22</td>\n",
       "      <td>40.391415</td>\n",
       "      <td>-3.678074</td>\n",
       "      <td>1</td>\n",
       "      <td>0</td>\n",
       "      <td>2</td>\n",
       "      <td>27</td>\n",
       "      <td>15</td>\n",
       "    </tr>\n",
       "    <tr>\n",
       "      <th>8917386</th>\n",
       "      <td>6779</td>\n",
       "      <td>5105</td>\n",
       "      <td>20</td>\n",
       "      <td>77</td>\n",
       "      <td>61</td>\n",
       "      <td>15</td>\n",
       "      <td>17</td>\n",
       "      <td>40.369997</td>\n",
       "      <td>-3.720305</td>\n",
       "      <td>1</td>\n",
       "      <td>0</td>\n",
       "      <td>5</td>\n",
       "      <td>11</td>\n",
       "      <td>45</td>\n",
       "    </tr>\n",
       "    <tr>\n",
       "      <th>8301246</th>\n",
       "      <td>3495</td>\n",
       "      <td>446</td>\n",
       "      <td>0</td>\n",
       "      <td>9</td>\n",
       "      <td>90</td>\n",
       "      <td>14</td>\n",
       "      <td>5</td>\n",
       "      <td>40.417544</td>\n",
       "      <td>-3.654574</td>\n",
       "      <td>1</td>\n",
       "      <td>0</td>\n",
       "      <td>4</td>\n",
       "      <td>27</td>\n",
       "      <td>0</td>\n",
       "    </tr>\n",
       "  </tbody>\n",
       "</table>\n",
       "</div>"
      ],
      "text/plain": [
       "           id  intensidad  ocupacion  carga  vmed  periodo_integracion  Hora  \\\n",
       "8458800  6643         499          1     14    80                   15    20   \n",
       "6256376  6639         132          3      5    62                   15     3   \n",
       "5981614  6879         636          1      0    70                    5    22   \n",
       "8917386  6779        5105         20     77    61                   15    17   \n",
       "8301246  3495         446          0      9    90                   14     5   \n",
       "\n",
       "               Lat      Long  M30  URB  Mes  Dia  Minutos  \n",
       "8458800  40.475980 -3.674579    1    0    4   30       45  \n",
       "6256376  40.491675 -3.671563    1    0    8    7       45  \n",
       "5981614  40.391415 -3.678074    1    0    2   27       15  \n",
       "8917386  40.369997 -3.720305    1    0    5   11       45  \n",
       "8301246  40.417544 -3.654574    1    0    4   27        0  "
      ]
     },
     "execution_count": 4,
     "metadata": {},
     "output_type": "execute_result"
    }
   ],
   "source": [
    "df.sample(5)"
   ]
  },
  {
   "cell_type": "code",
   "execution_count": 5,
   "metadata": {},
   "outputs": [
    {
     "data": {
      "text/plain": [
       "id                       int64\n",
       "intensidad               int64\n",
       "ocupacion                int64\n",
       "carga                    int64\n",
       "vmed                     int64\n",
       "periodo_integracion      int64\n",
       "Hora                     int64\n",
       "Lat                    float64\n",
       "Long                   float64\n",
       "M30                      int64\n",
       "URB                      int64\n",
       "Mes                      int64\n",
       "Dia                      int64\n",
       "Minutos                  int64\n",
       "dtype: object"
      ]
     },
     "execution_count": 5,
     "metadata": {},
     "output_type": "execute_result"
    }
   ],
   "source": [
    "df.dtypes"
   ]
  },
  {
   "cell_type": "markdown",
   "metadata": {},
   "source": [
    "## **TRAIN: SPLIT DATASET IN X (OBSERVATIONS) AND Y (TARGET)**"
   ]
  },
  {
   "cell_type": "code",
   "execution_count": 6,
   "metadata": {},
   "outputs": [],
   "source": [
    "X=df.drop(['carga'],axis=1)"
   ]
  },
  {
   "cell_type": "code",
   "execution_count": 7,
   "metadata": {},
   "outputs": [
    {
     "data": {
      "text/plain": [
       "(9740545, 13)"
      ]
     },
     "execution_count": 7,
     "metadata": {},
     "output_type": "execute_result"
    }
   ],
   "source": [
    "X.shape"
   ]
  },
  {
   "cell_type": "code",
   "execution_count": 8,
   "metadata": {},
   "outputs": [],
   "source": [
    "y=df['carga']"
   ]
  },
  {
   "cell_type": "code",
   "execution_count": 9,
   "metadata": {},
   "outputs": [
    {
     "data": {
      "text/plain": [
       "(9740545,)"
      ]
     },
     "execution_count": 9,
     "metadata": {},
     "output_type": "execute_result"
    }
   ],
   "source": [
    "y.shape"
   ]
  },
  {
   "cell_type": "markdown",
   "metadata": {},
   "source": [
    "## **TEST: SPLIT SEPTEMBER-2018 DATASET IN X_test AND Y_test**"
   ]
  },
  {
   "cell_type": "markdown",
   "metadata": {},
   "source": [
    "Before split the dataset, we are going to apply it a processing like in *Data Acquisition and Preparation.ipynb* is done for the data used in train. This can be checked in *Data Acquisition and Preparation_test.ipynb* notebook."
   ]
  },
  {
   "cell_type": "markdown",
   "metadata": {},
   "source": [
    "Loading the file"
   ]
  },
  {
   "cell_type": "code",
   "execution_count": 10,
   "metadata": {},
   "outputs": [
    {
     "name": "stdout",
     "output_type": "stream",
     "text": [
      "CPU times: user 22.2 ms, sys: 30.3 ms, total: 52.5 ms\n",
      "Wall time: 92.1 ms\n"
     ]
    }
   ],
   "source": [
    "%%time\n",
    "sourceTest='/Users/antoniobravomunoz/Documents/DATA_SCIENCE_MASTER/TFM/Data-Science-Master-project/DATA/traffic_data_test_complete.csv'\n",
    "df_test=pd.read_csv(sourceTest,sep=',')"
   ]
  },
  {
   "cell_type": "code",
   "execution_count": 11,
   "metadata": {},
   "outputs": [
    {
     "data": {
      "text/html": [
       "<div>\n",
       "<style scoped>\n",
       "    .dataframe tbody tr th:only-of-type {\n",
       "        vertical-align: middle;\n",
       "    }\n",
       "\n",
       "    .dataframe tbody tr th {\n",
       "        vertical-align: top;\n",
       "    }\n",
       "\n",
       "    .dataframe thead th {\n",
       "        text-align: right;\n",
       "    }\n",
       "</style>\n",
       "<table border=\"1\" class=\"dataframe\">\n",
       "  <thead>\n",
       "    <tr style=\"text-align: right;\">\n",
       "      <th></th>\n",
       "      <th>id</th>\n",
       "      <th>intensidad</th>\n",
       "      <th>ocupacion</th>\n",
       "      <th>carga</th>\n",
       "      <th>vmed</th>\n",
       "      <th>periodo_integracion</th>\n",
       "      <th>Hora</th>\n",
       "      <th>Lat</th>\n",
       "      <th>Long</th>\n",
       "      <th>M30</th>\n",
       "      <th>URB</th>\n",
       "      <th>Mes</th>\n",
       "      <th>Dia</th>\n",
       "      <th>Minutos</th>\n",
       "    </tr>\n",
       "  </thead>\n",
       "  <tbody>\n",
       "    <tr>\n",
       "      <th>0</th>\n",
       "      <td>6679</td>\n",
       "      <td>2468.0</td>\n",
       "      <td>3.0</td>\n",
       "      <td>38.0</td>\n",
       "      <td>87.0</td>\n",
       "      <td>15</td>\n",
       "      <td>0</td>\n",
       "      <td>40.393663</td>\n",
       "      <td>-3.674823</td>\n",
       "      <td>1</td>\n",
       "      <td>0</td>\n",
       "      <td>9</td>\n",
       "      <td>1</td>\n",
       "      <td>0</td>\n",
       "    </tr>\n",
       "    <tr>\n",
       "      <th>1</th>\n",
       "      <td>6679</td>\n",
       "      <td>2488.0</td>\n",
       "      <td>4.0</td>\n",
       "      <td>37.0</td>\n",
       "      <td>87.0</td>\n",
       "      <td>15</td>\n",
       "      <td>0</td>\n",
       "      <td>40.393663</td>\n",
       "      <td>-3.674823</td>\n",
       "      <td>1</td>\n",
       "      <td>0</td>\n",
       "      <td>9</td>\n",
       "      <td>1</td>\n",
       "      <td>15</td>\n",
       "    </tr>\n",
       "    <tr>\n",
       "      <th>2</th>\n",
       "      <td>6679</td>\n",
       "      <td>2503.0</td>\n",
       "      <td>4.0</td>\n",
       "      <td>38.0</td>\n",
       "      <td>88.0</td>\n",
       "      <td>15</td>\n",
       "      <td>0</td>\n",
       "      <td>40.393663</td>\n",
       "      <td>-3.674823</td>\n",
       "      <td>1</td>\n",
       "      <td>0</td>\n",
       "      <td>9</td>\n",
       "      <td>1</td>\n",
       "      <td>30</td>\n",
       "    </tr>\n",
       "    <tr>\n",
       "      <th>3</th>\n",
       "      <td>6679</td>\n",
       "      <td>2140.0</td>\n",
       "      <td>3.0</td>\n",
       "      <td>32.0</td>\n",
       "      <td>88.0</td>\n",
       "      <td>15</td>\n",
       "      <td>0</td>\n",
       "      <td>40.393663</td>\n",
       "      <td>-3.674823</td>\n",
       "      <td>1</td>\n",
       "      <td>0</td>\n",
       "      <td>9</td>\n",
       "      <td>1</td>\n",
       "      <td>45</td>\n",
       "    </tr>\n",
       "    <tr>\n",
       "      <th>4</th>\n",
       "      <td>6679</td>\n",
       "      <td>2156.0</td>\n",
       "      <td>4.0</td>\n",
       "      <td>33.0</td>\n",
       "      <td>90.0</td>\n",
       "      <td>15</td>\n",
       "      <td>1</td>\n",
       "      <td>40.393663</td>\n",
       "      <td>-3.674823</td>\n",
       "      <td>1</td>\n",
       "      <td>0</td>\n",
       "      <td>9</td>\n",
       "      <td>1</td>\n",
       "      <td>0</td>\n",
       "    </tr>\n",
       "  </tbody>\n",
       "</table>\n",
       "</div>"
      ],
      "text/plain": [
       "     id  intensidad  ocupacion  carga  vmed  periodo_integracion  Hora  \\\n",
       "0  6679      2468.0        3.0   38.0  87.0                   15     0   \n",
       "1  6679      2488.0        4.0   37.0  87.0                   15     0   \n",
       "2  6679      2503.0        4.0   38.0  88.0                   15     0   \n",
       "3  6679      2140.0        3.0   32.0  88.0                   15     0   \n",
       "4  6679      2156.0        4.0   33.0  90.0                   15     1   \n",
       "\n",
       "         Lat      Long  M30  URB  Mes  Dia  Minutos  \n",
       "0  40.393663 -3.674823    1    0    9    1        0  \n",
       "1  40.393663 -3.674823    1    0    9    1       15  \n",
       "2  40.393663 -3.674823    1    0    9    1       30  \n",
       "3  40.393663 -3.674823    1    0    9    1       45  \n",
       "4  40.393663 -3.674823    1    0    9    1        0  "
      ]
     },
     "execution_count": 11,
     "metadata": {},
     "output_type": "execute_result"
    }
   ],
   "source": [
    "df_test.head()"
   ]
  },
  {
   "cell_type": "code",
   "execution_count": 12,
   "metadata": {},
   "outputs": [
    {
     "data": {
      "text/plain": [
       "(10526, 14)"
      ]
     },
     "execution_count": 12,
     "metadata": {},
     "output_type": "execute_result"
    }
   ],
   "source": [
    "df_test.shape"
   ]
  },
  {
   "cell_type": "code",
   "execution_count": 13,
   "metadata": {},
   "outputs": [
    {
     "data": {
      "text/plain": [
       "id                       int64\n",
       "intensidad             float64\n",
       "ocupacion              float64\n",
       "carga                  float64\n",
       "vmed                   float64\n",
       "periodo_integracion      int64\n",
       "Hora                     int64\n",
       "Lat                    float64\n",
       "Long                   float64\n",
       "M30                      int64\n",
       "URB                      int64\n",
       "Mes                      int64\n",
       "Dia                      int64\n",
       "Minutos                  int64\n",
       "dtype: object"
      ]
     },
     "execution_count": 13,
     "metadata": {},
     "output_type": "execute_result"
    }
   ],
   "source": [
    "df_test.dtypes"
   ]
  },
  {
   "cell_type": "code",
   "execution_count": 14,
   "metadata": {},
   "outputs": [],
   "source": [
    "X_test=df_test.drop(['carga'],axis=1)"
   ]
  },
  {
   "cell_type": "code",
   "execution_count": 15,
   "metadata": {},
   "outputs": [
    {
     "data": {
      "text/plain": [
       "(10526, 13)"
      ]
     },
     "execution_count": 15,
     "metadata": {},
     "output_type": "execute_result"
    }
   ],
   "source": [
    "X_test.shape"
   ]
  },
  {
   "cell_type": "code",
   "execution_count": 16,
   "metadata": {},
   "outputs": [],
   "source": [
    "y_test=df_test['carga']"
   ]
  },
  {
   "cell_type": "code",
   "execution_count": 17,
   "metadata": {},
   "outputs": [
    {
     "data": {
      "text/plain": [
       "(10526,)"
      ]
     },
     "execution_count": 17,
     "metadata": {},
     "output_type": "execute_result"
    }
   ],
   "source": [
    "y_test.shape"
   ]
  },
  {
   "cell_type": "markdown",
   "metadata": {},
   "source": [
    "## **ML REGRESSION ALGORITHMS**"
   ]
  },
  {
   "cell_type": "markdown",
   "metadata": {},
   "source": [
    "In our case, we have chosen to use Decission Tree Methods due to they have some interesting advantages:\n",
    "- They are easy to understand.\n",
    "- They require little data preparation.\n",
    "- They are robust.\n",
    "- They work good with large datasets\n"
   ]
  },
  {
   "cell_type": "markdown",
   "metadata": {},
   "source": [
    "To achive to train heavier algorithms like Random Forest or XGBoost models with others parameters we have decided to do it in through **Google Colab** to have higher computacional capabilities. In notebook *Data Modeling Colab-full dataset.ipynb* we can found this procedure."
   ]
  },
  {
   "cell_type": "markdown",
   "metadata": {},
   "source": [
    "Once the model would have been trained, the best algorithm result is saving with joblib.dump() method. After that, the files are loaded here in order to predict with test dataset."
   ]
  },
  {
   "cell_type": "markdown",
   "metadata": {},
   "source": [
    "Here we have to say that we had computational limitations that triggered very high train times. This issue, joined to continuous server cuts that required the reconnections and to launch the process again, have done that the model parameters grid used to train has been very limited."
   ]
  },
  {
   "cell_type": "markdown",
   "metadata": {},
   "source": [
    "Here we summarize the results obtained in Google Colab Notebooke (*Data Modeling Colab-full dataset.ipynb*). Using GridSearchCV we look for the best parameters which give the best score.\n",
    "\n",
    "\n",
    "- For **Decision Tree Regressor**:\n",
    "\n",
    " - min_samples_leaf:[10,20,30], max_depth:range(9,10). Time spent: 8min 2s. $MSE$=33.741, **$\\sqrt{MSE}$=5.808** Best_params{'max_depth': 9, 'min_samples_leaf': 30}\n",
    "     \n",
    " - min_samples_leaf:[10,20,30], max_depth:range(19,20). Time spent: 11min 22s. $MSE$=6.510, **$\\sqrt{MSE}$=2.551** Best_params{'max_depth': 19, 'min_samples_leaf': 20}\n",
    "\n",
    "\n",
    "- For **Random Forest Regressor**:\n",
    "\n",
    " - n_estimators=50, min_samples_leaf:[20,30], max_depth:range(19,20). Time spent: 4h 35min 38s. $MSE$=5.237, **$\\sqrt{MSE}$=2.288** Best_params{'max_depth': 19, 'min_samples_leaf': 20}\n",
    "     \n",
    " - n_estimators=100, min_samples_leaf:[20,30], max_depth:range(29,30). Time spent: 10h 2min 55s. $MSE$=3.979, **$\\sqrt{MSE}$=1.994** Best_params{'max_depth': 29, 'min_samples_leaf': 20}\n",
    " \n",
    " \n",
    "- For **XGBoost Regressor**:\n",
    "\n",
    " - n_estimators=50, min_samples_leaf:[20,30], max_depth:range(19,20). Time spent: 4h 55min 51s. $MSE$=8.799, **$\\sqrt{MSE}$=2.966** Best_params{'max_depth': 19, 'min_samples_leaf': 20}"
   ]
  },
  {
   "cell_type": "markdown",
   "metadata": {},
   "source": [
    "Look up the previous results, we can say:\n",
    "\n",
    " - **The Best Results, talking about model type is given by XGBoost and Randon Forest, as it was expected.**\n",
    " - **The Best Results is achieving by Random Forest with max_depth=29, min_samples_leaf=20 and n_estimators=100, giving a MSE of 3.979.**\n",
    "\n",
    "This model is saved in Google Colab in order to be locally loaded next."
   ]
  },
  {
   "cell_type": "markdown",
   "metadata": {},
   "source": [
    "## **PREDICTING Y_test WITH RANDOM FOREST**"
   ]
  },
  {
   "cell_type": "markdown",
   "metadata": {},
   "source": [
    "Loading the trained model with \"joblib\" package."
   ]
  },
  {
   "cell_type": "code",
   "execution_count": 18,
   "metadata": {},
   "outputs": [],
   "source": [
    "import pickle \n",
    "from sklearn.externals import joblib"
   ]
  },
  {
   "cell_type": "code",
   "execution_count": 19,
   "metadata": {},
   "outputs": [],
   "source": [
    "#Specifying the file path\n",
    "pkl_filename_route='/Users/antoniobravomunoz/Documents/DATA_SCIENCE_MASTER/TFM/Data-Science-Master-project/TrainedModels/randomforest2_colab.pkl'"
   ]
  },
  {
   "cell_type": "code",
   "execution_count": 20,
   "metadata": {},
   "outputs": [],
   "source": [
    "#Loading the model\n",
    "RFreg=joblib.load(pkl_filename_route)"
   ]
  },
  {
   "cell_type": "code",
   "execution_count": 21,
   "metadata": {},
   "outputs": [
    {
     "data": {
      "text/plain": [
       "RandomForestRegressor(bootstrap=True, criterion='mse', max_depth=29,\n",
       "           max_features='auto', max_leaf_nodes=None,\n",
       "           min_impurity_decrease=0.0, min_impurity_split=None,\n",
       "           min_samples_leaf=20, min_samples_split=2,\n",
       "           min_weight_fraction_leaf=0.0, n_estimators=100, n_jobs=None,\n",
       "           oob_score=False, random_state=None, verbose=0, warm_start=False)"
      ]
     },
     "execution_count": 21,
     "metadata": {},
     "output_type": "execute_result"
    }
   ],
   "source": [
    "RFreg"
   ]
  },
  {
   "cell_type": "markdown",
   "metadata": {},
   "source": [
    "Predicting target values."
   ]
  },
  {
   "cell_type": "markdown",
   "metadata": {},
   "source": [
    "We had a problem when we was going to make predictions. This issue, had been solved updating the sklearn version from 0.19.2 to 0.20.2. The base of this problem was that the enviroment, where the model has been trained (Google Colab), has the last version of this package, and in this local enviroment the version was not the same. \n",
    "\n",
    "To solve it, we did: *!pip install -U scikit-learn*"
   ]
  },
  {
   "cell_type": "code",
   "execution_count": 22,
   "metadata": {},
   "outputs": [],
   "source": [
    "Ypredict=RFreg.predict(X_test)"
   ]
  },
  {
   "cell_type": "markdown",
   "metadata": {},
   "source": [
    "### **RESULTS**"
   ]
  },
  {
   "cell_type": "markdown",
   "metadata": {},
   "source": [
    "**Show the coefficient of determination ($R^2$). The best score is 1.**"
   ]
  },
  {
   "cell_type": "code",
   "execution_count": 23,
   "metadata": {},
   "outputs": [
    {
     "data": {
      "text/plain": [
       "0.9720606530911907"
      ]
     },
     "execution_count": 23,
     "metadata": {},
     "output_type": "execute_result"
    }
   ],
   "source": [
    "R=RFreg.score(X_test, y_test)\n",
    "R"
   ]
  },
  {
   "cell_type": "markdown",
   "metadata": {},
   "source": [
    "**Calculation of mean absolute errors.**"
   ]
  },
  {
   "cell_type": "code",
   "execution_count": 24,
   "metadata": {},
   "outputs": [
    {
     "name": "stdout",
     "output_type": "stream",
     "text": [
      "Mean Absolute Error: 2.171006747074407\n"
     ]
    }
   ],
   "source": [
    "MAE=np.mean(abs(Ypredict - y_test))\n",
    "print('Mean Absolute Error:', MAE)"
   ]
  },
  {
   "cell_type": "markdown",
   "metadata": {},
   "source": [
    "**Determining Performance Metrics: Accuracy.**"
   ]
  },
  {
   "cell_type": "code",
   "execution_count": 25,
   "metadata": {},
   "outputs": [
    {
     "name": "stdout",
     "output_type": "stream",
     "text": [
      "Accuracy: 94.738 %\n"
     ]
    }
   ],
   "source": [
    "mape=100*(abs(Ypredict - y_test)/y_test)\n",
    "accuracy=100-np.mean(mape)\n",
    "print('Accuracy:', round(accuracy,3), '%')"
   ]
  },
  {
   "cell_type": "markdown",
   "metadata": {},
   "source": [
    "There is to say that a 94.7% of accuracy is a good result for our purpose."
   ]
  },
  {
   "cell_type": "markdown",
   "metadata": {},
   "source": [
    "**Importance of features on the model.**"
   ]
  },
  {
   "cell_type": "code",
   "execution_count": 26,
   "metadata": {},
   "outputs": [],
   "source": [
    "importances = list(RFreg.feature_importances_)"
   ]
  },
  {
   "cell_type": "code",
   "execution_count": 27,
   "metadata": {},
   "outputs": [
    {
     "data": {
      "image/png": "[encoded data removed]",
      "text/plain": [
       "<Figure size 432x288 with 1 Axes>"
      ]
     },
     "metadata": {},
     "output_type": "display_data"
    }
   ],
   "source": [
    "#style\n",
    "plt.style.use('seaborn-whitegrid')\n",
    "#X\n",
    "x_values = list(range(len(importances)))\n",
    "#Plot\n",
    "plt.bar(x_values, importances, orientation = 'vertical')\n",
    "#Tick labels for x axis\n",
    "plt.xticks(x_values, list(X.columns), rotation='vertical')\n",
    "#Axis labels and title\n",
    "plt.ylabel('Importance Coeff.'); plt.xlabel('Feature'); plt.title('Variable Importances');"
   ]
  },
  {
   "cell_type": "markdown",
   "metadata": {},
   "source": [
    "**Visualizing Data targets and Data predicted**"
   ]
  },
  {
   "cell_type": "code",
   "execution_count": 28,
   "metadata": {},
   "outputs": [],
   "source": [
    "dfpredic=pd.DataFrame(y_test)"
   ]
  },
  {
   "cell_type": "code",
   "execution_count": 29,
   "metadata": {
    "scrolled": true
   },
   "outputs": [],
   "source": [
    "dfpredic.rename(columns={'carga':'carga_actual'},inplace=True)"
   ]
  },
  {
   "cell_type": "code",
   "execution_count": 30,
   "metadata": {},
   "outputs": [],
   "source": [
    "dfpredic['prediccion']=Ypredict\n",
    "dfpredic['Id']=X_test['id'].astype(str)\n",
    "dfpredic['Date']='2018-'+X_test['Mes'].astype(str)+'-'+X_test['Dia'].astype(str)"
   ]
  },
  {
   "cell_type": "markdown",
   "metadata": {},
   "source": [
    "Aggregation by Date to compute the average \"carga\" on the route for the detectors involved."
   ]
  },
  {
   "cell_type": "code",
   "execution_count": 31,
   "metadata": {},
   "outputs": [],
   "source": [
    "dfpredic2=dfpredic.groupby(dfpredic['Date']).mean().reset_index()"
   ]
  },
  {
   "cell_type": "code",
   "execution_count": 33,
   "metadata": {},
   "outputs": [
    {
     "data": {
      "text/plain": [
       "Date             object\n",
       "carga_actual    float64\n",
       "prediccion      float64\n",
       "dtype: object"
      ]
     },
     "execution_count": 33,
     "metadata": {},
     "output_type": "execute_result"
    }
   ],
   "source": [
    "dfpredic2.dtypes"
   ]
  },
  {
   "cell_type": "code",
   "execution_count": 39,
   "metadata": {},
   "outputs": [
    {
     "data": {
      "image/png": "[encoded data removed]",
      "text/plain": [
       "<Figure size 432x288 with 1 Axes>"
      ]
     },
     "metadata": {},
     "output_type": "display_data"
    }
   ],
   "source": [
    "# Plot\n",
    "plt.style.use('seaborn-whitegrid')\n",
    "plt.plot(dfpredic2['Date'], dfpredic2['carga_actual'], 'bo-', label = 'actual')\n",
    "plt.plot(dfpredic2['Date'], dfpredic2['prediccion'], 'ro', label = 'prediction')\n",
    "plt.xticks(rotation = '45')\n",
    "plt.ylim(20, 80)\n",
    "plt.legend()\n",
    "plt.xlabel('Date')\n",
    "plt.ylabel('Average Carga on the route')\n",
    "plt.title('Actual and Predicted Values for 7:00AM')\n",
    "#plt.savefig('/Users/antoniobravomunoz/Documents/GitHub/Data-Science-Master-project/Figures and visualizations/Avg_carga_actual-prediction.png')"
   ]
  },
  {
   "cell_type": "markdown",
   "metadata": {},
   "source": [
    "Visualizing the error region around the prediction."
   ]
  },
  {
   "cell_type": "code",
   "execution_count": 35,
   "metadata": {},
   "outputs": [],
   "source": [
    "err=dfpredic2['carga_actual']-dfpredic2['prediccion']"
   ]
  },
  {
   "cell_type": "code",
   "execution_count": 40,
   "metadata": {},
   "outputs": [
    {
     "data": {
      "image/png": "[encoded data removed]",
      "text/plain": [
       "<Figure size 432x288 with 1 Axes>"
      ]
     },
     "metadata": {},
     "output_type": "display_data"
    }
   ],
   "source": [
    "plt.style.use('seaborn-whitegrid')\n",
    "plt.plot(dfpredic2['Date'], dfpredic2['carga_actual'], 'bo-', label = 'actual')\n",
    "plt.plot(dfpredic2['Date'], dfpredic2['prediccion'], 'ro', label = 'prediction')\n",
    "plt.fill_between(dfpredic2['Date'], dfpredic2['prediccion']-MAE, dfpredic2['prediccion']+MAE, facecolor='red', alpha=0.3)\n",
    "plt.xticks(rotation = '45')\n",
    "plt.ylim(20, 80)\n",
    "plt.legend()\n",
    "plt.xlabel('Date')\n",
    "plt.ylabel('Average Carga on the route')\n",
    "plt.title('Actual and Predicted Values for 7:00AM-Margin Error Region')\n",
    "#plt.savefig('/Users/antoniobravomunoz/Documents/GitHub/Data-Science-Master-project/Figures and visualizations/Avg_carga_actual-prediction-error.png')"
   ]
  },
  {
   "cell_type": "code",
   "execution_count": null,
   "metadata": {},
   "outputs": [],
   "source": []
  }
 ],
 "metadata": {
  "kernelspec": {
   "display_name": "Python 3",
   "language": "python",
   "name": "python3"
  },
  "language_info": {
   "codemirror_mode": {
    "name": "ipython",
    "version": 3
   },
   "file_extension": ".py",
   "mimetype": "text/x-python",
   "name": "python",
   "nbconvert_exporter": "python",
   "pygments_lexer": "ipython3",
   "version": "3.6.6"
  }
 },
 "nbformat": 4,
 "nbformat_minor": 2
}

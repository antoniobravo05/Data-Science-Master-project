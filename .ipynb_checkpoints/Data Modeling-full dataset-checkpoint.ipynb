{
 "cells": [
  {
   "cell_type": "markdown",
   "metadata": {},
   "source": [
    "## **IMPORT PACKAGES**"
   ]
  },
  {
   "cell_type": "markdown",
   "metadata": {},
   "source": [
    "To install xgboost package: *!conda install -c conda-forge xgboost*"
   ]
  },
  {
   "cell_type": "code",
   "execution_count": 4,
   "metadata": {},
   "outputs": [
    {
     "name": "stderr",
     "output_type": "stream",
     "text": [
      "/Users/antoniobravomunoz/anaconda3/lib/python3.6/site-packages/sklearn/ensemble/weight_boosting.py:29: DeprecationWarning: numpy.core.umath_tests is an internal NumPy module and should not be imported. It will be removed in a future NumPy release.\n",
      "  from numpy.core.umath_tests import inner1d\n"
     ]
    }
   ],
   "source": [
    "import pandas as pd\n",
    "import numpy as np\n",
    "from sklearn.model_selection import train_test_split\n",
    "from sklearn.metrics import accuracy_score\n",
    "from sklearn.model_selection import cross_val_score\n",
    "from sklearn.model_selection import GridSearchCV\n",
    "from sklearn.neighbors import KNeighborsRegressor\n",
    "from sklearn.tree import DecisionTreeRegressor\n",
    "from sklearn.ensemble import RandomForestRegressor\n",
    "from sklearn.ensemble import GradientBoostingRegressor\n",
    "from xgboost import XGBRegressor"
   ]
  },
  {
   "cell_type": "markdown",
   "metadata": {},
   "source": [
    "## **READING PREPARED DATASET**"
   ]
  },
  {
   "cell_type": "code",
   "execution_count": 5,
   "metadata": {},
   "outputs": [
    {
     "name": "stdout",
     "output_type": "stream",
     "text": [
      "CPU times: user 14.9 s, sys: 2.3 s, total: 17.2 s\n",
      "Wall time: 17.6 s\n"
     ]
    }
   ],
   "source": [
    "%%time\n",
    "source = '/Users/antoniobravomunoz/Documents/DATA_SCIENCE_MASTER/TFM/Data-Science-Master-project/DATA/traffic_data_complete.csv'\n",
    "df = pd.read_csv(source,sep=',')"
   ]
  },
  {
   "cell_type": "code",
   "execution_count": 6,
   "metadata": {},
   "outputs": [
    {
     "data": {
      "text/html": [
       "<div>\n",
       "<style scoped>\n",
       "    .dataframe tbody tr th:only-of-type {\n",
       "        vertical-align: middle;\n",
       "    }\n",
       "\n",
       "    .dataframe tbody tr th {\n",
       "        vertical-align: top;\n",
       "    }\n",
       "\n",
       "    .dataframe thead th {\n",
       "        text-align: right;\n",
       "    }\n",
       "</style>\n",
       "<table border=\"1\" class=\"dataframe\">\n",
       "  <thead>\n",
       "    <tr style=\"text-align: right;\">\n",
       "      <th></th>\n",
       "      <th>id</th>\n",
       "      <th>intensidad</th>\n",
       "      <th>ocupacion</th>\n",
       "      <th>carga</th>\n",
       "      <th>vmed</th>\n",
       "      <th>periodo_integracion</th>\n",
       "      <th>Hora</th>\n",
       "      <th>Lat</th>\n",
       "      <th>Long</th>\n",
       "      <th>M30</th>\n",
       "      <th>URB</th>\n",
       "      <th>Mes</th>\n",
       "      <th>Dia</th>\n",
       "      <th>Minutos</th>\n",
       "    </tr>\n",
       "  </thead>\n",
       "  <tbody>\n",
       "    <tr>\n",
       "      <th>0</th>\n",
       "      <td>1001</td>\n",
       "      <td>204</td>\n",
       "      <td>12</td>\n",
       "      <td>0</td>\n",
       "      <td>73</td>\n",
       "      <td>5</td>\n",
       "      <td>0</td>\n",
       "      <td>40.409729</td>\n",
       "      <td>-3.740786</td>\n",
       "      <td>1</td>\n",
       "      <td>0</td>\n",
       "      <td>1</td>\n",
       "      <td>1</td>\n",
       "      <td>0</td>\n",
       "    </tr>\n",
       "    <tr>\n",
       "      <th>1</th>\n",
       "      <td>1002</td>\n",
       "      <td>252</td>\n",
       "      <td>1</td>\n",
       "      <td>0</td>\n",
       "      <td>79</td>\n",
       "      <td>5</td>\n",
       "      <td>0</td>\n",
       "      <td>40.408029</td>\n",
       "      <td>-3.743760</td>\n",
       "      <td>1</td>\n",
       "      <td>0</td>\n",
       "      <td>1</td>\n",
       "      <td>1</td>\n",
       "      <td>0</td>\n",
       "    </tr>\n",
       "    <tr>\n",
       "      <th>2</th>\n",
       "      <td>1003</td>\n",
       "      <td>420</td>\n",
       "      <td>2</td>\n",
       "      <td>0</td>\n",
       "      <td>82</td>\n",
       "      <td>5</td>\n",
       "      <td>0</td>\n",
       "      <td>40.406824</td>\n",
       "      <td>-3.746834</td>\n",
       "      <td>1</td>\n",
       "      <td>0</td>\n",
       "      <td>1</td>\n",
       "      <td>1</td>\n",
       "      <td>0</td>\n",
       "    </tr>\n",
       "    <tr>\n",
       "      <th>3</th>\n",
       "      <td>1006</td>\n",
       "      <td>288</td>\n",
       "      <td>1</td>\n",
       "      <td>0</td>\n",
       "      <td>75</td>\n",
       "      <td>5</td>\n",
       "      <td>0</td>\n",
       "      <td>40.411894</td>\n",
       "      <td>-3.736324</td>\n",
       "      <td>1</td>\n",
       "      <td>0</td>\n",
       "      <td>1</td>\n",
       "      <td>1</td>\n",
       "      <td>0</td>\n",
       "    </tr>\n",
       "    <tr>\n",
       "      <th>4</th>\n",
       "      <td>1009</td>\n",
       "      <td>276</td>\n",
       "      <td>0</td>\n",
       "      <td>0</td>\n",
       "      <td>76</td>\n",
       "      <td>5</td>\n",
       "      <td>0</td>\n",
       "      <td>40.416233</td>\n",
       "      <td>-3.724909</td>\n",
       "      <td>1</td>\n",
       "      <td>0</td>\n",
       "      <td>1</td>\n",
       "      <td>1</td>\n",
       "      <td>0</td>\n",
       "    </tr>\n",
       "  </tbody>\n",
       "</table>\n",
       "</div>"
      ],
      "text/plain": [
       "     id  intensidad  ocupacion  carga  vmed  periodo_integracion  Hora  \\\n",
       "0  1001         204         12      0    73                    5     0   \n",
       "1  1002         252          1      0    79                    5     0   \n",
       "2  1003         420          2      0    82                    5     0   \n",
       "3  1006         288          1      0    75                    5     0   \n",
       "4  1009         276          0      0    76                    5     0   \n",
       "\n",
       "         Lat      Long  M30  URB  Mes  Dia  Minutos  \n",
       "0  40.409729 -3.740786    1    0    1    1        0  \n",
       "1  40.408029 -3.743760    1    0    1    1        0  \n",
       "2  40.406824 -3.746834    1    0    1    1        0  \n",
       "3  40.411894 -3.736324    1    0    1    1        0  \n",
       "4  40.416233 -3.724909    1    0    1    1        0  "
      ]
     },
     "execution_count": 6,
     "metadata": {},
     "output_type": "execute_result"
    }
   ],
   "source": [
    "df.head()"
   ]
  },
  {
   "cell_type": "code",
   "execution_count": 7,
   "metadata": {},
   "outputs": [
    {
     "data": {
      "text/html": [
       "<div>\n",
       "<style scoped>\n",
       "    .dataframe tbody tr th:only-of-type {\n",
       "        vertical-align: middle;\n",
       "    }\n",
       "\n",
       "    .dataframe tbody tr th {\n",
       "        vertical-align: top;\n",
       "    }\n",
       "\n",
       "    .dataframe thead th {\n",
       "        text-align: right;\n",
       "    }\n",
       "</style>\n",
       "<table border=\"1\" class=\"dataframe\">\n",
       "  <thead>\n",
       "    <tr style=\"text-align: right;\">\n",
       "      <th></th>\n",
       "      <th>id</th>\n",
       "      <th>intensidad</th>\n",
       "      <th>ocupacion</th>\n",
       "      <th>carga</th>\n",
       "      <th>vmed</th>\n",
       "      <th>periodo_integracion</th>\n",
       "      <th>Hora</th>\n",
       "      <th>Lat</th>\n",
       "      <th>Long</th>\n",
       "      <th>M30</th>\n",
       "      <th>URB</th>\n",
       "      <th>Mes</th>\n",
       "      <th>Dia</th>\n",
       "      <th>Minutos</th>\n",
       "    </tr>\n",
       "  </thead>\n",
       "  <tbody>\n",
       "    <tr>\n",
       "      <th>451496</th>\n",
       "      <td>3706</td>\n",
       "      <td>556</td>\n",
       "      <td>5</td>\n",
       "      <td>19</td>\n",
       "      <td>77</td>\n",
       "      <td>15</td>\n",
       "      <td>21</td>\n",
       "      <td>40.493856</td>\n",
       "      <td>-3.700040</td>\n",
       "      <td>1</td>\n",
       "      <td>0</td>\n",
       "      <td>1</td>\n",
       "      <td>11</td>\n",
       "      <td>45</td>\n",
       "    </tr>\n",
       "    <tr>\n",
       "      <th>1244116</th>\n",
       "      <td>6703</td>\n",
       "      <td>1821</td>\n",
       "      <td>8</td>\n",
       "      <td>40</td>\n",
       "      <td>51</td>\n",
       "      <td>15</td>\n",
       "      <td>11</td>\n",
       "      <td>40.483292</td>\n",
       "      <td>-3.701050</td>\n",
       "      <td>1</td>\n",
       "      <td>0</td>\n",
       "      <td>1</td>\n",
       "      <td>31</td>\n",
       "      <td>45</td>\n",
       "    </tr>\n",
       "    <tr>\n",
       "      <th>983199</th>\n",
       "      <td>6891</td>\n",
       "      <td>30</td>\n",
       "      <td>0</td>\n",
       "      <td>0</td>\n",
       "      <td>41</td>\n",
       "      <td>4</td>\n",
       "      <td>2</td>\n",
       "      <td>40.395205</td>\n",
       "      <td>-3.673227</td>\n",
       "      <td>1</td>\n",
       "      <td>0</td>\n",
       "      <td>1</td>\n",
       "      <td>25</td>\n",
       "      <td>30</td>\n",
       "    </tr>\n",
       "    <tr>\n",
       "      <th>6429089</th>\n",
       "      <td>6876</td>\n",
       "      <td>1068</td>\n",
       "      <td>2</td>\n",
       "      <td>0</td>\n",
       "      <td>70</td>\n",
       "      <td>5</td>\n",
       "      <td>14</td>\n",
       "      <td>40.388851</td>\n",
       "      <td>-3.684994</td>\n",
       "      <td>1</td>\n",
       "      <td>0</td>\n",
       "      <td>8</td>\n",
       "      <td>11</td>\n",
       "      <td>30</td>\n",
       "    </tr>\n",
       "    <tr>\n",
       "      <th>7018280</th>\n",
       "      <td>1021</td>\n",
       "      <td>1032</td>\n",
       "      <td>2</td>\n",
       "      <td>0</td>\n",
       "      <td>65</td>\n",
       "      <td>5</td>\n",
       "      <td>10</td>\n",
       "      <td>40.393484</td>\n",
       "      <td>-3.702727</td>\n",
       "      <td>1</td>\n",
       "      <td>0</td>\n",
       "      <td>8</td>\n",
       "      <td>26</td>\n",
       "      <td>30</td>\n",
       "    </tr>\n",
       "  </tbody>\n",
       "</table>\n",
       "</div>"
      ],
      "text/plain": [
       "           id  intensidad  ocupacion  carga  vmed  periodo_integracion  Hora  \\\n",
       "451496   3706         556          5     19    77                   15    21   \n",
       "1244116  6703        1821          8     40    51                   15    11   \n",
       "983199   6891          30          0      0    41                    4     2   \n",
       "6429089  6876        1068          2      0    70                    5    14   \n",
       "7018280  1021        1032          2      0    65                    5    10   \n",
       "\n",
       "               Lat      Long  M30  URB  Mes  Dia  Minutos  \n",
       "451496   40.493856 -3.700040    1    0    1   11       45  \n",
       "1244116  40.483292 -3.701050    1    0    1   31       45  \n",
       "983199   40.395205 -3.673227    1    0    1   25       30  \n",
       "6429089  40.388851 -3.684994    1    0    8   11       30  \n",
       "7018280  40.393484 -3.702727    1    0    8   26       30  "
      ]
     },
     "execution_count": 7,
     "metadata": {},
     "output_type": "execute_result"
    }
   ],
   "source": [
    "df.sample(5)"
   ]
  },
  {
   "cell_type": "code",
   "execution_count": 8,
   "metadata": {},
   "outputs": [
    {
     "data": {
      "text/plain": [
       "id                       int64\n",
       "intensidad               int64\n",
       "ocupacion                int64\n",
       "carga                    int64\n",
       "vmed                     int64\n",
       "periodo_integracion      int64\n",
       "Hora                     int64\n",
       "Lat                    float64\n",
       "Long                   float64\n",
       "M30                      int64\n",
       "URB                      int64\n",
       "Mes                      int64\n",
       "Dia                      int64\n",
       "Minutos                  int64\n",
       "dtype: object"
      ]
     },
     "execution_count": 8,
     "metadata": {},
     "output_type": "execute_result"
    }
   ],
   "source": [
    "df.dtypes"
   ]
  },
  {
   "cell_type": "markdown",
   "metadata": {},
   "source": [
    "## **SPLIT DATASET IN X (OBSERVATIONS) AND Y (TARGET)**"
   ]
  },
  {
   "cell_type": "code",
   "execution_count": 9,
   "metadata": {},
   "outputs": [],
   "source": [
    "X=df.drop(['carga'],axis=1)"
   ]
  },
  {
   "cell_type": "code",
   "execution_count": 10,
   "metadata": {},
   "outputs": [
    {
     "data": {
      "text/plain": [
       "(9740545, 13)"
      ]
     },
     "execution_count": 10,
     "metadata": {},
     "output_type": "execute_result"
    }
   ],
   "source": [
    "X.shape"
   ]
  },
  {
   "cell_type": "code",
   "execution_count": 11,
   "metadata": {},
   "outputs": [],
   "source": [
    "y=df['carga']"
   ]
  },
  {
   "cell_type": "code",
   "execution_count": 12,
   "metadata": {},
   "outputs": [
    {
     "data": {
      "text/plain": [
       "(9740545,)"
      ]
     },
     "execution_count": 12,
     "metadata": {},
     "output_type": "execute_result"
    }
   ],
   "source": [
    "y.shape"
   ]
  },
  {
   "cell_type": "markdown",
   "metadata": {},
   "source": [
    "## **ML REGRESSION ALGORITHMS**"
   ]
  },
  {
   "cell_type": "markdown",
   "metadata": {},
   "source": [
    "In our case, we have chosen to use Decission Tree Methods due to they have some interesting advantages:\n",
    "- They are easy to understand.\n",
    "- They require little data preparation.\n",
    "- They are robust.\n",
    "- They work good with large datasets\n"
   ]
  },
  {
   "cell_type": "markdown",
   "metadata": {},
   "source": [
    "Using GridSearchCV we look for the best parameters which give the best score in order to use it as final model parameters."
   ]
  },
  {
   "cell_type": "markdown",
   "metadata": {},
   "source": [
    "First of all, we are testing with a **Decision Tree Regressor**"
   ]
  },
  {
   "cell_type": "code",
   "execution_count": 13,
   "metadata": {},
   "outputs": [
    {
     "name": "stdout",
     "output_type": "stream",
     "text": [
      "-70.60611753784305\n",
      "8.402744643141492\n",
      "{'max_depth': 4, 'min_samples_leaf': 10}\n",
      "CPU times: user 11min 32s, sys: 1min 19s, total: 12min 51s\n",
      "Wall time: 12min 9s\n"
     ]
    }
   ],
   "source": [
    "%%time\n",
    "#Decission Tree\n",
    "reg_DeciTree=GridSearchCV(DecisionTreeRegressor(min_samples_leaf=1,max_depth=4),\n",
    "                          param_grid={\"min_samples_leaf\":[10,20,30,40,70,100],\"max_depth\":range(2,5)},\n",
    "                          scoring=\"neg_mean_squared_error\"\n",
    "                          )\n",
    "reg_DeciTree.fit(X,y)\n",
    "print(reg_DeciTree.best_score_)\n",
    "print(np.sqrt(-reg_DeciTree.best_score_))\n",
    "print(reg_DeciTree.best_params_)"
   ]
  },
  {
   "cell_type": "code",
   "execution_count": 14,
   "metadata": {},
   "outputs": [
    {
     "name": "stdout",
     "output_type": "stream",
     "text": [
      "-14.437166601055841\n",
      "3.799627166059302\n",
      "{'max_depth': 14, 'min_samples_leaf': 30}\n",
      "CPU times: user 1h 4min 24s, sys: 6min 10s, total: 1h 10min 34s\n",
      "Wall time: 1h 13min 4s\n"
     ]
    }
   ],
   "source": [
    "%%time\n",
    "#Decission Tree v2\n",
    "reg_DeciTree2=GridSearchCV(DecisionTreeRegressor(min_samples_leaf=1,max_depth=4),\n",
    "                          param_grid={\"min_samples_leaf\":[10,20,30,40,70,100],\"max_depth\":range(10,15)},\n",
    "                          scoring=\"neg_mean_squared_error\"\n",
    "                          )\n",
    "reg_DeciTree2.fit(X,y)\n",
    "print(reg_DeciTree2.best_score_)\n",
    "print(np.sqrt(-reg_DeciTree2.best_score_))\n",
    "print(reg_DeciTree2.best_params_)"
   ]
  },
  {
   "cell_type": "code",
   "execution_count": 15,
   "metadata": {},
   "outputs": [
    {
     "name": "stdout",
     "output_type": "stream",
     "text": [
      "2.5348422766054957\n",
      "{'max_depth': 19, 'min_samples_leaf': 10}\n",
      "CPU times: user 11min 55s, sys: 21.8 s, total: 12min 17s\n",
      "Wall time: 12min 10s\n"
     ]
    }
   ],
   "source": [
    "%%time\n",
    "#Decission Tree v3\n",
    "reg_DeciTree3=GridSearchCV(DecisionTreeRegressor(min_samples_leaf=9,max_depth=19),\n",
    "                          param_grid={\"min_samples_leaf\":[10,20,30,40],\"max_depth\":range(19,20)},\n",
    "                          scoring=\"neg_mean_squared_error\"\n",
    "                          )\n",
    "reg_DeciTree3.fit(X,y)\n",
    "print(np.sqrt(-reg_DeciTree3.best_score_))\n",
    "print(reg_DeciTree3.best_params_)"
   ]
  },
  {
   "cell_type": "code",
   "execution_count": null,
   "metadata": {},
   "outputs": [],
   "source": [
    "%%time\n",
    "#Random Forest\n",
    "reg_RF=GridSearchCV(RandomForestRegressor(n_estimators=100,min_samples_leaf=9,max_depth=9),\n",
    "                          param_grid={\"min_samples_leaf\":[10,20,30,40],\"max_depth\":range(10,15)},\n",
    "                          scoring=\"neg_mean_squared_error\"\n",
    "                          )\n",
    "reg_RF.fit(X,y)\n",
    "print(-reg_RF.best_score_)\n",
    "print(np.sqrt(-reg_RF.best_score_))\n",
    "print(reg_RF.best_params_)"
   ]
  },
  {
   "cell_type": "code",
   "execution_count": null,
   "metadata": {},
   "outputs": [],
   "source": [
    "%%time\n",
    "#Random Forest v2\n",
    "reg_RF2=GridSearchCV(RandomForestRegressor(n_estimators=100,min_samples_leaf=9,max_depth=19),\n",
    "                          param_grid={\"min_samples_leaf\":[10,20,30,40],\"max_depth\":range(19,20)},\n",
    "                          scoring=\"neg_mean_squared_error\"\n",
    "                          )\n",
    "reg_RF2.fit(X,y)\n",
    "print(-reg_RF2.best_score_)\n",
    "print(np.sqrt(-reg_RF2.best_score_))\n",
    "print(reg_RF2.best_params_)"
   ]
  },
  {
   "cell_type": "code",
   "execution_count": null,
   "metadata": {},
   "outputs": [],
   "source": [
    "%%time\n",
    "#Random Forest v3\n",
    "reg_RF3=GridSearchCV(RandomForestRegressor(n_estimators=100,min_samples_leaf=9,max_depth=29),\n",
    "                          param_grid={\"min_samples_leaf\":[10,20,30,40],\"max_depth\":range(29,30)},\n",
    "                          scoring=\"neg_mean_squared_error\"\n",
    "                          )\n",
    "reg_RF3.fit(X,y)\n",
    "print(-reg_RF3.best_score_)\n",
    "print(np.sqrt(-reg_RF3.best_score_))\n",
    "print(reg_RF3.best_params_)"
   ]
  },
  {
   "cell_type": "markdown",
   "metadata": {},
   "source": [
    "**Regression metrics**\n",
    "- ‘explained_variance’ \n",
    "- ‘neg_mean_absolute_error’\n",
    "- ‘neg_mean_squared_error’\n",
    "- ‘neg_mean_squared_log_error’\n",
    "- ‘neg_median_absolute_error’"
   ]
  },
  {
   "cell_type": "raw",
   "metadata": {},
   "source": [
    "# Fit regression model\n",
    "params = {'n_estimators': 500, 'max_depth': 4, 'min_samples_split': 2,\n",
    "          'learning_rate': 0.01, 'loss': 'ls'}\n",
    "clf = ensemble.GradientBoostingRegressor(**params)\n",
    "\n",
    "clf.fit(X_train, y_train)\n",
    "mse = mean_squared_error(y_test, clf.predict(X_test))\n",
    "print(\"MSE: %.4f\" % mse)"
   ]
  },
  {
   "cell_type": "code",
   "execution_count": null,
   "metadata": {},
   "outputs": [],
   "source": [
    "%%time\n",
    "#XGBoost\n",
    "reg_XGB=GridSearchCV(XGBRegressor(n_estimators=100,min_samples_leaf=9,max_depth=19),\n",
    "                          param_grid={\"min_samples_leaf\":[10,20,30,40],\"max_depth\":range(19,20)},\n",
    "                          scoring=\"neg_mean_squared_error\"\n",
    "                          )\n",
    "reg_XGB.fit(X,y)\n",
    "print(reg_XGB.best_score_)\n",
    "print(np.sqrt(-reg_XGB.best_score_))\n",
    "print(reg_XGB.best_params_)"
   ]
  },
  {
   "cell_type": "code",
   "execution_count": null,
   "metadata": {},
   "outputs": [],
   "source": [
    "%%time\n",
    "#XGBoost\n",
    "reg_XGB2=GridSearchCV(XGBRegressor(n_estimators=100,min_samples_leaf=9,max_depth=29),\n",
    "                          param_grid={\"min_samples_leaf\":[10,20,30,40],\"max_depth\":range(29,30)},\n",
    "                          scoring=\"neg_mean_squared_error\"\n",
    "                          )\n",
    "reg_XGB2.fit(X,y)\n",
    "print(reg_XGB2.best_score_)\n",
    "print(np.sqrt(-reg_XGB2.best_score_))\n",
    "print(reg_XGB2.best_params_)"
   ]
  },
  {
   "cell_type": "code",
   "execution_count": null,
   "metadata": {},
   "outputs": [],
   "source": []
  }
 ],
 "metadata": {
  "kernelspec": {
   "display_name": "Python 3",
   "language": "python",
   "name": "python3"
  },
  "language_info": {
   "codemirror_mode": {
    "name": "ipython",
    "version": 3
   },
   "file_extension": ".py",
   "mimetype": "text/x-python",
   "name": "python",
   "nbconvert_exporter": "python",
   "pygments_lexer": "ipython3",
   "version": "3.6.6"
  }
 },
 "nbformat": 4,
 "nbformat_minor": 2
}

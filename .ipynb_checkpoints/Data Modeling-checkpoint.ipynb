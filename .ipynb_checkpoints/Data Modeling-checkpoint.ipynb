{
 "cells": [
  {
   "cell_type": "markdown",
   "metadata": {},
   "source": [
    "To install xgboost package: *!conda install -c conda-forge xgboost*"
   ]
  },
  {
   "cell_type": "code",
   "execution_count": 1,
   "metadata": {},
   "outputs": [
    {
     "name": "stderr",
     "output_type": "stream",
     "text": [
      "/Users/antoniobravomunoz/anaconda3/lib/python3.6/site-packages/sklearn/ensemble/weight_boosting.py:29: DeprecationWarning: numpy.core.umath_tests is an internal NumPy module and should not be imported. It will be removed in a future NumPy release.\n",
      "  from numpy.core.umath_tests import inner1d\n"
     ]
    }
   ],
   "source": [
    "import pandas as pd\n",
    "from sklearn.model_selection import train_test_split\n",
    "from sklearn.metrics import accuracy_score\n",
    "from sklearn.model_selection import cross_val_score\n",
    "from sklearn.model_selection import GridSearchCV\n",
    "from sklearn.neighbors import KNeighborsRegressor\n",
    "from sklearn.tree import DecisionTreeRegressor\n",
    "from sklearn.ensemble import RandomForestRegressor\n",
    "from sklearn.ensemble import GradientBoostingRegressor\n",
    "from xgboost import XGBRegressor"
   ]
  },
  {
   "cell_type": "code",
   "execution_count": 2,
   "metadata": {},
   "outputs": [],
   "source": [
    "source = '/Users/antoniobravomunoz/Documents/DATA_SCIENCE_MASTER/TFM/Data-Science-Master-project/DATA/traffic_data.csv'\n",
    "df = pd.read_csv(source,sep=',')"
   ]
  },
  {
   "cell_type": "code",
   "execution_count": 3,
   "metadata": {},
   "outputs": [
    {
     "data": {
      "text/html": [
       "<div>\n",
       "<style scoped>\n",
       "    .dataframe tbody tr th:only-of-type {\n",
       "        vertical-align: middle;\n",
       "    }\n",
       "\n",
       "    .dataframe tbody tr th {\n",
       "        vertical-align: top;\n",
       "    }\n",
       "\n",
       "    .dataframe thead th {\n",
       "        text-align: right;\n",
       "    }\n",
       "</style>\n",
       "<table border=\"1\" class=\"dataframe\">\n",
       "  <thead>\n",
       "    <tr style=\"text-align: right;\">\n",
       "      <th></th>\n",
       "      <th>id</th>\n",
       "      <th>intensidad</th>\n",
       "      <th>ocupacion</th>\n",
       "      <th>carga</th>\n",
       "      <th>vmed</th>\n",
       "      <th>periodo_integracion</th>\n",
       "      <th>Date</th>\n",
       "      <th>Lat</th>\n",
       "      <th>Long</th>\n",
       "      <th>M30</th>\n",
       "      <th>URB</th>\n",
       "      <th>N</th>\n",
       "    </tr>\n",
       "  </thead>\n",
       "  <tbody>\n",
       "    <tr>\n",
       "      <th>0</th>\n",
       "      <td>1001</td>\n",
       "      <td>204</td>\n",
       "      <td>12</td>\n",
       "      <td>0</td>\n",
       "      <td>73</td>\n",
       "      <td>5</td>\n",
       "      <td>2018-01-01 00:00:00</td>\n",
       "      <td>40.409729</td>\n",
       "      <td>-3.740786</td>\n",
       "      <td>1</td>\n",
       "      <td>0</td>\n",
       "      <td>1</td>\n",
       "    </tr>\n",
       "    <tr>\n",
       "      <th>1</th>\n",
       "      <td>1002</td>\n",
       "      <td>252</td>\n",
       "      <td>1</td>\n",
       "      <td>0</td>\n",
       "      <td>79</td>\n",
       "      <td>5</td>\n",
       "      <td>2018-01-01 00:00:00</td>\n",
       "      <td>40.408029</td>\n",
       "      <td>-3.743760</td>\n",
       "      <td>1</td>\n",
       "      <td>0</td>\n",
       "      <td>1</td>\n",
       "    </tr>\n",
       "    <tr>\n",
       "      <th>2</th>\n",
       "      <td>1003</td>\n",
       "      <td>420</td>\n",
       "      <td>2</td>\n",
       "      <td>0</td>\n",
       "      <td>82</td>\n",
       "      <td>5</td>\n",
       "      <td>2018-01-01 00:00:00</td>\n",
       "      <td>40.406824</td>\n",
       "      <td>-3.746834</td>\n",
       "      <td>1</td>\n",
       "      <td>0</td>\n",
       "      <td>1</td>\n",
       "    </tr>\n",
       "    <tr>\n",
       "      <th>3</th>\n",
       "      <td>1006</td>\n",
       "      <td>288</td>\n",
       "      <td>1</td>\n",
       "      <td>0</td>\n",
       "      <td>75</td>\n",
       "      <td>5</td>\n",
       "      <td>2018-01-01 00:00:00</td>\n",
       "      <td>40.411894</td>\n",
       "      <td>-3.736324</td>\n",
       "      <td>1</td>\n",
       "      <td>0</td>\n",
       "      <td>1</td>\n",
       "    </tr>\n",
       "    <tr>\n",
       "      <th>4</th>\n",
       "      <td>1009</td>\n",
       "      <td>276</td>\n",
       "      <td>0</td>\n",
       "      <td>0</td>\n",
       "      <td>76</td>\n",
       "      <td>5</td>\n",
       "      <td>2018-01-01 00:00:00</td>\n",
       "      <td>40.416233</td>\n",
       "      <td>-3.724909</td>\n",
       "      <td>1</td>\n",
       "      <td>0</td>\n",
       "      <td>1</td>\n",
       "    </tr>\n",
       "  </tbody>\n",
       "</table>\n",
       "</div>"
      ],
      "text/plain": [
       "     id  intensidad  ocupacion  carga  vmed  periodo_integracion  \\\n",
       "0  1001         204         12      0    73                    5   \n",
       "1  1002         252          1      0    79                    5   \n",
       "2  1003         420          2      0    82                    5   \n",
       "3  1006         288          1      0    75                    5   \n",
       "4  1009         276          0      0    76                    5   \n",
       "\n",
       "                  Date        Lat      Long  M30  URB  N  \n",
       "0  2018-01-01 00:00:00  40.409729 -3.740786    1    0  1  \n",
       "1  2018-01-01 00:00:00  40.408029 -3.743760    1    0  1  \n",
       "2  2018-01-01 00:00:00  40.406824 -3.746834    1    0  1  \n",
       "3  2018-01-01 00:00:00  40.411894 -3.736324    1    0  1  \n",
       "4  2018-01-01 00:00:00  40.416233 -3.724909    1    0  1  "
      ]
     },
     "execution_count": 3,
     "metadata": {},
     "output_type": "execute_result"
    }
   ],
   "source": [
    "df.head()"
   ]
  },
  {
   "cell_type": "markdown",
   "metadata": {},
   "source": [
    "SPLITTING DATE IN SEPARATED FIELDS"
   ]
  },
  {
   "cell_type": "code",
   "execution_count": 4,
   "metadata": {},
   "outputs": [
    {
     "name": "stdout",
     "output_type": "stream",
     "text": [
      "CPU times: user 32.2 s, sys: 680 ms, total: 32.9 s\n",
      "Wall time: 28.6 s\n"
     ]
    }
   ],
   "source": [
    "%%time\n",
    "df['FechaAUX'], df['HoraAUX'] = df['Date'].str.split(' ', 1).str\n",
    "df['Anio'], df['Mes'], df['Dia'] = df['FechaAUX'].str.split('-', 2).str\n",
    "df['Hora'], df['Minutos'], df['Segundos']= df['HoraAUX'].str.split(':', 2).str"
   ]
  },
  {
   "cell_type": "code",
   "execution_count": 5,
   "metadata": {},
   "outputs": [
    {
     "data": {
      "text/html": [
       "<div>\n",
       "<style scoped>\n",
       "    .dataframe tbody tr th:only-of-type {\n",
       "        vertical-align: middle;\n",
       "    }\n",
       "\n",
       "    .dataframe tbody tr th {\n",
       "        vertical-align: top;\n",
       "    }\n",
       "\n",
       "    .dataframe thead th {\n",
       "        text-align: right;\n",
       "    }\n",
       "</style>\n",
       "<table border=\"1\" class=\"dataframe\">\n",
       "  <thead>\n",
       "    <tr style=\"text-align: right;\">\n",
       "      <th></th>\n",
       "      <th>id</th>\n",
       "      <th>intensidad</th>\n",
       "      <th>ocupacion</th>\n",
       "      <th>carga</th>\n",
       "      <th>vmed</th>\n",
       "      <th>periodo_integracion</th>\n",
       "      <th>Date</th>\n",
       "      <th>Lat</th>\n",
       "      <th>Long</th>\n",
       "      <th>M30</th>\n",
       "      <th>URB</th>\n",
       "      <th>N</th>\n",
       "      <th>FechaAUX</th>\n",
       "      <th>HoraAUX</th>\n",
       "      <th>Anio</th>\n",
       "      <th>Mes</th>\n",
       "      <th>Dia</th>\n",
       "      <th>Hora</th>\n",
       "      <th>Minutos</th>\n",
       "      <th>Segundos</th>\n",
       "    </tr>\n",
       "  </thead>\n",
       "  <tbody>\n",
       "    <tr>\n",
       "      <th>939737</th>\n",
       "      <td>6685</td>\n",
       "      <td>304</td>\n",
       "      <td>0</td>\n",
       "      <td>4</td>\n",
       "      <td>87</td>\n",
       "      <td>15</td>\n",
       "      <td>2018-01-23 05:00:00</td>\n",
       "      <td>40.383906</td>\n",
       "      <td>-3.684593</td>\n",
       "      <td>1</td>\n",
       "      <td>0</td>\n",
       "      <td>1</td>\n",
       "      <td>2018-01-23</td>\n",
       "      <td>05:00:00</td>\n",
       "      <td>2018</td>\n",
       "      <td>01</td>\n",
       "      <td>23</td>\n",
       "      <td>05</td>\n",
       "      <td>00</td>\n",
       "      <td>00</td>\n",
       "    </tr>\n",
       "    <tr>\n",
       "      <th>389434</th>\n",
       "      <td>1039</td>\n",
       "      <td>12</td>\n",
       "      <td>0</td>\n",
       "      <td>0</td>\n",
       "      <td>8</td>\n",
       "      <td>5</td>\n",
       "      <td>2018-01-10 03:15:00</td>\n",
       "      <td>40.403119</td>\n",
       "      <td>-3.723050</td>\n",
       "      <td>1</td>\n",
       "      <td>0</td>\n",
       "      <td>1</td>\n",
       "      <td>2018-01-10</td>\n",
       "      <td>03:15:00</td>\n",
       "      <td>2018</td>\n",
       "      <td>01</td>\n",
       "      <td>10</td>\n",
       "      <td>03</td>\n",
       "      <td>15</td>\n",
       "      <td>00</td>\n",
       "    </tr>\n",
       "    <tr>\n",
       "      <th>1399111</th>\n",
       "      <td>3510</td>\n",
       "      <td>756</td>\n",
       "      <td>2</td>\n",
       "      <td>15</td>\n",
       "      <td>58</td>\n",
       "      <td>15</td>\n",
       "      <td>2018-05-02 23:00:00</td>\n",
       "      <td>40.482395</td>\n",
       "      <td>-3.703498</td>\n",
       "      <td>0</td>\n",
       "      <td>1</td>\n",
       "      <td>1</td>\n",
       "      <td>2018-05-02</td>\n",
       "      <td>23:00:00</td>\n",
       "      <td>2018</td>\n",
       "      <td>05</td>\n",
       "      <td>02</td>\n",
       "      <td>23</td>\n",
       "      <td>00</td>\n",
       "      <td>00</td>\n",
       "    </tr>\n",
       "    <tr>\n",
       "      <th>2482388</th>\n",
       "      <td>5142</td>\n",
       "      <td>0</td>\n",
       "      <td>0</td>\n",
       "      <td>0</td>\n",
       "      <td>0</td>\n",
       "      <td>3</td>\n",
       "      <td>2018-05-28 05:15:00</td>\n",
       "      <td>40.453526</td>\n",
       "      <td>-3.716157</td>\n",
       "      <td>0</td>\n",
       "      <td>1</td>\n",
       "      <td>1</td>\n",
       "      <td>2018-05-28</td>\n",
       "      <td>05:15:00</td>\n",
       "      <td>2018</td>\n",
       "      <td>05</td>\n",
       "      <td>28</td>\n",
       "      <td>05</td>\n",
       "      <td>15</td>\n",
       "      <td>00</td>\n",
       "    </tr>\n",
       "    <tr>\n",
       "      <th>1303270</th>\n",
       "      <td>7012</td>\n",
       "      <td>468</td>\n",
       "      <td>25</td>\n",
       "      <td>35</td>\n",
       "      <td>20</td>\n",
       "      <td>15</td>\n",
       "      <td>2018-01-31 20:15:00</td>\n",
       "      <td>40.399210</td>\n",
       "      <td>-3.763501</td>\n",
       "      <td>1</td>\n",
       "      <td>0</td>\n",
       "      <td>1</td>\n",
       "      <td>2018-01-31</td>\n",
       "      <td>20:15:00</td>\n",
       "      <td>2018</td>\n",
       "      <td>01</td>\n",
       "      <td>31</td>\n",
       "      <td>20</td>\n",
       "      <td>15</td>\n",
       "      <td>00</td>\n",
       "    </tr>\n",
       "  </tbody>\n",
       "</table>\n",
       "</div>"
      ],
      "text/plain": [
       "           id  intensidad  ocupacion  carga  vmed  periodo_integracion  \\\n",
       "939737   6685         304          0      4    87                   15   \n",
       "389434   1039          12          0      0     8                    5   \n",
       "1399111  3510         756          2     15    58                   15   \n",
       "2482388  5142           0          0      0     0                    3   \n",
       "1303270  7012         468         25     35    20                   15   \n",
       "\n",
       "                        Date        Lat      Long  M30  URB  N    FechaAUX  \\\n",
       "939737   2018-01-23 05:00:00  40.383906 -3.684593    1    0  1  2018-01-23   \n",
       "389434   2018-01-10 03:15:00  40.403119 -3.723050    1    0  1  2018-01-10   \n",
       "1399111  2018-05-02 23:00:00  40.482395 -3.703498    0    1  1  2018-05-02   \n",
       "2482388  2018-05-28 05:15:00  40.453526 -3.716157    0    1  1  2018-05-28   \n",
       "1303270  2018-01-31 20:15:00  40.399210 -3.763501    1    0  1  2018-01-31   \n",
       "\n",
       "          HoraAUX  Anio Mes Dia Hora Minutos Segundos  \n",
       "939737   05:00:00  2018  01  23   05      00       00  \n",
       "389434   03:15:00  2018  01  10   03      15       00  \n",
       "1399111  23:00:00  2018  05  02   23      00       00  \n",
       "2482388  05:15:00  2018  05  28   05      15       00  \n",
       "1303270  20:15:00  2018  01  31   20      15       00  "
      ]
     },
     "execution_count": 5,
     "metadata": {},
     "output_type": "execute_result"
    }
   ],
   "source": [
    "df.sample(5)"
   ]
  },
  {
   "cell_type": "code",
   "execution_count": 6,
   "metadata": {},
   "outputs": [],
   "source": [
    "df=df.drop(['FechaAUX','HoraAUX','Date'],axis=1)"
   ]
  },
  {
   "cell_type": "code",
   "execution_count": 7,
   "metadata": {},
   "outputs": [
    {
     "data": {
      "text/html": [
       "<div>\n",
       "<style scoped>\n",
       "    .dataframe tbody tr th:only-of-type {\n",
       "        vertical-align: middle;\n",
       "    }\n",
       "\n",
       "    .dataframe tbody tr th {\n",
       "        vertical-align: top;\n",
       "    }\n",
       "\n",
       "    .dataframe thead th {\n",
       "        text-align: right;\n",
       "    }\n",
       "</style>\n",
       "<table border=\"1\" class=\"dataframe\">\n",
       "  <thead>\n",
       "    <tr style=\"text-align: right;\">\n",
       "      <th></th>\n",
       "      <th>id</th>\n",
       "      <th>intensidad</th>\n",
       "      <th>ocupacion</th>\n",
       "      <th>carga</th>\n",
       "      <th>vmed</th>\n",
       "      <th>periodo_integracion</th>\n",
       "      <th>Lat</th>\n",
       "      <th>Long</th>\n",
       "      <th>M30</th>\n",
       "      <th>URB</th>\n",
       "      <th>N</th>\n",
       "      <th>Anio</th>\n",
       "      <th>Mes</th>\n",
       "      <th>Dia</th>\n",
       "      <th>Hora</th>\n",
       "      <th>Minutos</th>\n",
       "      <th>Segundos</th>\n",
       "    </tr>\n",
       "  </thead>\n",
       "  <tbody>\n",
       "    <tr>\n",
       "      <th>565868</th>\n",
       "      <td>6797</td>\n",
       "      <td>181</td>\n",
       "      <td>1</td>\n",
       "      <td>11</td>\n",
       "      <td>80</td>\n",
       "      <td>15</td>\n",
       "      <td>40.434887</td>\n",
       "      <td>-3.739597</td>\n",
       "      <td>1</td>\n",
       "      <td>0</td>\n",
       "      <td>1</td>\n",
       "      <td>2018</td>\n",
       "      <td>01</td>\n",
       "      <td>14</td>\n",
       "      <td>08</td>\n",
       "      <td>30</td>\n",
       "      <td>00</td>\n",
       "    </tr>\n",
       "    <tr>\n",
       "      <th>2322168</th>\n",
       "      <td>6858</td>\n",
       "      <td>3780</td>\n",
       "      <td>25</td>\n",
       "      <td>0</td>\n",
       "      <td>36</td>\n",
       "      <td>5</td>\n",
       "      <td>40.397749</td>\n",
       "      <td>-3.710660</td>\n",
       "      <td>0</td>\n",
       "      <td>1</td>\n",
       "      <td>1</td>\n",
       "      <td>2018</td>\n",
       "      <td>05</td>\n",
       "      <td>24</td>\n",
       "      <td>10</td>\n",
       "      <td>00</td>\n",
       "      <td>00</td>\n",
       "    </tr>\n",
       "    <tr>\n",
       "      <th>902042</th>\n",
       "      <td>6847</td>\n",
       "      <td>4830</td>\n",
       "      <td>47</td>\n",
       "      <td>0</td>\n",
       "      <td>18</td>\n",
       "      <td>5</td>\n",
       "      <td>40.400219</td>\n",
       "      <td>-3.719845</td>\n",
       "      <td>1</td>\n",
       "      <td>0</td>\n",
       "      <td>1</td>\n",
       "      <td>2018</td>\n",
       "      <td>01</td>\n",
       "      <td>22</td>\n",
       "      <td>07</td>\n",
       "      <td>45</td>\n",
       "      <td>00</td>\n",
       "    </tr>\n",
       "    <tr>\n",
       "      <th>868875</th>\n",
       "      <td>6884</td>\n",
       "      <td>315</td>\n",
       "      <td>2</td>\n",
       "      <td>0</td>\n",
       "      <td>54</td>\n",
       "      <td>4</td>\n",
       "      <td>40.386556</td>\n",
       "      <td>-3.690187</td>\n",
       "      <td>1</td>\n",
       "      <td>0</td>\n",
       "      <td>1</td>\n",
       "      <td>2018</td>\n",
       "      <td>01</td>\n",
       "      <td>21</td>\n",
       "      <td>14</td>\n",
       "      <td>00</td>\n",
       "      <td>00</td>\n",
       "    </tr>\n",
       "    <tr>\n",
       "      <th>2478637</th>\n",
       "      <td>10101</td>\n",
       "      <td>0</td>\n",
       "      <td>0</td>\n",
       "      <td>0</td>\n",
       "      <td>0</td>\n",
       "      <td>15</td>\n",
       "      <td>40.427376</td>\n",
       "      <td>-3.679939</td>\n",
       "      <td>0</td>\n",
       "      <td>1</td>\n",
       "      <td>1</td>\n",
       "      <td>2018</td>\n",
       "      <td>05</td>\n",
       "      <td>28</td>\n",
       "      <td>03</td>\n",
       "      <td>45</td>\n",
       "      <td>00</td>\n",
       "    </tr>\n",
       "  </tbody>\n",
       "</table>\n",
       "</div>"
      ],
      "text/plain": [
       "            id  intensidad  ocupacion  carga  vmed  periodo_integracion  \\\n",
       "565868    6797         181          1     11    80                   15   \n",
       "2322168   6858        3780         25      0    36                    5   \n",
       "902042    6847        4830         47      0    18                    5   \n",
       "868875    6884         315          2      0    54                    4   \n",
       "2478637  10101           0          0      0     0                   15   \n",
       "\n",
       "               Lat      Long  M30  URB  N  Anio Mes Dia Hora Minutos Segundos  \n",
       "565868   40.434887 -3.739597    1    0  1  2018  01  14   08      30       00  \n",
       "2322168  40.397749 -3.710660    0    1  1  2018  05  24   10      00       00  \n",
       "902042   40.400219 -3.719845    1    0  1  2018  01  22   07      45       00  \n",
       "868875   40.386556 -3.690187    1    0  1  2018  01  21   14      00       00  \n",
       "2478637  40.427376 -3.679939    0    1  1  2018  05  28   03      45       00  "
      ]
     },
     "execution_count": 7,
     "metadata": {},
     "output_type": "execute_result"
    }
   ],
   "source": [
    "df.sample(5)"
   ]
  },
  {
   "cell_type": "code",
   "execution_count": 8,
   "metadata": {},
   "outputs": [
    {
     "data": {
      "text/plain": [
       "<matplotlib.axes._subplots.AxesSubplot at 0x1a8f465f60>"
      ]
     },
     "execution_count": 8,
     "metadata": {},
     "output_type": "execute_result"
    },
    {
     "data": {
      "image/png": "[encoded data removed]",
      "text/plain": [
       "<Figure size 360x360 with 2 Axes>"
      ]
     },
     "metadata": {
      "needs_background": "light"
     },
     "output_type": "display_data"
    }
   ],
   "source": [
    "import seaborn as sns\n",
    "import matplotlib.pyplot as plt\n",
    "%matplotlib inline\n",
    "plt.figure(figsize=(5,5))\n",
    "sns.heatmap(df.corr())"
   ]
  },
  {
   "cell_type": "markdown",
   "metadata": {},
   "source": [
    "SPLITTING THE DATASET IN TRAIN AND TEST SETS"
   ]
  },
  {
   "cell_type": "code",
   "execution_count": 9,
   "metadata": {},
   "outputs": [],
   "source": [
    "X=df.drop(['carga'],axis=1)"
   ]
  },
  {
   "cell_type": "code",
   "execution_count": 10,
   "metadata": {},
   "outputs": [
    {
     "data": {
      "text/plain": [
       "str"
      ]
     },
     "execution_count": 10,
     "metadata": {},
     "output_type": "execute_result"
    }
   ],
   "source": [
    "type(X['Hora'][0])"
   ]
  },
  {
   "cell_type": "code",
   "execution_count": 11,
   "metadata": {},
   "outputs": [
    {
     "data": {
      "text/plain": [
       "(2639610, 16)"
      ]
     },
     "execution_count": 11,
     "metadata": {},
     "output_type": "execute_result"
    }
   ],
   "source": [
    "X.shape"
   ]
  },
  {
   "cell_type": "code",
   "execution_count": 12,
   "metadata": {},
   "outputs": [],
   "source": [
    "y=df['carga']"
   ]
  },
  {
   "cell_type": "code",
   "execution_count": 13,
   "metadata": {},
   "outputs": [
    {
     "data": {
      "text/plain": [
       "(2639610,)"
      ]
     },
     "execution_count": 13,
     "metadata": {},
     "output_type": "execute_result"
    }
   ],
   "source": [
    "y.shape"
   ]
  },
  {
   "cell_type": "code",
   "execution_count": 14,
   "metadata": {},
   "outputs": [],
   "source": [
    "rg1=KNeighborsRegressor(n_neighbors=5)"
   ]
  },
  {
   "cell_type": "code",
   "execution_count": 15,
   "metadata": {},
   "outputs": [
    {
     "name": "stdout",
     "output_type": "stream",
     "text": [
      "CPU times: user 5min, sys: 5.28 s, total: 5min 5s\n",
      "Wall time: 5min 9s\n"
     ]
    }
   ],
   "source": [
    "%%time\n",
    "cvs_kn=cross_val_score(rg1,X,y,scoring='neg_mean_absolute_error')"
   ]
  },
  {
   "cell_type": "code",
   "execution_count": 16,
   "metadata": {},
   "outputs": [
    {
     "data": {
      "text/plain": [
       "-3.976986372986918"
      ]
     },
     "execution_count": 16,
     "metadata": {},
     "output_type": "execute_result"
    }
   ],
   "source": [
    "cvs_kn.mean()"
   ]
  },
  {
   "cell_type": "code",
   "execution_count": 17,
   "metadata": {},
   "outputs": [
    {
     "data": {
      "text/plain": [
       "1.9942382939325274"
      ]
     },
     "execution_count": 17,
     "metadata": {},
     "output_type": "execute_result"
    }
   ],
   "source": [
    "import numpy as np\n",
    "np.sqrt(abs(cvs_kn.mean()))"
   ]
  },
  {
   "cell_type": "markdown",
   "metadata": {},
   "source": [
    "With GridSearchCV"
   ]
  },
  {
   "cell_type": "code",
   "execution_count": 18,
   "metadata": {},
   "outputs": [
    {
     "name": "stdout",
     "output_type": "stream",
     "text": [
      "CPU times: user 143 µs, sys: 293 µs, total: 436 µs\n",
      "Wall time: 443 µs\n"
     ]
    }
   ],
   "source": [
    "%%time\n",
    "reg_KN=GridSearchCV(KNeighborsRegressor(n_neighbors=1),\n",
    "                    param_grid={\"n_neighbors\":range(1,20)},\n",
    "                    scoring=\"neg_mean_squared_error\",\n",
    "                    cv=10)"
   ]
  },
  {
   "cell_type": "raw",
   "metadata": {},
   "source": [
    "%%time\n",
    "reg_KN.fit(X,y)"
   ]
  },
  {
   "cell_type": "raw",
   "metadata": {},
   "source": [
    "np.sqrt(-reg_KN.best_score_)"
   ]
  },
  {
   "cell_type": "raw",
   "metadata": {},
   "source": [
    "reg_KN.best_param_"
   ]
  },
  {
   "cell_type": "code",
   "execution_count": 20,
   "metadata": {},
   "outputs": [
    {
     "name": "stdout",
     "output_type": "stream",
     "text": [
      "-75.86917325250708\n",
      "{'max_depth': 4, 'min_samples_leaf': 40}\n",
      "CPU times: user 9min 33s, sys: 32.3 s, total: 10min 5s\n",
      "Wall time: 10min 13s\n"
     ]
    }
   ],
   "source": [
    "%%time\n",
    "#Decission Tree\n",
    "reg_DeciTree=GridSearchCV(DecisionTreeRegressor(min_samples_leaf=1,max_depth=4),\n",
    "                          param_grid={\"min_samples_leaf\":[10,20,30,40,70,100],\"max_depth\":range(2,10)},\n",
    "                          scoring=\"neg_mean_squared_error\"\n",
    "                          )\n",
    "reg_DeciTree.fit(X,y)\n",
    "print(reg_DeciTree.best_score_)\n",
    "print(reg_DeciTree.best_params_)"
   ]
  },
  {
   "cell_type": "code",
   "execution_count": 21,
   "metadata": {},
   "outputs": [
    {
     "name": "stdout",
     "output_type": "stream",
     "text": [
      "8.710291226618493\n"
     ]
    }
   ],
   "source": [
    "print(np.sqrt(-reg_DeciTree.best_score_))"
   ]
  },
  {
   "cell_type": "code",
   "execution_count": 22,
   "metadata": {},
   "outputs": [
    {
     "name": "stdout",
     "output_type": "stream",
     "text": [
      "6.296403723326066\n",
      "{'max_depth': 9, 'min_samples_leaf': 20}\n",
      "CPU times: user 30min 2s, sys: 1min 20s, total: 31min 22s\n",
      "Wall time: 31min 50s\n"
     ]
    }
   ],
   "source": [
    "%%time\n",
    "#Decission Tree\n",
    "reg_DeciTree2=GridSearchCV(DecisionTreeRegressor(min_samples_leaf=1,max_depth=4),\n",
    "                          param_grid={\"min_samples_leaf\":[10,20,30,40,70,100],\"max_depth\":range(2,10)},\n",
    "                          scoring=\"neg_mean_squared_error\"\n",
    "                          )\n",
    "reg_DeciTree2.fit(X,y)\n",
    "print(np.sqrt(-reg_DeciTree2.best_score_))\n",
    "print(reg_DeciTree2.best_params_)"
   ]
  },
  {
   "cell_type": "code",
   "execution_count": null,
   "metadata": {},
   "outputs": [],
   "source": [
    "%%time\n",
    "#Random Forest\n",
    "reg_RF=GridSearchCV(RandomForestRegressor(n_estimators=100,min_samples_leaf=1,max_depth=4),\n",
    "                          param_grid={\"min_samples_leaf\":[10,20,30,40,70,100],\"max_depth\":range(2,10)},\n",
    "                          scoring=\"neg_mean_squared_error\"\n",
    "                          )\n",
    "reg_RF.fit(X,y)\n",
    "print(reg_RF.best_score_)\n",
    "print(np.sqrt(-reg_RF.best_score_))\n",
    "print(reg_RF.best_params_)"
   ]
  },
  {
   "cell_type": "code",
   "execution_count": null,
   "metadata": {},
   "outputs": [],
   "source": [
    "%time\n",
    "#XGBoost\n",
    "reg_XGB=GridSearchCV(XGBRegressor(n_estimators=100,min_samples_leaf=1,max_depth=4),\n",
    "                          param_grid={\"min_samples_leaf\":[10,20,30,40,70,100],\"max_depth\":range(2,10)},\n",
    "                          scoring=\"neg_mean_squared_error\"\n",
    "                          )\n",
    "reg_XGB.fit(X,y)\n",
    "print(reg_XGB.best_score_)\n",
    "print(np.sqrt(-reg_XGB.best_score_))\n",
    "print(reg_XGB.best_params_)"
   ]
  },
  {
   "cell_type": "markdown",
   "metadata": {},
   "source": [
    "**Regression metrics**\n",
    "- ‘explained_variance’ \n",
    "- ‘neg_mean_absolute_error’\n",
    "- ‘neg_mean_squared_error’\n",
    "- ‘neg_mean_squared_log_error’\n",
    "- ‘neg_median_absolute_error’"
   ]
  },
  {
   "cell_type": "raw",
   "metadata": {},
   "source": [
    "# Fit regression model\n",
    "params = {'n_estimators': 500, 'max_depth': 4, 'min_samples_split': 2,\n",
    "          'learning_rate': 0.01, 'loss': 'ls'}\n",
    "clf = ensemble.GradientBoostingRegressor(**params)\n",
    "\n",
    "clf.fit(X_train, y_train)\n",
    "mse = mean_squared_error(y_test, clf.predict(X_test))\n",
    "print(\"MSE: %.4f\" % mse)"
   ]
  },
  {
   "cell_type": "code",
   "execution_count": null,
   "metadata": {},
   "outputs": [],
   "source": []
  },
  {
   "cell_type": "code",
   "execution_count": null,
   "metadata": {},
   "outputs": [],
   "source": []
  }
 ],
 "metadata": {
  "kernelspec": {
   "display_name": "Python 3",
   "language": "python",
   "name": "python3"
  },
  "language_info": {
   "codemirror_mode": {
    "name": "ipython",
    "version": 3
   },
   "file_extension": ".py",
   "mimetype": "text/x-python",
   "name": "python",
   "nbconvert_exporter": "python",
   "pygments_lexer": "ipython3",
   "version": "3.6.6"
  }
 },
 "nbformat": 4,
 "nbformat_minor": 2
}

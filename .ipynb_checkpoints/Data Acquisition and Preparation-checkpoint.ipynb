{
 "cells": [
  {
   "cell_type": "markdown",
   "metadata": {},
   "source": [
    "## **IMPORT PACKAGES**"
   ]
  },
  {
   "cell_type": "code",
   "execution_count": 2,
   "metadata": {},
   "outputs": [],
   "source": [
    "import pandas as pd\n",
    "import numpy as np\n",
    "import math\n",
    "from datetime import datetime\n",
    "import os\n",
    "#VISUALIZATION\n",
    "import seaborn as sns\n",
    "import matplotlib.pyplot as plt\n",
    "%matplotlib inline"
   ]
  },
  {
   "cell_type": "markdown",
   "metadata": {},
   "source": [
    "## **READING RAW DATA FROM CSV FILES**"
   ]
  },
  {
   "cell_type": "markdown",
   "metadata": {},
   "source": [
    "We only have taking into account for this project the traffic data from January to August. There are a zip file for each month inside of *InputData* folder"
   ]
  },
  {
   "cell_type": "code",
   "execution_count": 3,
   "metadata": {},
   "outputs": [
    {
     "name": "stdout",
     "output_type": "stream",
     "text": [
      "CPU times: user 2min 3s, sys: 36.3 s, total: 2min 40s\n",
      "Wall time: 2min 42s\n"
     ]
    }
   ],
   "source": [
    "%%time\n",
    "df_list = []\n",
    "source='/Users/antoniobravomunoz/Documents/DATA_SCIENCE_MASTER/TFM/Data/Historico/InputData/'\n",
    "\n",
    "for file in os.listdir(source):\n",
    "    df_aux = pd.read_csv(source+file,sep=';')\n",
    "    df_list.append(df_aux)\n",
    "\n",
    "df = pd.concat(df_list, axis=0, ignore_index=True)\n",
    "#df = df.append([df for df in df_list],ignore_index=True)\n",
    "#df.to_csv('final.csv', index=False)"
   ]
  },
  {
   "cell_type": "code",
   "execution_count": 4,
   "metadata": {},
   "outputs": [
    {
     "data": {
      "text/plain": [
       "(89858302, 9)"
      ]
     },
     "execution_count": 4,
     "metadata": {},
     "output_type": "execute_result"
    }
   ],
   "source": [
    "df.shape"
   ]
  },
  {
   "cell_type": "markdown",
   "metadata": {},
   "source": [
    "## **DATA PREPARATION**"
   ]
  },
  {
   "cell_type": "markdown",
   "metadata": {},
   "source": [
    "**- Formating \"Fecha\" Column and splitting it on \"Date\" and \"Hora\"**"
   ]
  },
  {
   "cell_type": "code",
   "execution_count": 5,
   "metadata": {},
   "outputs": [
    {
     "name": "stdout",
     "output_type": "stream",
     "text": [
      "CPU times: user 2min 7s, sys: 2min 17s, total: 4min 24s\n",
      "Wall time: 5min 20s\n"
     ]
    }
   ],
   "source": [
    "%%time\n",
    "df['fecha']=pd.to_datetime(df['fecha'], format='%Y-%m-%d %H:%M:%S')\n",
    "df['Fecha']=df[\"fecha\"].dt.date\n",
    "#Creating new columns spiltting Date and Hour of the day.\n",
    "df['Hora']=df[\"fecha\"].dt.time\n",
    "df[\"Date\"]=df[\"fecha\"]\n",
    "#Drop original column fecha\n",
    "df = df.drop('fecha', 1)"
   ]
  },
  {
   "cell_type": "code",
   "execution_count": 6,
   "metadata": {},
   "outputs": [
    {
     "data": {
      "text/plain": [
       "id                              int64\n",
       "tipo_elem                      object\n",
       "intensidad                      int64\n",
       "ocupacion                       int64\n",
       "carga                           int64\n",
       "vmed                            int64\n",
       "error                          object\n",
       "periodo_integracion             int64\n",
       "Fecha                          object\n",
       "Hora                           object\n",
       "Date                   datetime64[ns]\n",
       "dtype: object"
      ]
     },
     "execution_count": 6,
     "metadata": {},
     "output_type": "execute_result"
    }
   ],
   "source": [
    "df.dtypes"
   ]
  },
  {
   "cell_type": "markdown",
   "metadata": {},
   "source": [
    "**- Obtaining X e Y UTM coordinates from others files**"
   ]
  },
  {
   "cell_type": "raw",
   "metadata": {},
   "source": [
    "# %%time\n",
    "dfplaces_list = []\n",
    "sourceMP='/Users/antoniobravomunoz/Documents/DATA_SCIENCE_MASTER/TFM/Data/HistoricoPuntosMedidaUbic/'\n",
    "\n",
    "for file in os.listdir(sourceMP):\n",
    "    df_aux = pd.read_csv(sourceMP+file,sep=';',encoding='ISO-8859-1',decimal=\",\")\n",
    "    dfplaces_list.append(df_aux)\n",
    "\n",
    "dfplaces = dfplaces.append([df for df in dfplaces_list])"
   ]
  },
  {
   "cell_type": "markdown",
   "metadata": {},
   "source": [
    "Finally, we only keep in mind points measuremente places on the last month registed. By this way, we filer only for the points that they are currently working. These are only the interested ones for us."
   ]
  },
  {
   "cell_type": "code",
   "execution_count": 7,
   "metadata": {},
   "outputs": [],
   "source": [
    "sourceMP='/Users/antoniobravomunoz/Documents/DATA_SCIENCE_MASTER/TFM/Data/HistoricoPuntosMedidaUbic/pmed_ubicacion_09_2018.csv'\n",
    "dfplaces=pd.read_csv(sourceMP,sep=';',encoding='ISO-8859-1',decimal=\",\")"
   ]
  },
  {
   "cell_type": "code",
   "execution_count": 8,
   "metadata": {},
   "outputs": [
    {
     "data": {
      "text/plain": [
       "tipo_elem     object\n",
       "id             int64\n",
       "cod_cent      object\n",
       "nombre        object\n",
       "x            float64\n",
       "y            float64\n",
       "dtype: object"
      ]
     },
     "execution_count": 8,
     "metadata": {},
     "output_type": "execute_result"
    }
   ],
   "source": [
    "dfplaces.dtypes"
   ]
  },
  {
   "cell_type": "markdown",
   "metadata": {},
   "source": [
    "**- Transforming Coordinates from UTM to Latitude and Longitude.**\n",
    "\n",
    "Code function source: https://stackoverflow.com/questions/343865/how-to-convert-from-utm-to-latlng-in-python-or-javascript\n",
    "\n",
    "Modifications: \n",
    " - Madrid zone value: 30\n",
    " - Values returned like a list of float64"
   ]
  },
  {
   "cell_type": "code",
   "execution_count": 9,
   "metadata": {},
   "outputs": [],
   "source": [
    "def utmToLatLng(easting, northing, northernHemisphere=True,zone=30):\n",
    "    #Defining default Madrid zone with the value: 30\n",
    "    if not northernHemisphere:\n",
    "        northing = 10000000 - northing\n",
    "\n",
    "    a = 6378137\n",
    "    e = 0.081819191\n",
    "    e1sq = 0.006739497\n",
    "    k0 = 0.9996\n",
    "\n",
    "    arc = northing / k0\n",
    "    mu = arc / (a * (1 - math.pow(e, 2) / 4.0 - 3 * math.pow(e, 4) / 64.0 - 5 * math.pow(e, 6) / 256.0))\n",
    "\n",
    "    ei = (1 - math.pow((1 - e * e), (1 / 2.0))) / (1 + math.pow((1 - e * e), (1 / 2.0)))\n",
    "\n",
    "    ca = 3 * ei / 2 - 27 * math.pow(ei, 3) / 32.0\n",
    "\n",
    "    cb = 21 * math.pow(ei, 2) / 16 - 55 * math.pow(ei, 4) / 32\n",
    "    cc = 151 * math.pow(ei, 3) / 96\n",
    "    cd = 1097 * math.pow(ei, 4) / 512\n",
    "    phi1 = mu + ca * math.sin(2 * mu) + cb * math.sin(4 * mu) + cc * math.sin(6 * mu) + cd * math.sin(8 * mu)\n",
    "\n",
    "    n0 = a / math.pow((1 - math.pow((e * math.sin(phi1)), 2)), (1 / 2.0))\n",
    "\n",
    "    r0 = a * (1 - e * e) / math.pow((1 - math.pow((e * math.sin(phi1)), 2)), (3 / 2.0))\n",
    "    fact1 = n0 * math.tan(phi1) / r0\n",
    "\n",
    "    _a1 = 500000 - easting\n",
    "    dd0 = _a1 / (n0 * k0)\n",
    "    fact2 = dd0 * dd0 / 2\n",
    "\n",
    "    t0 = math.pow(math.tan(phi1), 2)\n",
    "    Q0 = e1sq * math.pow(math.cos(phi1), 2)\n",
    "    fact3 = (5 + 3 * t0 + 10 * Q0 - 4 * Q0 * Q0 - 9 * e1sq) * math.pow(dd0, 4) / 24\n",
    "\n",
    "    fact4 = (61 + 90 * t0 + 298 * Q0 + 45 * t0 * t0 - 252 * e1sq - 3 * Q0 * Q0) * math.pow(dd0, 6) / 720\n",
    "\n",
    "    lof1 = _a1 / (n0 * k0)\n",
    "    lof2 = (1 + 2 * t0 + Q0) * math.pow(dd0, 3) / 6.0\n",
    "    lof3 = (5 - 2 * Q0 + 28 * t0 - 3 * math.pow(Q0, 2) + 8 * e1sq + 24 * math.pow(t0, 2)) * math.pow(dd0, 5) / 120\n",
    "    _a2 = (lof1 - lof2 + lof3) / math.cos(phi1)\n",
    "    _a3 = _a2 * 180 / math.pi\n",
    "\n",
    "    latitude = 180 * (phi1 - fact1 * (fact2 + fact3 + fact4)) / math.pi\n",
    "\n",
    "    if not northernHemisphere:\n",
    "        latitude = -latitude\n",
    "\n",
    "    longitude = ((zone > 0) and (6 * zone - 183.0) or 3.0) - _a3\n",
    "\n",
    "    return [latitude, longitude]"
   ]
  },
  {
   "cell_type": "code",
   "execution_count": 10,
   "metadata": {},
   "outputs": [
    {
     "name": "stdout",
     "output_type": "stream",
     "text": [
      "CPU times: user 208 ms, sys: 13.1 ms, total: 221 ms\n",
      "Wall time: 239 ms\n"
     ]
    }
   ],
   "source": [
    "%%time\n",
    "dfplaces['LatLong'] = dfplaces.apply(lambda x: utmToLatLng(x['x'], x['y']), axis=1)"
   ]
  },
  {
   "cell_type": "code",
   "execution_count": 11,
   "metadata": {},
   "outputs": [
    {
     "name": "stdout",
     "output_type": "stream",
     "text": [
      "CPU times: user 3.96 ms, sys: 2.85 ms, total: 6.81 ms\n",
      "Wall time: 8.54 ms\n"
     ]
    }
   ],
   "source": [
    "%%time\n",
    "dfplaces[['Lat','Long']] = pd.DataFrame(dfplaces.LatLong.values.tolist(), index= dfplaces.index)"
   ]
  },
  {
   "cell_type": "code",
   "execution_count": 12,
   "metadata": {},
   "outputs": [],
   "source": [
    "dfplaces=dfplaces.drop(columns=['LatLong'])"
   ]
  },
  {
   "cell_type": "code",
   "execution_count": 13,
   "metadata": {},
   "outputs": [
    {
     "data": {
      "text/html": [
       "<div>\n",
       "<style scoped>\n",
       "    .dataframe tbody tr th:only-of-type {\n",
       "        vertical-align: middle;\n",
       "    }\n",
       "\n",
       "    .dataframe tbody tr th {\n",
       "        vertical-align: top;\n",
       "    }\n",
       "\n",
       "    .dataframe thead th {\n",
       "        text-align: right;\n",
       "    }\n",
       "</style>\n",
       "<table border=\"1\" class=\"dataframe\">\n",
       "  <thead>\n",
       "    <tr style=\"text-align: right;\">\n",
       "      <th></th>\n",
       "      <th>tipo_elem</th>\n",
       "      <th>id</th>\n",
       "      <th>cod_cent</th>\n",
       "      <th>nombre</th>\n",
       "      <th>x</th>\n",
       "      <th>y</th>\n",
       "      <th>Lat</th>\n",
       "      <th>Long</th>\n",
       "    </tr>\n",
       "  </thead>\n",
       "  <tbody>\n",
       "    <tr>\n",
       "      <th>0</th>\n",
       "      <td>URB</td>\n",
       "      <td>3840</td>\n",
       "      <td>01001</td>\n",
       "      <td>Jose Ortega y Gasset E-O - Pº Castellana-Serrano</td>\n",
       "      <td>441615.343347</td>\n",
       "      <td>4.475768e+06</td>\n",
       "      <td>40.430502</td>\n",
       "      <td>-3.688323</td>\n",
       "    </tr>\n",
       "    <tr>\n",
       "      <th>1</th>\n",
       "      <td>URB</td>\n",
       "      <td>3841</td>\n",
       "      <td>01002</td>\n",
       "      <td>Jose Ortega y Gasset O-E - Serrano-Pº Castellana</td>\n",
       "      <td>441705.882340</td>\n",
       "      <td>4.475770e+06</td>\n",
       "      <td>40.430524</td>\n",
       "      <td>-3.687256</td>\n",
       "    </tr>\n",
       "    <tr>\n",
       "      <th>2</th>\n",
       "      <td>URB</td>\n",
       "      <td>3842</td>\n",
       "      <td>01003</td>\n",
       "      <td>Pº Recoletos N-S - Almirante-Prim</td>\n",
       "      <td>441319.371258</td>\n",
       "      <td>4.474841e+06</td>\n",
       "      <td>40.422132</td>\n",
       "      <td>-3.691727</td>\n",
       "    </tr>\n",
       "    <tr>\n",
       "      <th>3</th>\n",
       "      <td>URB</td>\n",
       "      <td>3843</td>\n",
       "      <td>01004</td>\n",
       "      <td>Pº Recoletos S-N - Pl, Cibeles- Recoletos</td>\n",
       "      <td>441301.632986</td>\n",
       "      <td>4.474764e+06</td>\n",
       "      <td>40.421433</td>\n",
       "      <td>-3.691929</td>\n",
       "    </tr>\n",
       "    <tr>\n",
       "      <th>4</th>\n",
       "      <td>URB</td>\n",
       "      <td>3844</td>\n",
       "      <td>01005</td>\n",
       "      <td>(AFOROS) Pº Castellana S-N  - Eduardo Dato - P...</td>\n",
       "      <td>441605.765072</td>\n",
       "      <td>4.476132e+06</td>\n",
       "      <td>40.433782</td>\n",
       "      <td>-3.688470</td>\n",
       "    </tr>\n",
       "  </tbody>\n",
       "</table>\n",
       "</div>"
      ],
      "text/plain": [
       "  tipo_elem    id cod_cent                                             nombre  \\\n",
       "0       URB  3840    01001   Jose Ortega y Gasset E-O - Pº Castellana-Serrano   \n",
       "1       URB  3841    01002   Jose Ortega y Gasset O-E - Serrano-Pº Castellana   \n",
       "2       URB  3842    01003                  Pº Recoletos N-S - Almirante-Prim   \n",
       "3       URB  3843    01004          Pº Recoletos S-N - Pl, Cibeles- Recoletos   \n",
       "4       URB  3844    01005  (AFOROS) Pº Castellana S-N  - Eduardo Dato - P...   \n",
       "\n",
       "               x             y        Lat      Long  \n",
       "0  441615.343347  4.475768e+06  40.430502 -3.688323  \n",
       "1  441705.882340  4.475770e+06  40.430524 -3.687256  \n",
       "2  441319.371258  4.474841e+06  40.422132 -3.691727  \n",
       "3  441301.632986  4.474764e+06  40.421433 -3.691929  \n",
       "4  441605.765072  4.476132e+06  40.433782 -3.688470  "
      ]
     },
     "execution_count": 13,
     "metadata": {},
     "output_type": "execute_result"
    }
   ],
   "source": [
    "dfplaces.head()"
   ]
  },
  {
   "cell_type": "code",
   "execution_count": 14,
   "metadata": {},
   "outputs": [
    {
     "name": "stdout",
     "output_type": "stream",
     "text": [
      "CPU times: user 23.7 s, sys: 40.6 s, total: 1min 4s\n",
      "Wall time: 1min 23s\n"
     ]
    }
   ],
   "source": [
    "%%time\n",
    "df_complete=df.join(dfplaces.set_index('id')[['Lat','Long']],on='id',how='left',rsuffix='_other')"
   ]
  },
  {
   "cell_type": "code",
   "execution_count": 15,
   "metadata": {},
   "outputs": [
    {
     "data": {
      "text/plain": [
       "id                              int64\n",
       "tipo_elem                      object\n",
       "intensidad                      int64\n",
       "ocupacion                       int64\n",
       "carga                           int64\n",
       "vmed                            int64\n",
       "error                          object\n",
       "periodo_integracion             int64\n",
       "Fecha                          object\n",
       "Hora                           object\n",
       "Date                   datetime64[ns]\n",
       "Lat                           float64\n",
       "Long                          float64\n",
       "dtype: object"
      ]
     },
     "execution_count": 15,
     "metadata": {},
     "output_type": "execute_result"
    }
   ],
   "source": [
    "df_complete.dtypes"
   ]
  },
  {
   "cell_type": "code",
   "execution_count": 16,
   "metadata": {},
   "outputs": [
    {
     "data": {
      "text/html": [
       "<div>\n",
       "<style scoped>\n",
       "    .dataframe tbody tr th:only-of-type {\n",
       "        vertical-align: middle;\n",
       "    }\n",
       "\n",
       "    .dataframe tbody tr th {\n",
       "        vertical-align: top;\n",
       "    }\n",
       "\n",
       "    .dataframe thead th {\n",
       "        text-align: right;\n",
       "    }\n",
       "</style>\n",
       "<table border=\"1\" class=\"dataframe\">\n",
       "  <thead>\n",
       "    <tr style=\"text-align: right;\">\n",
       "      <th></th>\n",
       "      <th>id</th>\n",
       "      <th>tipo_elem</th>\n",
       "      <th>intensidad</th>\n",
       "      <th>ocupacion</th>\n",
       "      <th>carga</th>\n",
       "      <th>vmed</th>\n",
       "      <th>error</th>\n",
       "      <th>periodo_integracion</th>\n",
       "      <th>Fecha</th>\n",
       "      <th>Hora</th>\n",
       "      <th>Date</th>\n",
       "      <th>Lat</th>\n",
       "      <th>Long</th>\n",
       "    </tr>\n",
       "  </thead>\n",
       "  <tbody>\n",
       "    <tr>\n",
       "      <th>0</th>\n",
       "      <td>1001</td>\n",
       "      <td>PUNTOS MEDIDA M-30</td>\n",
       "      <td>204</td>\n",
       "      <td>12</td>\n",
       "      <td>0</td>\n",
       "      <td>73</td>\n",
       "      <td>N</td>\n",
       "      <td>5</td>\n",
       "      <td>2018-01-01</td>\n",
       "      <td>00:00:00</td>\n",
       "      <td>2018-01-01</td>\n",
       "      <td>40.409729</td>\n",
       "      <td>-3.740786</td>\n",
       "    </tr>\n",
       "    <tr>\n",
       "      <th>1</th>\n",
       "      <td>1002</td>\n",
       "      <td>PUNTOS MEDIDA M-30</td>\n",
       "      <td>252</td>\n",
       "      <td>1</td>\n",
       "      <td>0</td>\n",
       "      <td>79</td>\n",
       "      <td>N</td>\n",
       "      <td>5</td>\n",
       "      <td>2018-01-01</td>\n",
       "      <td>00:00:00</td>\n",
       "      <td>2018-01-01</td>\n",
       "      <td>40.408029</td>\n",
       "      <td>-3.743760</td>\n",
       "    </tr>\n",
       "    <tr>\n",
       "      <th>2</th>\n",
       "      <td>1003</td>\n",
       "      <td>PUNTOS MEDIDA M-30</td>\n",
       "      <td>420</td>\n",
       "      <td>2</td>\n",
       "      <td>0</td>\n",
       "      <td>82</td>\n",
       "      <td>N</td>\n",
       "      <td>5</td>\n",
       "      <td>2018-01-01</td>\n",
       "      <td>00:00:00</td>\n",
       "      <td>2018-01-01</td>\n",
       "      <td>40.406824</td>\n",
       "      <td>-3.746834</td>\n",
       "    </tr>\n",
       "    <tr>\n",
       "      <th>3</th>\n",
       "      <td>1006</td>\n",
       "      <td>PUNTOS MEDIDA M-30</td>\n",
       "      <td>288</td>\n",
       "      <td>1</td>\n",
       "      <td>0</td>\n",
       "      <td>75</td>\n",
       "      <td>N</td>\n",
       "      <td>5</td>\n",
       "      <td>2018-01-01</td>\n",
       "      <td>00:00:00</td>\n",
       "      <td>2018-01-01</td>\n",
       "      <td>40.411894</td>\n",
       "      <td>-3.736324</td>\n",
       "    </tr>\n",
       "    <tr>\n",
       "      <th>4</th>\n",
       "      <td>1009</td>\n",
       "      <td>PUNTOS MEDIDA M-30</td>\n",
       "      <td>276</td>\n",
       "      <td>0</td>\n",
       "      <td>0</td>\n",
       "      <td>76</td>\n",
       "      <td>N</td>\n",
       "      <td>5</td>\n",
       "      <td>2018-01-01</td>\n",
       "      <td>00:00:00</td>\n",
       "      <td>2018-01-01</td>\n",
       "      <td>40.416233</td>\n",
       "      <td>-3.724909</td>\n",
       "    </tr>\n",
       "  </tbody>\n",
       "</table>\n",
       "</div>"
      ],
      "text/plain": [
       "     id           tipo_elem  intensidad  ocupacion  carga  vmed error  \\\n",
       "0  1001  PUNTOS MEDIDA M-30         204         12      0    73     N   \n",
       "1  1002  PUNTOS MEDIDA M-30         252          1      0    79     N   \n",
       "2  1003  PUNTOS MEDIDA M-30         420          2      0    82     N   \n",
       "3  1006  PUNTOS MEDIDA M-30         288          1      0    75     N   \n",
       "4  1009  PUNTOS MEDIDA M-30         276          0      0    76     N   \n",
       "\n",
       "   periodo_integracion       Fecha      Hora       Date        Lat      Long  \n",
       "0                    5  2018-01-01  00:00:00 2018-01-01  40.409729 -3.740786  \n",
       "1                    5  2018-01-01  00:00:00 2018-01-01  40.408029 -3.743760  \n",
       "2                    5  2018-01-01  00:00:00 2018-01-01  40.406824 -3.746834  \n",
       "3                    5  2018-01-01  00:00:00 2018-01-01  40.411894 -3.736324  \n",
       "4                    5  2018-01-01  00:00:00 2018-01-01  40.416233 -3.724909  "
      ]
     },
     "execution_count": 16,
     "metadata": {},
     "output_type": "execute_result"
    }
   ],
   "source": [
    "df_complete.head()"
   ]
  },
  {
   "cell_type": "markdown",
   "metadata": {},
   "source": [
    "**- Dealing columns with missing values**"
   ]
  },
  {
   "cell_type": "code",
   "execution_count": 17,
   "metadata": {},
   "outputs": [
    {
     "name": "stdout",
     "output_type": "stream",
     "text": [
      "CPU times: user 1min 12s, sys: 1min 55s, total: 3min 7s\n",
      "Wall time: 4min 1s\n"
     ]
    },
    {
     "data": {
      "text/plain": [
       "id                     False\n",
       "tipo_elem              False\n",
       "intensidad             False\n",
       "ocupacion              False\n",
       "carga                  False\n",
       "vmed                   False\n",
       "error                  False\n",
       "periodo_integracion    False\n",
       "Fecha                  False\n",
       "Hora                   False\n",
       "Date                   False\n",
       "Lat                     True\n",
       "Long                    True\n",
       "dtype: bool"
      ]
     },
     "execution_count": 17,
     "metadata": {},
     "output_type": "execute_result"
    }
   ],
   "source": [
    "%%time\n",
    "df_complete.isnull().any()"
   ]
  },
  {
   "cell_type": "code",
   "execution_count": 18,
   "metadata": {},
   "outputs": [
    {
     "data": {
      "text/plain": [
       "(201965, 13)"
      ]
     },
     "execution_count": 18,
     "metadata": {},
     "output_type": "execute_result"
    }
   ],
   "source": [
    "nan_rows = df_complete[df_complete['Lat'].isnull()]\n",
    "nan_rows.shape"
   ]
  },
  {
   "cell_type": "code",
   "execution_count": 19,
   "metadata": {},
   "outputs": [
    {
     "data": {
      "text/plain": [
       "(89858302, 13)"
      ]
     },
     "execution_count": 19,
     "metadata": {},
     "output_type": "execute_result"
    }
   ],
   "source": [
    "df_complete.shape"
   ]
  },
  {
   "cell_type": "markdown",
   "metadata": {},
   "source": [
    "201.965 rows cointain missing values of 89.858.302 Total Values (0,22%). In this first approach, we will drop them."
   ]
  },
  {
   "cell_type": "markdown",
   "metadata": {},
   "source": [
    "We can not identify the location of these sensors because all of its measures are with null coordenates. These sensors has been checked in Measurement points dataset where information of the different Measurement Point are collected and classified. For these cases, no information about them has been found. At this point, we have 2 options:\n",
    "   1. Role out all of these registers (better option taking into account the proportion of missing values according to the total)\n",
    "   2. Take the loan values into account in order to improve the regression model (arduous work) "
   ]
  },
  {
   "cell_type": "code",
   "execution_count": 20,
   "metadata": {},
   "outputs": [
    {
     "name": "stdout",
     "output_type": "stream",
     "text": [
      "CPU times: user 1min 4s, sys: 1min 46s, total: 2min 51s\n",
      "Wall time: 3min 50s\n"
     ]
    }
   ],
   "source": [
    "%%time\n",
    "df_complete=df_complete.dropna(axis=0)"
   ]
  },
  {
   "cell_type": "code",
   "execution_count": 21,
   "metadata": {},
   "outputs": [
    {
     "data": {
      "text/plain": [
       "(89656337, 13)"
      ]
     },
     "execution_count": 21,
     "metadata": {},
     "output_type": "execute_result"
    }
   ],
   "source": [
    "df_complete.shape"
   ]
  },
  {
   "cell_type": "code",
   "execution_count": 22,
   "metadata": {},
   "outputs": [
    {
     "name": "stdout",
     "output_type": "stream",
     "text": [
      "CPU times: user 36.8 s, sys: 36.4 s, total: 1min 13s\n",
      "Wall time: 1min 36s\n"
     ]
    },
    {
     "data": {
      "text/plain": [
       "id                     False\n",
       "tipo_elem              False\n",
       "intensidad             False\n",
       "ocupacion              False\n",
       "carga                  False\n",
       "vmed                   False\n",
       "error                  False\n",
       "periodo_integracion    False\n",
       "Fecha                  False\n",
       "Hora                   False\n",
       "Date                   False\n",
       "Lat                    False\n",
       "Long                   False\n",
       "dtype: bool"
      ]
     },
     "execution_count": 22,
     "metadata": {},
     "output_type": "execute_result"
    }
   ],
   "source": [
    "%%time\n",
    "df_complete.isnull().any()"
   ]
  },
  {
   "cell_type": "markdown",
   "metadata": {},
   "source": [
    "**- Homogenizing values that are different because come from different files.**\n",
    "\n",
    "An example of this is that feature 'tipo_elem' contains different names from one files to anothers. To homogenize this feature, we apply a function to map it in a uniform way."
   ]
  },
  {
   "cell_type": "code",
   "execution_count": 23,
   "metadata": {},
   "outputs": [],
   "source": [
    "def tp_uniform(tp):\n",
    "    if (tp=='PUNTOS MEDIDA M-30' or tp=='M30'):\n",
    "        return 'M30'\n",
    "    else:\n",
    "        return 'URB'"
   ]
  },
  {
   "cell_type": "code",
   "execution_count": 24,
   "metadata": {},
   "outputs": [
    {
     "data": {
      "text/plain": [
       "<matplotlib.axes._subplots.AxesSubplot at 0x1c36581cf8>"
      ]
     },
     "execution_count": 24,
     "metadata": {},
     "output_type": "execute_result"
    },
    {
     "data": {
      "image/png": "[encoded data removed]",
      "text/plain": [
       "<Figure size 432x288 with 1 Axes>"
      ]
     },
     "metadata": {
      "needs_background": "light"
     },
     "output_type": "display_data"
    }
   ],
   "source": [
    "# Before applying the function. Histograms based on the categories.\n",
    "df_complete['tipo_elem'].value_counts().plot(kind='bar')"
   ]
  },
  {
   "cell_type": "code",
   "execution_count": 25,
   "metadata": {},
   "outputs": [
    {
     "name": "stdout",
     "output_type": "stream",
     "text": [
      "CPU times: user 24 s, sys: 1.43 s, total: 25.4 s\n",
      "Wall time: 25.7 s\n"
     ]
    }
   ],
   "source": [
    "%%time\n",
    "df_complete['tipo_elem'] = df_complete['tipo_elem'].apply(tp_uniform)"
   ]
  },
  {
   "cell_type": "code",
   "execution_count": 26,
   "metadata": {},
   "outputs": [
    {
     "data": {
      "text/plain": [
       "<matplotlib.axes._subplots.AxesSubplot at 0x1c36581780>"
      ]
     },
     "execution_count": 26,
     "metadata": {},
     "output_type": "execute_result"
    },
    {
     "data": {
      "image/png": "[encoded data removed]",
      "text/plain": [
       "<Figure size 432x288 with 1 Axes>"
      ]
     },
     "metadata": {
      "needs_background": "light"
     },
     "output_type": "display_data"
    }
   ],
   "source": [
    "# After applying the function. Histograms based on the categories. \n",
    "df_complete['tipo_elem'].value_counts().plot(kind='bar')"
   ]
  },
  {
   "cell_type": "markdown",
   "metadata": {},
   "source": [
    "There are some Measurement Points marked as *M30* type for some months and for another ones they are marked as *URB*. For these cases, we are going to mark them as *M30* for every month."
   ]
  },
  {
   "cell_type": "raw",
   "metadata": {},
   "source": [
    "#######\n",
    "df_complete[df_complete['id']==6877]['tipo_elem'].value_counts().plot(kind='bar')"
   ]
  },
  {
   "cell_type": "raw",
   "metadata": {},
   "source": [
    "#######\n",
    "df_complete[df_complete['id']==4120]['tipo_elem'].value_counts().plot(kind='bar')"
   ]
  },
  {
   "cell_type": "raw",
   "metadata": {},
   "source": [
    "#######\n",
    "df_complete[df_complete['id']==6877].sort_values('Fecha', axis=0)"
   ]
  },
  {
   "cell_type": "raw",
   "metadata": {},
   "source": [
    "#######\n",
    "df_complete[df_complete['id']==6877]['tipo_elem'].unique()"
   ]
  },
  {
   "cell_type": "raw",
   "metadata": {},
   "source": [
    "#######\n",
    "'M30' in df_complete[df_complete['id']==6877]['tipo_elem'].unique()"
   ]
  },
  {
   "cell_type": "raw",
   "metadata": {},
   "source": [
    "#######\n",
    "pd.unique(df_complete['id'].values).shape"
   ]
  },
  {
   "cell_type": "raw",
   "metadata": {},
   "source": [
    "#######\n",
    "def tp_uniform_for_month(df):\n",
    "    for mp in pd.unique(df_complete['id'].values):\n",
    "        if (('M30' in df[df['id']==mp]['tipo_elem'].unique())==True) and (('URB' in df_complete[df_complete['id']==mp]['tipo_elem'].unique())==True):\n",
    "            return 'M30'"
   ]
  },
  {
   "cell_type": "raw",
   "metadata": {},
   "source": [
    "#######\n",
    "%%time\n",
    "df_complete['tipo_elem'] = df_complete.apply(tp_uniform_for_month)"
   ]
  },
  {
   "cell_type": "raw",
   "metadata": {},
   "source": [
    "#######\n",
    "%%time\n",
    "for mp in pd.unique(df_complete['id'].values):\n",
    "    if (('M30' in df_complete[df_complete['id']==mp]['tipo_elem'].unique())==True) and (('URB' in df_complete[df_complete['id']==mp]['tipo_elem'].unique())==True):\n",
    "        #df_complete[df_complete['id']==mp]['tipo_elem']='M30'\n",
    "        df_complete.loc[df_complete['id'] == mp]['tipo_elem']='M30'"
   ]
  },
  {
   "cell_type": "raw",
   "metadata": {},
   "source": [
    "#######\n",
    "df_complete.tipo_elem.loc[df_complete['id']==4120]='URB'"
   ]
  },
  {
   "cell_type": "markdown",
   "metadata": {},
   "source": [
    "**- Dealing with wrong values**"
   ]
  },
  {
   "cell_type": "markdown",
   "metadata": {},
   "source": [
    "*According to the data source:*\n",
    "\n",
    "   *\"En el caso de M30, si la velocidad media es “0” junto con el resto de datos es por ser un horario y una vía por la que no ha pasado ningún vehículo en ese periodo de tiempo. Sin embargo, si hay datos en intensidad u ocupación y la velocidad media es “0”, podría ser un error en la toma de datos por un fallo en el detector, un desfase horario o un fallo en el lazo electromagnético.\"*\n",
    "\n",
    "   *\"Para campos de vmed, intensidad y ocupación, si el valor es -1 implica la ausencia de datos. Podemos eliminar el registro correspondiente o imputarlo, con por ejemplo la media.\"*"
   ]
  },
  {
   "cell_type": "code",
   "execution_count": 27,
   "metadata": {},
   "outputs": [
    {
     "name": "stdout",
     "output_type": "stream",
     "text": [
      "CPU times: user 46 s, sys: 1min 39s, total: 2min 25s\n",
      "Wall time: 3min 21s\n"
     ]
    }
   ],
   "source": [
    "%%time\n",
    "condition=(df_complete['vmed'] == 0) & ((df_complete['intensidad']!=0) | (df_complete['ocupacion'] !=0))\n",
    "df_complete_2=df_complete.drop(df_complete[condition].index)"
   ]
  },
  {
   "cell_type": "code",
   "execution_count": 28,
   "metadata": {},
   "outputs": [
    {
     "name": "stdout",
     "output_type": "stream",
     "text": [
      "CPU times: user 4.5 s, sys: 8.45 s, total: 13 s\n",
      "Wall time: 18.2 s\n"
     ]
    }
   ],
   "source": [
    "%%time\n",
    "df_complete_3=df_complete_2.drop(df_complete_2[df_complete_2['vmed']<0].index)"
   ]
  },
  {
   "cell_type": "markdown",
   "metadata": {},
   "source": [
    "In a first approximation, we will drop these registers. Once we have a model for applying, we will want to improve it for example inputing them, between other actions."
   ]
  },
  {
   "cell_type": "code",
   "execution_count": 29,
   "metadata": {},
   "outputs": [
    {
     "data": {
      "text/plain": [
       "(10274183, 13)"
      ]
     },
     "execution_count": 29,
     "metadata": {},
     "output_type": "execute_result"
    }
   ],
   "source": [
    "df_complete_3.shape"
   ]
  },
  {
   "cell_type": "markdown",
   "metadata": {},
   "source": [
    "If we would have \"intensidad\", \"ocupacion\", \"carga\" or \"vmed\" taking negative values, it means that these are incorrect registers so we will drop it."
   ]
  },
  {
   "cell_type": "code",
   "execution_count": 30,
   "metadata": {},
   "outputs": [
    {
     "data": {
      "text/html": [
       "<div>\n",
       "<style scoped>\n",
       "    .dataframe tbody tr th:only-of-type {\n",
       "        vertical-align: middle;\n",
       "    }\n",
       "\n",
       "    .dataframe tbody tr th {\n",
       "        vertical-align: top;\n",
       "    }\n",
       "\n",
       "    .dataframe thead th {\n",
       "        text-align: right;\n",
       "    }\n",
       "</style>\n",
       "<table border=\"1\" class=\"dataframe\">\n",
       "  <thead>\n",
       "    <tr style=\"text-align: right;\">\n",
       "      <th></th>\n",
       "      <th>id</th>\n",
       "      <th>intensidad</th>\n",
       "      <th>ocupacion</th>\n",
       "      <th>carga</th>\n",
       "      <th>vmed</th>\n",
       "      <th>periodo_integracion</th>\n",
       "      <th>Lat</th>\n",
       "      <th>Long</th>\n",
       "    </tr>\n",
       "  </thead>\n",
       "  <tbody>\n",
       "    <tr>\n",
       "      <th>count</th>\n",
       "      <td>1.027418e+07</td>\n",
       "      <td>1.027418e+07</td>\n",
       "      <td>1.027418e+07</td>\n",
       "      <td>1.027418e+07</td>\n",
       "      <td>1.027418e+07</td>\n",
       "      <td>1.027418e+07</td>\n",
       "      <td>1.027418e+07</td>\n",
       "      <td>1.027418e+07</td>\n",
       "    </tr>\n",
       "    <tr>\n",
       "      <th>mean</th>\n",
       "      <td>5.971502e+03</td>\n",
       "      <td>1.169725e+03</td>\n",
       "      <td>5.031878e+00</td>\n",
       "      <td>2.249205e+01</td>\n",
       "      <td>5.836161e+01</td>\n",
       "      <td>1.195411e+01</td>\n",
       "      <td>4.042927e+01</td>\n",
       "      <td>-3.692294e+00</td>\n",
       "    </tr>\n",
       "    <tr>\n",
       "      <th>std</th>\n",
       "      <td>2.272190e+03</td>\n",
       "      <td>1.328800e+03</td>\n",
       "      <td>7.013749e+00</td>\n",
       "      <td>2.753206e+01</td>\n",
       "      <td>2.789914e+01</td>\n",
       "      <td>4.609629e+00</td>\n",
       "      <td>3.692234e-02</td>\n",
       "      <td>3.423339e-02</td>\n",
       "    </tr>\n",
       "    <tr>\n",
       "      <th>min</th>\n",
       "      <td>1.001000e+03</td>\n",
       "      <td>0.000000e+00</td>\n",
       "      <td>-1.000000e+00</td>\n",
       "      <td>0.000000e+00</td>\n",
       "      <td>0.000000e+00</td>\n",
       "      <td>1.000000e+00</td>\n",
       "      <td>4.033245e+01</td>\n",
       "      <td>-3.836943e+00</td>\n",
       "    </tr>\n",
       "    <tr>\n",
       "      <th>25%</th>\n",
       "      <td>4.746000e+03</td>\n",
       "      <td>1.560000e+02</td>\n",
       "      <td>0.000000e+00</td>\n",
       "      <td>0.000000e+00</td>\n",
       "      <td>4.600000e+01</td>\n",
       "      <td>5.000000e+00</td>\n",
       "      <td>4.039897e+01</td>\n",
       "      <td>-3.719845e+00</td>\n",
       "    </tr>\n",
       "    <tr>\n",
       "      <th>50%</th>\n",
       "      <td>6.733000e+03</td>\n",
       "      <td>6.570000e+02</td>\n",
       "      <td>3.000000e+00</td>\n",
       "      <td>8.000000e+00</td>\n",
       "      <td>6.500000e+01</td>\n",
       "      <td>1.500000e+01</td>\n",
       "      <td>4.041831e+01</td>\n",
       "      <td>-3.686571e+00</td>\n",
       "    </tr>\n",
       "    <tr>\n",
       "      <th>75%</th>\n",
       "      <td>6.868000e+03</td>\n",
       "      <td>1.788000e+03</td>\n",
       "      <td>7.000000e+00</td>\n",
       "      <td>4.100000e+01</td>\n",
       "      <td>7.900000e+01</td>\n",
       "      <td>1.500000e+01</td>\n",
       "      <td>4.046198e+01</td>\n",
       "      <td>-3.664111e+00</td>\n",
       "    </tr>\n",
       "    <tr>\n",
       "      <th>max</th>\n",
       "      <td>1.034300e+04</td>\n",
       "      <td>1.420800e+04</td>\n",
       "      <td>1.000000e+02</td>\n",
       "      <td>1.000000e+02</td>\n",
       "      <td>2.370000e+02</td>\n",
       "      <td>1.600000e+01</td>\n",
       "      <td>4.051561e+01</td>\n",
       "      <td>-3.580713e+00</td>\n",
       "    </tr>\n",
       "  </tbody>\n",
       "</table>\n",
       "</div>"
      ],
      "text/plain": [
       "                 id    intensidad     ocupacion         carga          vmed  \\\n",
       "count  1.027418e+07  1.027418e+07  1.027418e+07  1.027418e+07  1.027418e+07   \n",
       "mean   5.971502e+03  1.169725e+03  5.031878e+00  2.249205e+01  5.836161e+01   \n",
       "std    2.272190e+03  1.328800e+03  7.013749e+00  2.753206e+01  2.789914e+01   \n",
       "min    1.001000e+03  0.000000e+00 -1.000000e+00  0.000000e+00  0.000000e+00   \n",
       "25%    4.746000e+03  1.560000e+02  0.000000e+00  0.000000e+00  4.600000e+01   \n",
       "50%    6.733000e+03  6.570000e+02  3.000000e+00  8.000000e+00  6.500000e+01   \n",
       "75%    6.868000e+03  1.788000e+03  7.000000e+00  4.100000e+01  7.900000e+01   \n",
       "max    1.034300e+04  1.420800e+04  1.000000e+02  1.000000e+02  2.370000e+02   \n",
       "\n",
       "       periodo_integracion           Lat          Long  \n",
       "count         1.027418e+07  1.027418e+07  1.027418e+07  \n",
       "mean          1.195411e+01  4.042927e+01 -3.692294e+00  \n",
       "std           4.609629e+00  3.692234e-02  3.423339e-02  \n",
       "min           1.000000e+00  4.033245e+01 -3.836943e+00  \n",
       "25%           5.000000e+00  4.039897e+01 -3.719845e+00  \n",
       "50%           1.500000e+01  4.041831e+01 -3.686571e+00  \n",
       "75%           1.500000e+01  4.046198e+01 -3.664111e+00  \n",
       "max           1.600000e+01  4.051561e+01 -3.580713e+00  "
      ]
     },
     "execution_count": 30,
     "metadata": {},
     "output_type": "execute_result"
    }
   ],
   "source": [
    "df_complete_3.describe()"
   ]
  },
  {
   "cell_type": "code",
   "execution_count": 31,
   "metadata": {},
   "outputs": [
    {
     "name": "stdout",
     "output_type": "stream",
     "text": [
      "CPU times: user 3.69 s, sys: 6.12 s, total: 9.8 s\n",
      "Wall time: 10.9 s\n"
     ]
    }
   ],
   "source": [
    "%%time\n",
    "df_complete_4=df_complete_3.drop(df_complete_3[df_complete_3['ocupacion']<0].index)"
   ]
  },
  {
   "cell_type": "code",
   "execution_count": 32,
   "metadata": {},
   "outputs": [
    {
     "data": {
      "text/plain": [
       "(10090919, 13)"
      ]
     },
     "execution_count": 32,
     "metadata": {},
     "output_type": "execute_result"
    }
   ],
   "source": [
    "df_complete_4.shape"
   ]
  },
  {
   "cell_type": "markdown",
   "metadata": {},
   "source": [
    "Quick look to the features distribution and correlations."
   ]
  },
  {
   "cell_type": "code",
   "execution_count": 33,
   "metadata": {},
   "outputs": [
    {
     "data": {
      "text/plain": [
       "array([[<matplotlib.axes._subplots.AxesSubplot object at 0x1a1955fd30>,\n",
       "        <matplotlib.axes._subplots.AxesSubplot object at 0x1a19588080>],\n",
       "       [<matplotlib.axes._subplots.AxesSubplot object at 0x1ae1095390>,\n",
       "        <matplotlib.axes._subplots.AxesSubplot object at 0x1ae10be6a0>]],\n",
       "      dtype=object)"
      ]
     },
     "execution_count": 33,
     "metadata": {},
     "output_type": "execute_result"
    },
    {
     "data": {
      "image/png": "[encoded data removed]",
      "text/plain": [
       "<Figure size 432x288 with 4 Axes>"
      ]
     },
     "metadata": {
      "needs_background": "light"
     },
     "output_type": "display_data"
    }
   ],
   "source": [
    "df_complete_4[['intensidad','ocupacion','vmed','carga']].hist(bins=20)"
   ]
  },
  {
   "cell_type": "code",
   "execution_count": 34,
   "metadata": {},
   "outputs": [
    {
     "data": {
      "text/plain": [
       "<matplotlib.axes._subplots.AxesSubplot at 0x1a1b5fe7f0>"
      ]
     },
     "execution_count": 34,
     "metadata": {},
     "output_type": "execute_result"
    },
    {
     "data": {
      "image/png": "[encoded data removed]",
      "text/plain": [
       "<Figure size 360x360 with 2 Axes>"
      ]
     },
     "metadata": {
      "needs_background": "light"
     },
     "output_type": "display_data"
    }
   ],
   "source": [
    "plt.figure(figsize=(5,5))\n",
    "sns.heatmap(df_complete_4.corr())"
   ]
  },
  {
   "cell_type": "markdown",
   "metadata": {},
   "source": [
    "**- Looking for Outliers**"
   ]
  },
  {
   "cell_type": "markdown",
   "metadata": {},
   "source": [
    "- *Visual Approach*"
   ]
  },
  {
   "cell_type": "code",
   "execution_count": 35,
   "metadata": {},
   "outputs": [
    {
     "data": {
      "text/plain": [
       "<matplotlib.axes._subplots.AxesSubplot at 0x1a31a8b400>"
      ]
     },
     "execution_count": 35,
     "metadata": {},
     "output_type": "execute_result"
    },
    {
     "data": {
      "image/png": "[encoded data removed]",
      "text/plain": [
       "<Figure size 720x360 with 1 Axes>"
      ]
     },
     "metadata": {
      "needs_background": "light"
     },
     "output_type": "display_data"
    }
   ],
   "source": [
    "df_complete_4.boxplot(column=['ocupacion','vmed','carga'], grid=True, figsize=(10,5))"
   ]
  },
  {
   "cell_type": "code",
   "execution_count": 36,
   "metadata": {},
   "outputs": [
    {
     "data": {
      "text/plain": [
       "<matplotlib.axes._subplots.AxesSubplot at 0x1a31726710>"
      ]
     },
     "execution_count": 36,
     "metadata": {},
     "output_type": "execute_result"
    },
    {
     "data": {
      "image/png": "[encoded data removed]",
      "text/plain": [
       "<Figure size 720x360 with 1 Axes>"
      ]
     },
     "metadata": {
      "needs_background": "light"
     },
     "output_type": "display_data"
    }
   ],
   "source": [
    "df_complete_4.boxplot(column=['intensidad'], grid=True, figsize=(10,5))"
   ]
  },
  {
   "cell_type": "markdown",
   "metadata": {},
   "source": [
    "We can see some clear values that are out of range for 'vmed'. For 'intensidad' and 'ocupacion' there are a lot, but in this case it is not clear that these ones could be outliers. For now, we work with them."
   ]
  },
  {
   "cell_type": "markdown",
   "metadata": {},
   "source": [
    "- *Cuantitative Approach*"
   ]
  },
  {
   "cell_type": "markdown",
   "metadata": {},
   "source": [
    "*The Z-score, or standard score, is a way of describing a data point in terms of its relationship to the mean and standard deviation of a group of points. Taking a Z-score is simply mapping the data onto a distribution whose mean is defined as 0 and whose standard deviation is defined as 1.*\n",
    "\n",
    "*The goal of taking Z-scores is to remove the effects of the location and scale of the data, allowing different datasets to be compared directly. The intuition behind the Z-score method of outlier detection is that, once we’ve centred and rescaled the data, anything that is too far from zero (the threshold is usually a Z-score of 3 or -3) should be considered an outlier.*\n",
    "\n",
    "Source: http://colingorrie.github.io/outlier-detection.html"
   ]
  },
  {
   "cell_type": "code",
   "execution_count": 37,
   "metadata": {},
   "outputs": [
    {
     "name": "stdout",
     "output_type": "stream",
     "text": [
      "CPU times: user 815 ms, sys: 105 ms, total: 920 ms\n",
      "Wall time: 416 ms\n"
     ]
    }
   ],
   "source": [
    "%%time\n",
    "#Copy the dataframe in other variable\n",
    "df_complete_5=df_complete_4\n",
    "#Iterate over the columns and create a new zscore column for Intensidad, Ocupacion, Carga y vmed.\n",
    "for col in df_complete_5.columns:\n",
    "    if col in ('vmed','carga','ocupacion','intensidad'):\n",
    "        col_zscore = col + '_zscore'\n",
    "        #Z-score:\n",
    "        df_complete_5[col_zscore] = (df_complete_5[col] - df_complete_5[col].mean())/df_complete_5[col].std(ddof=0)"
   ]
  },
  {
   "cell_type": "code",
   "execution_count": 38,
   "metadata": {},
   "outputs": [
    {
     "data": {
      "text/plain": [
       "id                              int64\n",
       "tipo_elem                      object\n",
       "intensidad                      int64\n",
       "ocupacion                       int64\n",
       "carga                           int64\n",
       "vmed                            int64\n",
       "error                          object\n",
       "periodo_integracion             int64\n",
       "Fecha                          object\n",
       "Hora                           object\n",
       "Date                   datetime64[ns]\n",
       "Lat                           float64\n",
       "Long                          float64\n",
       "intensidad_zscore             float64\n",
       "ocupacion_zscore              float64\n",
       "carga_zscore                  float64\n",
       "vmed_zscore                   float64\n",
       "dtype: object"
      ]
     },
     "execution_count": 38,
     "metadata": {},
     "output_type": "execute_result"
    }
   ],
   "source": [
    "df_complete_5.dtypes"
   ]
  },
  {
   "cell_type": "markdown",
   "metadata": {},
   "source": [
    "Showing outliers from z-score computed column. A sample can be considered outliers when its value set out of the range [-3,3]"
   ]
  },
  {
   "cell_type": "code",
   "execution_count": 39,
   "metadata": {},
   "outputs": [
    {
     "name": "stdout",
     "output_type": "stream",
     "text": [
      "-Intensidad Outliers according to its Zscore out of [-3,3] range: 147623\n",
      "\n",
      "-Ocupacion Outliers according to its Zscore out of [-3,3] range: 213037\n",
      "\n",
      "-Carga Outliers according to its Zscore out of [-3,3] range: 0\n",
      "\n",
      "-Vmed Outliers according to its Zscore out of [-3,3] range: 8\n"
     ]
    }
   ],
   "source": [
    "threshold=3\n",
    "#Intensidad\n",
    "i=df_complete_5[np.abs(df_complete_5['intensidad_zscore']) > threshold].shape[0]\n",
    "print(\"-Intensidad Outliers according to its Zscore out of [-3,3] range: {}\\n\".format(i))\n",
    "#Ocupacion\n",
    "o=df_complete_5[np.abs(df_complete_5['ocupacion_zscore']) > threshold].shape[0]\n",
    "print(\"-Ocupacion Outliers according to its Zscore out of [-3,3] range: {}\\n\".format(o))\n",
    "#Intensidad\n",
    "c=df_complete_5[np.abs(df_complete_5['carga_zscore']) > threshold].shape[0]\n",
    "print(\"-Carga Outliers according to its Zscore out of [-3,3] range: {}\\n\".format(c))\n",
    "#Intensidad\n",
    "v=df_complete_5[np.abs(df_complete_5['vmed_zscore']) > threshold].shape[0]\n",
    "print(\"-Vmed Outliers according to its Zscore out of [-3,3] range: {}\".format(v))"
   ]
  },
  {
   "cell_type": "markdown",
   "metadata": {},
   "source": [
    "**-One Hot Encoding for categorical features**"
   ]
  },
  {
   "cell_type": "markdown",
   "metadata": {},
   "source": [
    "We have 2 categorical features: Tipo_elem and error"
   ]
  },
  {
   "cell_type": "code",
   "execution_count": 40,
   "metadata": {},
   "outputs": [
    {
     "name": "stdout",
     "output_type": "stream",
     "text": [
      "CPU times: user 1.18 s, sys: 219 ms, total: 1.4 s\n",
      "Wall time: 1.28 s\n"
     ]
    }
   ],
   "source": [
    "%%time\n",
    "df1=pd.get_dummies(df_complete_5['tipo_elem'])\n",
    "df2=pd.get_dummies(df_complete_5['error'])"
   ]
  },
  {
   "cell_type": "code",
   "execution_count": 41,
   "metadata": {},
   "outputs": [
    {
     "name": "stdout",
     "output_type": "stream",
     "text": [
      "CPU times: user 8 µs, sys: 1e+03 ns, total: 9 µs\n",
      "Wall time: 9.06 µs\n"
     ]
    }
   ],
   "source": [
    "%time\n",
    "df_complete_6=df_complete_5.merge(df1,left_index=True,right_index=True)\n",
    "df_complete_6=df_complete_6.merge(df2,left_index=True,right_index=True)"
   ]
  },
  {
   "cell_type": "code",
   "execution_count": 42,
   "metadata": {},
   "outputs": [
    {
     "data": {
      "text/html": [
       "<div>\n",
       "<style scoped>\n",
       "    .dataframe tbody tr th:only-of-type {\n",
       "        vertical-align: middle;\n",
       "    }\n",
       "\n",
       "    .dataframe tbody tr th {\n",
       "        vertical-align: top;\n",
       "    }\n",
       "\n",
       "    .dataframe thead th {\n",
       "        text-align: right;\n",
       "    }\n",
       "</style>\n",
       "<table border=\"1\" class=\"dataframe\">\n",
       "  <thead>\n",
       "    <tr style=\"text-align: right;\">\n",
       "      <th></th>\n",
       "      <th>id</th>\n",
       "      <th>tipo_elem</th>\n",
       "      <th>intensidad</th>\n",
       "      <th>ocupacion</th>\n",
       "      <th>carga</th>\n",
       "      <th>vmed</th>\n",
       "      <th>error</th>\n",
       "      <th>periodo_integracion</th>\n",
       "      <th>Fecha</th>\n",
       "      <th>Hora</th>\n",
       "      <th>Date</th>\n",
       "      <th>Lat</th>\n",
       "      <th>Long</th>\n",
       "      <th>intensidad_zscore</th>\n",
       "      <th>ocupacion_zscore</th>\n",
       "      <th>carga_zscore</th>\n",
       "      <th>vmed_zscore</th>\n",
       "      <th>M30</th>\n",
       "      <th>URB</th>\n",
       "      <th>N</th>\n",
       "    </tr>\n",
       "  </thead>\n",
       "  <tbody>\n",
       "    <tr>\n",
       "      <th>0</th>\n",
       "      <td>1001</td>\n",
       "      <td>M30</td>\n",
       "      <td>204</td>\n",
       "      <td>12</td>\n",
       "      <td>0</td>\n",
       "      <td>73</td>\n",
       "      <td>N</td>\n",
       "      <td>5</td>\n",
       "      <td>2018-01-01</td>\n",
       "      <td>00:00:00</td>\n",
       "      <td>2018-01-01</td>\n",
       "      <td>40.409729</td>\n",
       "      <td>-3.740786</td>\n",
       "      <td>-0.739126</td>\n",
       "      <td>0.975690</td>\n",
       "      <td>-0.829367</td>\n",
       "      <td>0.517939</td>\n",
       "      <td>1</td>\n",
       "      <td>0</td>\n",
       "      <td>1</td>\n",
       "    </tr>\n",
       "    <tr>\n",
       "      <th>1</th>\n",
       "      <td>1002</td>\n",
       "      <td>M30</td>\n",
       "      <td>252</td>\n",
       "      <td>1</td>\n",
       "      <td>0</td>\n",
       "      <td>79</td>\n",
       "      <td>N</td>\n",
       "      <td>5</td>\n",
       "      <td>2018-01-01</td>\n",
       "      <td>00:00:00</td>\n",
       "      <td>2018-01-01</td>\n",
       "      <td>40.408029</td>\n",
       "      <td>-3.743760</td>\n",
       "      <td>-0.703113</td>\n",
       "      <td>-0.589153</td>\n",
       "      <td>-0.829367</td>\n",
       "      <td>0.732259</td>\n",
       "      <td>1</td>\n",
       "      <td>0</td>\n",
       "      <td>1</td>\n",
       "    </tr>\n",
       "    <tr>\n",
       "      <th>2</th>\n",
       "      <td>1003</td>\n",
       "      <td>M30</td>\n",
       "      <td>420</td>\n",
       "      <td>2</td>\n",
       "      <td>0</td>\n",
       "      <td>82</td>\n",
       "      <td>N</td>\n",
       "      <td>5</td>\n",
       "      <td>2018-01-01</td>\n",
       "      <td>00:00:00</td>\n",
       "      <td>2018-01-01</td>\n",
       "      <td>40.406824</td>\n",
       "      <td>-3.746834</td>\n",
       "      <td>-0.577067</td>\n",
       "      <td>-0.446894</td>\n",
       "      <td>-0.829367</td>\n",
       "      <td>0.839419</td>\n",
       "      <td>1</td>\n",
       "      <td>0</td>\n",
       "      <td>1</td>\n",
       "    </tr>\n",
       "    <tr>\n",
       "      <th>3</th>\n",
       "      <td>1006</td>\n",
       "      <td>M30</td>\n",
       "      <td>288</td>\n",
       "      <td>1</td>\n",
       "      <td>0</td>\n",
       "      <td>75</td>\n",
       "      <td>N</td>\n",
       "      <td>5</td>\n",
       "      <td>2018-01-01</td>\n",
       "      <td>00:00:00</td>\n",
       "      <td>2018-01-01</td>\n",
       "      <td>40.411894</td>\n",
       "      <td>-3.736324</td>\n",
       "      <td>-0.676103</td>\n",
       "      <td>-0.589153</td>\n",
       "      <td>-0.829367</td>\n",
       "      <td>0.589379</td>\n",
       "      <td>1</td>\n",
       "      <td>0</td>\n",
       "      <td>1</td>\n",
       "    </tr>\n",
       "    <tr>\n",
       "      <th>4</th>\n",
       "      <td>1009</td>\n",
       "      <td>M30</td>\n",
       "      <td>276</td>\n",
       "      <td>0</td>\n",
       "      <td>0</td>\n",
       "      <td>76</td>\n",
       "      <td>N</td>\n",
       "      <td>5</td>\n",
       "      <td>2018-01-01</td>\n",
       "      <td>00:00:00</td>\n",
       "      <td>2018-01-01</td>\n",
       "      <td>40.416233</td>\n",
       "      <td>-3.724909</td>\n",
       "      <td>-0.685106</td>\n",
       "      <td>-0.731411</td>\n",
       "      <td>-0.829367</td>\n",
       "      <td>0.625099</td>\n",
       "      <td>1</td>\n",
       "      <td>0</td>\n",
       "      <td>1</td>\n",
       "    </tr>\n",
       "  </tbody>\n",
       "</table>\n",
       "</div>"
      ],
      "text/plain": [
       "     id tipo_elem  intensidad  ocupacion  carga  vmed error  \\\n",
       "0  1001       M30         204         12      0    73     N   \n",
       "1  1002       M30         252          1      0    79     N   \n",
       "2  1003       M30         420          2      0    82     N   \n",
       "3  1006       M30         288          1      0    75     N   \n",
       "4  1009       M30         276          0      0    76     N   \n",
       "\n",
       "   periodo_integracion       Fecha      Hora       Date        Lat      Long  \\\n",
       "0                    5  2018-01-01  00:00:00 2018-01-01  40.409729 -3.740786   \n",
       "1                    5  2018-01-01  00:00:00 2018-01-01  40.408029 -3.743760   \n",
       "2                    5  2018-01-01  00:00:00 2018-01-01  40.406824 -3.746834   \n",
       "3                    5  2018-01-01  00:00:00 2018-01-01  40.411894 -3.736324   \n",
       "4                    5  2018-01-01  00:00:00 2018-01-01  40.416233 -3.724909   \n",
       "\n",
       "   intensidad_zscore  ocupacion_zscore  carga_zscore  vmed_zscore  M30  URB  N  \n",
       "0          -0.739126          0.975690     -0.829367     0.517939    1    0  1  \n",
       "1          -0.703113         -0.589153     -0.829367     0.732259    1    0  1  \n",
       "2          -0.577067         -0.446894     -0.829367     0.839419    1    0  1  \n",
       "3          -0.676103         -0.589153     -0.829367     0.589379    1    0  1  \n",
       "4          -0.685106         -0.731411     -0.829367     0.625099    1    0  1  "
      ]
     },
     "execution_count": 42,
     "metadata": {},
     "output_type": "execute_result"
    }
   ],
   "source": [
    "df_complete_6.head()"
   ]
  },
  {
   "cell_type": "code",
   "execution_count": 43,
   "metadata": {},
   "outputs": [
    {
     "data": {
      "text/plain": [
       "id                              int64\n",
       "tipo_elem                      object\n",
       "intensidad                      int64\n",
       "ocupacion                       int64\n",
       "carga                           int64\n",
       "vmed                            int64\n",
       "error                          object\n",
       "periodo_integracion             int64\n",
       "Fecha                          object\n",
       "Hora                           object\n",
       "Date                   datetime64[ns]\n",
       "Lat                           float64\n",
       "Long                          float64\n",
       "intensidad_zscore             float64\n",
       "ocupacion_zscore              float64\n",
       "carga_zscore                  float64\n",
       "vmed_zscore                   float64\n",
       "M30                             uint8\n",
       "URB                             uint8\n",
       "N                               uint8\n",
       "dtype: object"
      ]
     },
     "execution_count": 43,
     "metadata": {},
     "output_type": "execute_result"
    }
   ],
   "source": [
    "df_complete_6.dtypes"
   ]
  },
  {
   "cell_type": "markdown",
   "metadata": {},
   "source": [
    "-------------"
   ]
  },
  {
   "cell_type": "markdown",
   "metadata": {},
   "source": [
    "## **BREAK TO SAVE DATA FOR VISUALIZATIONS**"
   ]
  },
  {
   "cell_type": "code",
   "execution_count": 44,
   "metadata": {},
   "outputs": [
    {
     "name": "stdout",
     "output_type": "stream",
     "text": [
      "CPU times: user 3min 57s, sys: 6.75 s, total: 4min 4s\n",
      "Wall time: 4min 10s\n"
     ]
    }
   ],
   "source": [
    "%%time\n",
    "df_complete_6.to_csv('/Users/antoniobravomunoz/Documents/DATA_SCIENCE_MASTER/TFM/Data-Science-Master-project/DATA/traffic_data_complete_visualizations.csv',index=False)"
   ]
  },
  {
   "cell_type": "markdown",
   "metadata": {},
   "source": [
    "-------------"
   ]
  },
  {
   "cell_type": "markdown",
   "metadata": {},
   "source": [
    "**-Splitting and adapting Date feature in separated fields in order to adecuate data to Machine Learning Algorithm**"
   ]
  },
  {
   "cell_type": "code",
   "execution_count": 45,
   "metadata": {},
   "outputs": [
    {
     "name": "stdout",
     "output_type": "stream",
     "text": [
      "CPU times: user 14 s, sys: 752 ms, total: 14.8 s\n",
      "Wall time: 14.7 s\n"
     ]
    }
   ],
   "source": [
    "%%time\n",
    "#Parsing Date feature to string in order to split it\n",
    "df_complete_6['Date'] = df_complete_6['Date'].astype(str)"
   ]
  },
  {
   "cell_type": "code",
   "execution_count": 46,
   "metadata": {},
   "outputs": [
    {
     "data": {
      "text/plain": [
       "str"
      ]
     },
     "execution_count": 46,
     "metadata": {},
     "output_type": "execute_result"
    }
   ],
   "source": [
    "type(df_complete_6['Date'][0])"
   ]
  },
  {
   "cell_type": "code",
   "execution_count": 47,
   "metadata": {},
   "outputs": [
    {
     "name": "stdout",
     "output_type": "stream",
     "text": [
      "CPU times: user 2min 3s, sys: 10.9 s, total: 2min 14s\n",
      "Wall time: 2min 14s\n"
     ]
    }
   ],
   "source": [
    "%%time\n",
    "df_complete_6['FechaAUX'], df_complete_6['HoraAUX'] = df_complete_6['Date'].str.split(' ', 1).str\n",
    "df_complete_6['Anio'], df_complete_6['Mes'], df_complete_6['Dia'] = df_complete_6['FechaAUX'].str.split('-', 2).str\n",
    "df_complete_6['Hora'], df_complete_6['Minutos'], df_complete_6['Segundos']= df_complete_6['HoraAUX'].str.split(':', 2).str"
   ]
  },
  {
   "cell_type": "markdown",
   "metadata": {},
   "source": [
    "Dropping unusable columns including \"Segundos\" due to its value is always 00."
   ]
  },
  {
   "cell_type": "code",
   "execution_count": 48,
   "metadata": {},
   "outputs": [],
   "source": [
    "df_complete_6=df_complete_6.drop(['FechaAUX','HoraAUX','Date','Segundos'],axis=1)"
   ]
  },
  {
   "cell_type": "markdown",
   "metadata": {},
   "source": [
    "Casting to integer date generated columns"
   ]
  },
  {
   "cell_type": "code",
   "execution_count": 49,
   "metadata": {},
   "outputs": [],
   "source": [
    "df_complete_6 = df_complete_6.astype({\"Anio\": int, \"Mes\": int, \"Dia\": int, \"Hora\": int, \"Minutos\": int})"
   ]
  },
  {
   "cell_type": "code",
   "execution_count": 50,
   "metadata": {},
   "outputs": [
    {
     "data": {
      "text/plain": [
       "id                       int64\n",
       "tipo_elem               object\n",
       "intensidad               int64\n",
       "ocupacion                int64\n",
       "carga                    int64\n",
       "vmed                     int64\n",
       "error                   object\n",
       "periodo_integracion      int64\n",
       "Fecha                   object\n",
       "Hora                     int64\n",
       "Lat                    float64\n",
       "Long                   float64\n",
       "intensidad_zscore      float64\n",
       "ocupacion_zscore       float64\n",
       "carga_zscore           float64\n",
       "vmed_zscore            float64\n",
       "M30                      uint8\n",
       "URB                      uint8\n",
       "N                        uint8\n",
       "Anio                     int64\n",
       "Mes                      int64\n",
       "Dia                      int64\n",
       "Minutos                  int64\n",
       "dtype: object"
      ]
     },
     "execution_count": 50,
     "metadata": {},
     "output_type": "execute_result"
    }
   ],
   "source": [
    "df_complete_6.dtypes"
   ]
  },
  {
   "cell_type": "markdown",
   "metadata": {},
   "source": [
    "-**Cleaning-up the complete dataframe (Dropping auxiliar columns, original columns encoded, etc)**"
   ]
  },
  {
   "cell_type": "code",
   "execution_count": 51,
   "metadata": {},
   "outputs": [],
   "source": [
    "final_df=df_complete_6.drop(columns=['tipo_elem','error','Fecha','intensidad_zscore','ocupacion_zscore',\n",
    "                                     'carga_zscore','vmed_zscore'])"
   ]
  },
  {
   "cell_type": "code",
   "execution_count": 52,
   "metadata": {},
   "outputs": [
    {
     "data": {
      "text/plain": [
       "id                       int64\n",
       "intensidad               int64\n",
       "ocupacion                int64\n",
       "carga                    int64\n",
       "vmed                     int64\n",
       "periodo_integracion      int64\n",
       "Hora                     int64\n",
       "Lat                    float64\n",
       "Long                   float64\n",
       "M30                      uint8\n",
       "URB                      uint8\n",
       "N                        uint8\n",
       "Anio                     int64\n",
       "Mes                      int64\n",
       "Dia                      int64\n",
       "Minutos                  int64\n",
       "dtype: object"
      ]
     },
     "execution_count": 52,
     "metadata": {},
     "output_type": "execute_result"
    }
   ],
   "source": [
    "final_df.dtypes"
   ]
  },
  {
   "cell_type": "code",
   "execution_count": 53,
   "metadata": {},
   "outputs": [
    {
     "data": {
      "text/plain": [
       "(10090919, 16)"
      ]
     },
     "execution_count": 53,
     "metadata": {},
     "output_type": "execute_result"
    }
   ],
   "source": [
    "final_df.shape"
   ]
  },
  {
   "cell_type": "markdown",
   "metadata": {},
   "source": [
    "Final dataframe correlation between features"
   ]
  },
  {
   "cell_type": "code",
   "execution_count": 54,
   "metadata": {},
   "outputs": [
    {
     "data": {
      "text/plain": [
       "<matplotlib.axes._subplots.AxesSubplot at 0x1a3192df28>"
      ]
     },
     "execution_count": 54,
     "metadata": {},
     "output_type": "execute_result"
    },
    {
     "data": {
      "image/png": "[encoded data removed]",
      "text/plain": [
       "<Figure size 360x360 with 2 Axes>"
      ]
     },
     "metadata": {
      "needs_background": "light"
     },
     "output_type": "display_data"
    }
   ],
   "source": [
    "plt.figure(figsize=(5,5))\n",
    "sns.heatmap(final_df.corr())"
   ]
  },
  {
   "cell_type": "markdown",
   "metadata": {},
   "source": [
    "## **SAVING FINAL DATA**"
   ]
  },
  {
   "cell_type": "markdown",
   "metadata": {},
   "source": [
    "Saving complete processed traffic data"
   ]
  },
  {
   "cell_type": "code",
   "execution_count": 55,
   "metadata": {},
   "outputs": [
    {
     "name": "stdout",
     "output_type": "stream",
     "text": [
      "CPU times: user 3min 3s, sys: 3.63 s, total: 3min 6s\n",
      "Wall time: 3min 9s\n"
     ]
    }
   ],
   "source": [
    "%%time\n",
    "final_df.to_csv('/Users/antoniobravomunoz/Documents/DATA_SCIENCE_MASTER/TFM/Data-Science-Master-project/DATA/traffic_data_complete.csv',index=False)"
   ]
  }
 ],
 "metadata": {
  "kernelspec": {
   "display_name": "Python 3",
   "language": "python",
   "name": "python3"
  },
  "language_info": {
   "codemirror_mode": {
    "name": "ipython",
    "version": 3
   },
   "file_extension": ".py",
   "mimetype": "text/x-python",
   "name": "python",
   "nbconvert_exporter": "python",
   "pygments_lexer": "ipython3",
   "version": "3.6.6"
  }
 },
 "nbformat": 4,
 "nbformat_minor": 2
}

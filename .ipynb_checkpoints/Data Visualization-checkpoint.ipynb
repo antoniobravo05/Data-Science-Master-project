{
 "cells": [
  {
   "cell_type": "code",
   "execution_count": 16,
   "metadata": {},
   "outputs": [],
   "source": [
    "import pandas as pd\n",
    "import altair as alt"
   ]
  },
  {
   "cell_type": "code",
   "execution_count": 17,
   "metadata": {},
   "outputs": [
    {
     "name": "stdout",
     "output_type": "stream",
     "text": [
      "CPU times: user 42.5 s, sys: 9.46 s, total: 52 s\n",
      "Wall time: 55.7 s\n"
     ]
    }
   ],
   "source": [
    "%%time\n",
    "source = '/Users/antoniobravomunoz/Documents/DATA_SCIENCE_MASTER/TFM/Data-Science-Master-project/DATA/traffic_data_complete_visualizations.csv'\n",
    "df = pd.read_csv(source,sep=',')"
   ]
  },
  {
   "cell_type": "code",
   "execution_count": 18,
   "metadata": {},
   "outputs": [
    {
     "data": {
      "text/html": [
       "<div>\n",
       "<style scoped>\n",
       "    .dataframe tbody tr th:only-of-type {\n",
       "        vertical-align: middle;\n",
       "    }\n",
       "\n",
       "    .dataframe tbody tr th {\n",
       "        vertical-align: top;\n",
       "    }\n",
       "\n",
       "    .dataframe thead th {\n",
       "        text-align: right;\n",
       "    }\n",
       "</style>\n",
       "<table border=\"1\" class=\"dataframe\">\n",
       "  <thead>\n",
       "    <tr style=\"text-align: right;\">\n",
       "      <th></th>\n",
       "      <th>id</th>\n",
       "      <th>tipo_elem</th>\n",
       "      <th>intensidad</th>\n",
       "      <th>ocupacion</th>\n",
       "      <th>carga</th>\n",
       "      <th>vmed</th>\n",
       "      <th>error</th>\n",
       "      <th>periodo_integracion</th>\n",
       "      <th>Fecha</th>\n",
       "      <th>Hora</th>\n",
       "      <th>Date</th>\n",
       "      <th>Lat</th>\n",
       "      <th>Long</th>\n",
       "      <th>intensidad_zscore</th>\n",
       "      <th>ocupacion_zscore</th>\n",
       "      <th>carga_zscore</th>\n",
       "      <th>vmed_zscore</th>\n",
       "      <th>M30</th>\n",
       "      <th>URB</th>\n",
       "      <th>N</th>\n",
       "    </tr>\n",
       "  </thead>\n",
       "  <tbody>\n",
       "    <tr>\n",
       "      <th>0</th>\n",
       "      <td>1001</td>\n",
       "      <td>M30</td>\n",
       "      <td>204</td>\n",
       "      <td>12</td>\n",
       "      <td>0</td>\n",
       "      <td>73</td>\n",
       "      <td>N</td>\n",
       "      <td>5</td>\n",
       "      <td>2018-01-01</td>\n",
       "      <td>00:00:00</td>\n",
       "      <td>2018-01-01 00:00:00</td>\n",
       "      <td>40.409729</td>\n",
       "      <td>-3.740786</td>\n",
       "      <td>-0.739126</td>\n",
       "      <td>0.975690</td>\n",
       "      <td>-0.829367</td>\n",
       "      <td>0.517939</td>\n",
       "      <td>1</td>\n",
       "      <td>0</td>\n",
       "      <td>1</td>\n",
       "    </tr>\n",
       "    <tr>\n",
       "      <th>1</th>\n",
       "      <td>1002</td>\n",
       "      <td>M30</td>\n",
       "      <td>252</td>\n",
       "      <td>1</td>\n",
       "      <td>0</td>\n",
       "      <td>79</td>\n",
       "      <td>N</td>\n",
       "      <td>5</td>\n",
       "      <td>2018-01-01</td>\n",
       "      <td>00:00:00</td>\n",
       "      <td>2018-01-01 00:00:00</td>\n",
       "      <td>40.408029</td>\n",
       "      <td>-3.743760</td>\n",
       "      <td>-0.703113</td>\n",
       "      <td>-0.589153</td>\n",
       "      <td>-0.829367</td>\n",
       "      <td>0.732259</td>\n",
       "      <td>1</td>\n",
       "      <td>0</td>\n",
       "      <td>1</td>\n",
       "    </tr>\n",
       "    <tr>\n",
       "      <th>2</th>\n",
       "      <td>1003</td>\n",
       "      <td>M30</td>\n",
       "      <td>420</td>\n",
       "      <td>2</td>\n",
       "      <td>0</td>\n",
       "      <td>82</td>\n",
       "      <td>N</td>\n",
       "      <td>5</td>\n",
       "      <td>2018-01-01</td>\n",
       "      <td>00:00:00</td>\n",
       "      <td>2018-01-01 00:00:00</td>\n",
       "      <td>40.406824</td>\n",
       "      <td>-3.746834</td>\n",
       "      <td>-0.577067</td>\n",
       "      <td>-0.446894</td>\n",
       "      <td>-0.829367</td>\n",
       "      <td>0.839419</td>\n",
       "      <td>1</td>\n",
       "      <td>0</td>\n",
       "      <td>1</td>\n",
       "    </tr>\n",
       "    <tr>\n",
       "      <th>3</th>\n",
       "      <td>1006</td>\n",
       "      <td>M30</td>\n",
       "      <td>288</td>\n",
       "      <td>1</td>\n",
       "      <td>0</td>\n",
       "      <td>75</td>\n",
       "      <td>N</td>\n",
       "      <td>5</td>\n",
       "      <td>2018-01-01</td>\n",
       "      <td>00:00:00</td>\n",
       "      <td>2018-01-01 00:00:00</td>\n",
       "      <td>40.411894</td>\n",
       "      <td>-3.736324</td>\n",
       "      <td>-0.676103</td>\n",
       "      <td>-0.589153</td>\n",
       "      <td>-0.829367</td>\n",
       "      <td>0.589379</td>\n",
       "      <td>1</td>\n",
       "      <td>0</td>\n",
       "      <td>1</td>\n",
       "    </tr>\n",
       "    <tr>\n",
       "      <th>4</th>\n",
       "      <td>1009</td>\n",
       "      <td>M30</td>\n",
       "      <td>276</td>\n",
       "      <td>0</td>\n",
       "      <td>0</td>\n",
       "      <td>76</td>\n",
       "      <td>N</td>\n",
       "      <td>5</td>\n",
       "      <td>2018-01-01</td>\n",
       "      <td>00:00:00</td>\n",
       "      <td>2018-01-01 00:00:00</td>\n",
       "      <td>40.416233</td>\n",
       "      <td>-3.724909</td>\n",
       "      <td>-0.685106</td>\n",
       "      <td>-0.731411</td>\n",
       "      <td>-0.829367</td>\n",
       "      <td>0.625099</td>\n",
       "      <td>1</td>\n",
       "      <td>0</td>\n",
       "      <td>1</td>\n",
       "    </tr>\n",
       "  </tbody>\n",
       "</table>\n",
       "</div>"
      ],
      "text/plain": [
       "     id tipo_elem  intensidad  ocupacion  carga  vmed error  \\\n",
       "0  1001       M30         204         12      0    73     N   \n",
       "1  1002       M30         252          1      0    79     N   \n",
       "2  1003       M30         420          2      0    82     N   \n",
       "3  1006       M30         288          1      0    75     N   \n",
       "4  1009       M30         276          0      0    76     N   \n",
       "\n",
       "   periodo_integracion       Fecha      Hora                 Date        Lat  \\\n",
       "0                    5  2018-01-01  00:00:00  2018-01-01 00:00:00  40.409729   \n",
       "1                    5  2018-01-01  00:00:00  2018-01-01 00:00:00  40.408029   \n",
       "2                    5  2018-01-01  00:00:00  2018-01-01 00:00:00  40.406824   \n",
       "3                    5  2018-01-01  00:00:00  2018-01-01 00:00:00  40.411894   \n",
       "4                    5  2018-01-01  00:00:00  2018-01-01 00:00:00  40.416233   \n",
       "\n",
       "       Long  intensidad_zscore  ocupacion_zscore  carga_zscore  vmed_zscore  \\\n",
       "0 -3.740786          -0.739126          0.975690     -0.829367     0.517939   \n",
       "1 -3.743760          -0.703113         -0.589153     -0.829367     0.732259   \n",
       "2 -3.746834          -0.577067         -0.446894     -0.829367     0.839419   \n",
       "3 -3.736324          -0.676103         -0.589153     -0.829367     0.589379   \n",
       "4 -3.724909          -0.685106         -0.731411     -0.829367     0.625099   \n",
       "\n",
       "   M30  URB  N  \n",
       "0    1    0  1  \n",
       "1    1    0  1  \n",
       "2    1    0  1  \n",
       "3    1    0  1  \n",
       "4    1    0  1  "
      ]
     },
     "execution_count": 18,
     "metadata": {},
     "output_type": "execute_result"
    }
   ],
   "source": [
    "df.head()"
   ]
  },
  {
   "cell_type": "code",
   "execution_count": 19,
   "metadata": {},
   "outputs": [
    {
     "data": {
      "text/plain": [
       "id                       int64\n",
       "tipo_elem               object\n",
       "intensidad               int64\n",
       "ocupacion                int64\n",
       "carga                    int64\n",
       "vmed                     int64\n",
       "error                   object\n",
       "periodo_integracion      int64\n",
       "Fecha                   object\n",
       "Hora                    object\n",
       "Date                    object\n",
       "Lat                    float64\n",
       "Long                   float64\n",
       "intensidad_zscore      float64\n",
       "ocupacion_zscore       float64\n",
       "carga_zscore           float64\n",
       "vmed_zscore            float64\n",
       "M30                      int64\n",
       "URB                      int64\n",
       "N                        int64\n",
       "dtype: object"
      ]
     },
     "execution_count": 19,
     "metadata": {},
     "output_type": "execute_result"
    }
   ],
   "source": [
    "df.dtypes"
   ]
  },
  {
   "cell_type": "code",
   "execution_count": 20,
   "metadata": {},
   "outputs": [
    {
     "data": {
      "text/plain": [
       "(10090919, 20)"
      ]
     },
     "execution_count": 20,
     "metadata": {},
     "output_type": "execute_result"
    }
   ],
   "source": [
    "df.shape"
   ]
  },
  {
   "cell_type": "code",
   "execution_count": 21,
   "metadata": {},
   "outputs": [
    {
     "data": {
      "text/plain": [
       "RendererRegistry.enable('notebook')"
      ]
     },
     "execution_count": 21,
     "metadata": {},
     "output_type": "execute_result"
    }
   ],
   "source": [
    "alt.renderers.enable('notebook')"
   ]
  },
  {
   "cell_type": "code",
   "execution_count": 22,
   "metadata": {},
   "outputs": [
    {
     "data": {
      "text/plain": [
       "DataTransformerRegistry.enable('custom')"
      ]
     },
     "execution_count": 22,
     "metadata": {},
     "output_type": "execute_result"
    }
   ],
   "source": [
    "## Overide the limit\n",
    "from altair import pipe, limit_rows, to_values\n",
    "t = lambda data: pipe(data, limit_rows(max_rows=12000000), to_values)\n",
    "alt.data_transformers.register('custom', t)\n",
    "alt.data_transformers.enable('custom')"
   ]
  },
  {
   "cell_type": "code",
   "execution_count": 23,
   "metadata": {},
   "outputs": [],
   "source": [
    "carga_char=alt.Chart(df).mark_bar().encode(\n",
    "    x=alt.X(\"carga\",bin=alt.Bin(maxbins=20)),\n",
    "    y='count()'\n",
    ")\n",
    "\n",
    "vmed_char=alt.Chart(df).mark_bar().encode(\n",
    "    x=alt.X(\"vmed\",bin=alt.Bin(maxbins=20)),\n",
    "    y='count()'\n",
    ")"
   ]
  },
  {
   "cell_type": "code",
   "execution_count": 24,
   "metadata": {},
   "outputs": [],
   "source": [
    "carga_char"
   ]
  },
  {
   "cell_type": "code",
   "execution_count": null,
   "metadata": {},
   "outputs": [],
   "source": [
    "#escoger los puntos de medida que influyan en la ruta.\n",
    "#si vemos que sigue yendo mal, hacer una agregación de cada hora, haciendo la media de los valores del tráfico. Esto se \n",
    "#debería hacer en el modulo de adquisición y preparación, al principio de todo, antes de transformar variables para evitar errores.\n",
    "#https://chrisalbon.com/python/data_wrangling/group_pandas_data_by_hour_of_the_day/"
   ]
  }
 ],
 "metadata": {
  "kernelspec": {
   "display_name": "Python 3",
   "language": "python",
   "name": "python3"
  },
  "language_info": {
   "codemirror_mode": {
    "name": "ipython",
    "version": 3
   },
   "file_extension": ".py",
   "mimetype": "text/x-python",
   "name": "python",
   "nbconvert_exporter": "python",
   "pygments_lexer": "ipython3",
   "version": "3.6.6"
  }
 },
 "nbformat": 4,
 "nbformat_minor": 2
}

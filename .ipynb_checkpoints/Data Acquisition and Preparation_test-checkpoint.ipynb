{
 "cells": [
  {
   "cell_type": "markdown",
   "metadata": {},
   "source": [
    "## **IMPORT PACKAGES**"
   ]
  },
  {
   "cell_type": "code",
   "execution_count": 2,
   "metadata": {},
   "outputs": [],
   "source": [
    "import pandas as pd\n",
    "import numpy as np\n",
    "import math\n",
    "from datetime import datetime\n",
    "import os\n",
    "#VISUALIZATION\n",
    "import seaborn as sns\n",
    "import matplotlib.pyplot as plt\n",
    "%matplotlib inline"
   ]
  },
  {
   "cell_type": "markdown",
   "metadata": {},
   "source": [
    "## **READING RAW DATA FROM CSV FILE AND SELECTION TO ROUTE AND TIME DESIRED**"
   ]
  },
  {
   "cell_type": "markdown",
   "metadata": {},
   "source": [
    "We only have taking into account for this project the traffic data for September."
   ]
  },
  {
   "cell_type": "code",
   "execution_count": 73,
   "metadata": {},
   "outputs": [
    {
     "name": "stdout",
     "output_type": "stream",
     "text": [
      "CPU times: user 10 s, sys: 2.26 s, total: 12.3 s\n",
      "Wall time: 12.2 s\n"
     ]
    }
   ],
   "source": [
    "%%time\n",
    "sourceTest='/Users/antoniobravomunoz/Documents/DATA_SCIENCE_MASTER/TFM/Data/Historico/InputDataTest/09-2018.csv'\n",
    "df_test=pd.read_csv(sourceTest,sep=';')"
   ]
  },
  {
   "cell_type": "code",
   "execution_count": 74,
   "metadata": {},
   "outputs": [
    {
     "data": {
      "text/plain": [
       "(10668743, 9)"
      ]
     },
     "execution_count": 74,
     "metadata": {},
     "output_type": "execute_result"
    }
   ],
   "source": [
    "df_test.shape"
   ]
  },
  {
   "cell_type": "code",
   "execution_count": 75,
   "metadata": {},
   "outputs": [],
   "source": [
    "df_test['fecha']=pd.to_datetime(df_test['fecha'], format='%Y-%m-%d %H:%M:%S')"
   ]
  },
  {
   "cell_type": "code",
   "execution_count": 76,
   "metadata": {},
   "outputs": [
    {
     "data": {
      "text/plain": [
       "id                              int64\n",
       "fecha                  datetime64[ns]\n",
       "tipo_elem                      object\n",
       "intensidad                    float64\n",
       "ocupacion                     float64\n",
       "carga                         float64\n",
       "vmed                          float64\n",
       "error                          object\n",
       "periodo_integracion             int64\n",
       "dtype: object"
      ]
     },
     "execution_count": 76,
     "metadata": {},
     "output_type": "execute_result"
    }
   ],
   "source": [
    "df_test.dtypes"
   ]
  },
  {
   "cell_type": "markdown",
   "metadata": {},
   "source": [
    "Select only the detectors which are involves in our route already defined and for the dates and hour established (7:00AM and for the first week)."
   ]
  },
  {
   "cell_type": "code",
   "execution_count": 77,
   "metadata": {},
   "outputs": [],
   "source": [
    "route_ids=['6762','6759','6753','6680','6679','6753','6751','6746','6743','6737',\n",
    "'6736','6732','6729','6727','6725','6724','6720','6717','6715','6714','6713']"
   ]
  },
  {
   "cell_type": "code",
   "execution_count": 79,
   "metadata": {},
   "outputs": [],
   "source": [
    "df_test_route=df_test.loc[df_test['id'].isin(route_ids)]"
   ]
  },
  {
   "cell_type": "code",
   "execution_count": 80,
   "metadata": {},
   "outputs": [
    {
     "name": "stderr",
     "output_type": "stream",
     "text": [
      "/Users/antoniobravomunoz/anaconda3/lib/python3.6/site-packages/ipykernel_launcher.py:1: FutureWarning: Comparing Series of datetimes with 'datetime.date'.  Currently, the\n",
      "'datetime.date' is coerced to a datetime. In the future pandas will\n",
      "not coerce, and a TypeError will be raised. To retain the current\n",
      "behavior, convert the 'datetime.date' to a datetime with\n",
      "'pd.Timestamp'.\n",
      "  \"\"\"Entry point for launching an IPython kernel.\n"
     ]
    }
   ],
   "source": [
    "df_test_route2=df_test_route.loc[df_test_route['fecha']<=datetime(2018, 9, 8, 7,0,0).date()]"
   ]
  },
  {
   "cell_type": "code",
   "execution_count": 136,
   "metadata": {},
   "outputs": [],
   "source": [
    "df_test_route_firstweek_7AM = df_test_route2.copy().reset_index(drop=True)"
   ]
  },
  {
   "cell_type": "code",
   "execution_count": 137,
   "metadata": {},
   "outputs": [
    {
     "data": {
      "text/plain": [
       "(12313, 9)"
      ]
     },
     "execution_count": 137,
     "metadata": {},
     "output_type": "execute_result"
    }
   ],
   "source": [
    "df_test_route_firstweek_7AM.shape"
   ]
  },
  {
   "cell_type": "code",
   "execution_count": 138,
   "metadata": {},
   "outputs": [
    {
     "data": {
      "text/plain": [
       "id                              int64\n",
       "fecha                  datetime64[ns]\n",
       "tipo_elem                      object\n",
       "intensidad                    float64\n",
       "ocupacion                     float64\n",
       "carga                         float64\n",
       "vmed                          float64\n",
       "error                          object\n",
       "periodo_integracion             int64\n",
       "dtype: object"
      ]
     },
     "execution_count": 138,
     "metadata": {},
     "output_type": "execute_result"
    }
   ],
   "source": [
    "df_test_route_firstweek_7AM.dtypes"
   ]
  },
  {
   "cell_type": "code",
   "execution_count": 140,
   "metadata": {},
   "outputs": [
    {
     "data": {
      "text/html": [
       "<div>\n",
       "<style scoped>\n",
       "    .dataframe tbody tr th:only-of-type {\n",
       "        vertical-align: middle;\n",
       "    }\n",
       "\n",
       "    .dataframe tbody tr th {\n",
       "        vertical-align: top;\n",
       "    }\n",
       "\n",
       "    .dataframe thead th {\n",
       "        text-align: right;\n",
       "    }\n",
       "</style>\n",
       "<table border=\"1\" class=\"dataframe\">\n",
       "  <thead>\n",
       "    <tr style=\"text-align: right;\">\n",
       "      <th></th>\n",
       "      <th>id</th>\n",
       "      <th>intensidad</th>\n",
       "      <th>ocupacion</th>\n",
       "      <th>carga</th>\n",
       "      <th>vmed</th>\n",
       "      <th>periodo_integracion</th>\n",
       "    </tr>\n",
       "  </thead>\n",
       "  <tbody>\n",
       "    <tr>\n",
       "      <th>count</th>\n",
       "      <td>12313.000000</td>\n",
       "      <td>12288.000000</td>\n",
       "      <td>10535.000000</td>\n",
       "      <td>12283.000000</td>\n",
       "      <td>12288.000000</td>\n",
       "      <td>12313.000000</td>\n",
       "    </tr>\n",
       "    <tr>\n",
       "      <th>mean</th>\n",
       "      <td>6729.889466</td>\n",
       "      <td>2047.763672</td>\n",
       "      <td>7.376080</td>\n",
       "      <td>45.475861</td>\n",
       "      <td>79.130859</td>\n",
       "      <td>14.845123</td>\n",
       "    </tr>\n",
       "    <tr>\n",
       "      <th>std</th>\n",
       "      <td>20.423260</td>\n",
       "      <td>1716.357625</td>\n",
       "      <td>7.536129</td>\n",
       "      <td>29.215821</td>\n",
       "      <td>15.661891</td>\n",
       "      <td>0.878117</td>\n",
       "    </tr>\n",
       "    <tr>\n",
       "      <th>min</th>\n",
       "      <td>6679.000000</td>\n",
       "      <td>4.000000</td>\n",
       "      <td>1.000000</td>\n",
       "      <td>1.000000</td>\n",
       "      <td>4.000000</td>\n",
       "      <td>1.000000</td>\n",
       "    </tr>\n",
       "    <tr>\n",
       "      <th>25%</th>\n",
       "      <td>6717.000000</td>\n",
       "      <td>479.000000</td>\n",
       "      <td>3.000000</td>\n",
       "      <td>17.000000</td>\n",
       "      <td>77.000000</td>\n",
       "      <td>15.000000</td>\n",
       "    </tr>\n",
       "    <tr>\n",
       "      <th>50%</th>\n",
       "      <td>6729.000000</td>\n",
       "      <td>1511.500000</td>\n",
       "      <td>6.000000</td>\n",
       "      <td>47.000000</td>\n",
       "      <td>84.000000</td>\n",
       "      <td>15.000000</td>\n",
       "    </tr>\n",
       "    <tr>\n",
       "      <th>75%</th>\n",
       "      <td>6746.000000</td>\n",
       "      <td>3392.000000</td>\n",
       "      <td>9.000000</td>\n",
       "      <td>71.000000</td>\n",
       "      <td>88.000000</td>\n",
       "      <td>15.000000</td>\n",
       "    </tr>\n",
       "    <tr>\n",
       "      <th>max</th>\n",
       "      <td>6762.000000</td>\n",
       "      <td>7255.000000</td>\n",
       "      <td>99.000000</td>\n",
       "      <td>100.000000</td>\n",
       "      <td>107.000000</td>\n",
       "      <td>15.000000</td>\n",
       "    </tr>\n",
       "  </tbody>\n",
       "</table>\n",
       "</div>"
      ],
      "text/plain": [
       "                 id    intensidad     ocupacion         carga          vmed  \\\n",
       "count  12313.000000  12288.000000  10535.000000  12283.000000  12288.000000   \n",
       "mean    6729.889466   2047.763672      7.376080     45.475861     79.130859   \n",
       "std       20.423260   1716.357625      7.536129     29.215821     15.661891   \n",
       "min     6679.000000      4.000000      1.000000      1.000000      4.000000   \n",
       "25%     6717.000000    479.000000      3.000000     17.000000     77.000000   \n",
       "50%     6729.000000   1511.500000      6.000000     47.000000     84.000000   \n",
       "75%     6746.000000   3392.000000      9.000000     71.000000     88.000000   \n",
       "max     6762.000000   7255.000000     99.000000    100.000000    107.000000   \n",
       "\n",
       "       periodo_integracion  \n",
       "count         12313.000000  \n",
       "mean             14.845123  \n",
       "std               0.878117  \n",
       "min               1.000000  \n",
       "25%              15.000000  \n",
       "50%              15.000000  \n",
       "75%              15.000000  \n",
       "max              15.000000  "
      ]
     },
     "execution_count": 140,
     "metadata": {},
     "output_type": "execute_result"
    }
   ],
   "source": [
    "df_test_route_firstweek_7AM.describe()"
   ]
  },
  {
   "cell_type": "code",
   "execution_count": 141,
   "metadata": {},
   "outputs": [
    {
     "data": {
      "text/plain": [
       "array([[<matplotlib.axes._subplots.AxesSubplot object at 0x1a470b5c18>,\n",
       "        <matplotlib.axes._subplots.AxesSubplot object at 0x1acf282978>],\n",
       "       [<matplotlib.axes._subplots.AxesSubplot object at 0x1acf260208>,\n",
       "        <matplotlib.axes._subplots.AxesSubplot object at 0x1ace484518>],\n",
       "       [<matplotlib.axes._subplots.AxesSubplot object at 0x1acdfbf828>,\n",
       "        <matplotlib.axes._subplots.AxesSubplot object at 0x1acdfbf860>]],\n",
       "      dtype=object)"
      ]
     },
     "execution_count": 141,
     "metadata": {},
     "output_type": "execute_result"
    },
    {
     "data": {
      "image/png": "[encoded data removed]",
      "text/plain": [
       "<Figure size 432x288 with 6 Axes>"
      ]
     },
     "metadata": {
      "needs_background": "light"
     },
     "output_type": "display_data"
    }
   ],
   "source": [
    "df_test_route_firstweek_7AM.hist()"
   ]
  },
  {
   "cell_type": "markdown",
   "metadata": {},
   "source": [
    "## **DATA PREPARATION**"
   ]
  },
  {
   "cell_type": "markdown",
   "metadata": {},
   "source": [
    "**1. Formating \"Fecha\" Column and splitting it on \"Date\" and \"Hora\"**"
   ]
  },
  {
   "cell_type": "code",
   "execution_count": 142,
   "metadata": {},
   "outputs": [
    {
     "name": "stdout",
     "output_type": "stream",
     "text": [
      "CPU times: user 17 ms, sys: 2.91 ms, total: 19.9 ms\n",
      "Wall time: 17.6 ms\n"
     ]
    }
   ],
   "source": [
    "%%time\n",
    "df_test_route_firstweek_7AM['Fecha']=df_test_route_firstweek_7AM[\"fecha\"].dt.date\n",
    "#Creating new columns spiltting Date and Hour of the day.\n",
    "df_test_route_firstweek_7AM['Hora']=df_test_route_firstweek_7AM[\"fecha\"].dt.time\n",
    "df_test_route_firstweek_7AM[\"Date\"]=df_test_route_firstweek_7AM[\"fecha\"]\n",
    "#Drop original column fecha\n",
    "df_test_route_firstweek_7AM=df_test_route_firstweek_7AM.drop('fecha', 1)"
   ]
  },
  {
   "cell_type": "code",
   "execution_count": 143,
   "metadata": {},
   "outputs": [
    {
     "data": {
      "text/plain": [
       "id                              int64\n",
       "tipo_elem                      object\n",
       "intensidad                    float64\n",
       "ocupacion                     float64\n",
       "carga                         float64\n",
       "vmed                          float64\n",
       "error                          object\n",
       "periodo_integracion             int64\n",
       "Fecha                          object\n",
       "Hora                           object\n",
       "Date                   datetime64[ns]\n",
       "dtype: object"
      ]
     },
     "execution_count": 143,
     "metadata": {},
     "output_type": "execute_result"
    }
   ],
   "source": [
    "df_test_route_firstweek_7AM.dtypes"
   ]
  },
  {
   "cell_type": "markdown",
   "metadata": {},
   "source": [
    "**2. Obtaining X e Y UTM coordinates from others files**"
   ]
  },
  {
   "cell_type": "markdown",
   "metadata": {},
   "source": [
    "The file has different encoding of the default ones, for doing the load we need to specify the encoding and the decimal number point delimiter."
   ]
  },
  {
   "cell_type": "code",
   "execution_count": 144,
   "metadata": {},
   "outputs": [],
   "source": [
    "sourceMP='/Users/antoniobravomunoz/Documents/DATA_SCIENCE_MASTER/TFM/Data/HistoricoPuntosMedidaUbic/pmed_ubicacion_09_2018.csv'\n",
    "dfplaces=pd.read_csv(sourceMP,sep=';',encoding='ISO-8859-1',decimal=\",\")"
   ]
  },
  {
   "cell_type": "code",
   "execution_count": 145,
   "metadata": {},
   "outputs": [
    {
     "data": {
      "text/plain": [
       "tipo_elem     object\n",
       "id             int64\n",
       "cod_cent      object\n",
       "nombre        object\n",
       "x            float64\n",
       "y            float64\n",
       "dtype: object"
      ]
     },
     "execution_count": 145,
     "metadata": {},
     "output_type": "execute_result"
    }
   ],
   "source": [
    "dfplaces.dtypes"
   ]
  },
  {
   "cell_type": "markdown",
   "metadata": {},
   "source": [
    "**3. Transforming Coordinates from UTM to Latitude and Longitude.**\n",
    "\n",
    "Code function source: https://stackoverflow.com/questions/343865/how-to-convert-from-utm-to-latlng-in-python-or-javascript\n",
    "\n",
    "Modifications: \n",
    " - Madrid zone value: 30\n",
    " - Values returned like a list of float64"
   ]
  },
  {
   "cell_type": "code",
   "execution_count": 146,
   "metadata": {},
   "outputs": [],
   "source": [
    "def utmToLatLng(easting, northing, northernHemisphere=True,zone=30):\n",
    "    #Defining default Madrid zone with the value: 30\n",
    "    if not northernHemisphere:\n",
    "        northing = 10000000 - northing\n",
    "\n",
    "    a = 6378137\n",
    "    e = 0.081819191\n",
    "    e1sq = 0.006739497\n",
    "    k0 = 0.9996\n",
    "\n",
    "    arc = northing / k0\n",
    "    mu = arc / (a * (1 - math.pow(e, 2) / 4.0 - 3 * math.pow(e, 4) / 64.0 - 5 * math.pow(e, 6) / 256.0))\n",
    "\n",
    "    ei = (1 - math.pow((1 - e * e), (1 / 2.0))) / (1 + math.pow((1 - e * e), (1 / 2.0)))\n",
    "\n",
    "    ca = 3 * ei / 2 - 27 * math.pow(ei, 3) / 32.0\n",
    "\n",
    "    cb = 21 * math.pow(ei, 2) / 16 - 55 * math.pow(ei, 4) / 32\n",
    "    cc = 151 * math.pow(ei, 3) / 96\n",
    "    cd = 1097 * math.pow(ei, 4) / 512\n",
    "    phi1 = mu + ca * math.sin(2 * mu) + cb * math.sin(4 * mu) + cc * math.sin(6 * mu) + cd * math.sin(8 * mu)\n",
    "\n",
    "    n0 = a / math.pow((1 - math.pow((e * math.sin(phi1)), 2)), (1 / 2.0))\n",
    "\n",
    "    r0 = a * (1 - e * e) / math.pow((1 - math.pow((e * math.sin(phi1)), 2)), (3 / 2.0))\n",
    "    fact1 = n0 * math.tan(phi1) / r0\n",
    "\n",
    "    _a1 = 500000 - easting\n",
    "    dd0 = _a1 / (n0 * k0)\n",
    "    fact2 = dd0 * dd0 / 2\n",
    "\n",
    "    t0 = math.pow(math.tan(phi1), 2)\n",
    "    Q0 = e1sq * math.pow(math.cos(phi1), 2)\n",
    "    fact3 = (5 + 3 * t0 + 10 * Q0 - 4 * Q0 * Q0 - 9 * e1sq) * math.pow(dd0, 4) / 24\n",
    "\n",
    "    fact4 = (61 + 90 * t0 + 298 * Q0 + 45 * t0 * t0 - 252 * e1sq - 3 * Q0 * Q0) * math.pow(dd0, 6) / 720\n",
    "\n",
    "    lof1 = _a1 / (n0 * k0)\n",
    "    lof2 = (1 + 2 * t0 + Q0) * math.pow(dd0, 3) / 6.0\n",
    "    lof3 = (5 - 2 * Q0 + 28 * t0 - 3 * math.pow(Q0, 2) + 8 * e1sq + 24 * math.pow(t0, 2)) * math.pow(dd0, 5) / 120\n",
    "    _a2 = (lof1 - lof2 + lof3) / math.cos(phi1)\n",
    "    _a3 = _a2 * 180 / math.pi\n",
    "\n",
    "    latitude = 180 * (phi1 - fact1 * (fact2 + fact3 + fact4)) / math.pi\n",
    "\n",
    "    if not northernHemisphere:\n",
    "        latitude = -latitude\n",
    "\n",
    "    longitude = ((zone > 0) and (6 * zone - 183.0) or 3.0) - _a3\n",
    "\n",
    "    return [latitude, longitude]"
   ]
  },
  {
   "cell_type": "code",
   "execution_count": 147,
   "metadata": {},
   "outputs": [
    {
     "name": "stdout",
     "output_type": "stream",
     "text": [
      "CPU times: user 149 ms, sys: 2.31 ms, total: 152 ms\n",
      "Wall time: 150 ms\n"
     ]
    }
   ],
   "source": [
    "%%time\n",
    "dfplaces['LatLong'] = dfplaces.apply(lambda x: utmToLatLng(x['x'], x['y']), axis=1)"
   ]
  },
  {
   "cell_type": "code",
   "execution_count": 148,
   "metadata": {},
   "outputs": [
    {
     "name": "stdout",
     "output_type": "stream",
     "text": [
      "CPU times: user 3.06 ms, sys: 929 µs, total: 3.99 ms\n",
      "Wall time: 3.13 ms\n"
     ]
    }
   ],
   "source": [
    "%%time\n",
    "dfplaces[['Lat','Long']] = pd.DataFrame(dfplaces.LatLong.values.tolist(), index= dfplaces.index)"
   ]
  },
  {
   "cell_type": "code",
   "execution_count": 149,
   "metadata": {},
   "outputs": [],
   "source": [
    "dfplaces=dfplaces.drop(columns=['LatLong'])"
   ]
  },
  {
   "cell_type": "code",
   "execution_count": 150,
   "metadata": {
    "scrolled": true
   },
   "outputs": [
    {
     "data": {
      "text/html": [
       "<div>\n",
       "<style scoped>\n",
       "    .dataframe tbody tr th:only-of-type {\n",
       "        vertical-align: middle;\n",
       "    }\n",
       "\n",
       "    .dataframe tbody tr th {\n",
       "        vertical-align: top;\n",
       "    }\n",
       "\n",
       "    .dataframe thead th {\n",
       "        text-align: right;\n",
       "    }\n",
       "</style>\n",
       "<table border=\"1\" class=\"dataframe\">\n",
       "  <thead>\n",
       "    <tr style=\"text-align: right;\">\n",
       "      <th></th>\n",
       "      <th>tipo_elem</th>\n",
       "      <th>id</th>\n",
       "      <th>cod_cent</th>\n",
       "      <th>nombre</th>\n",
       "      <th>x</th>\n",
       "      <th>y</th>\n",
       "      <th>Lat</th>\n",
       "      <th>Long</th>\n",
       "    </tr>\n",
       "  </thead>\n",
       "  <tbody>\n",
       "    <tr>\n",
       "      <th>0</th>\n",
       "      <td>URB</td>\n",
       "      <td>3840</td>\n",
       "      <td>01001</td>\n",
       "      <td>Jose Ortega y Gasset E-O - Pº Castellana-Serrano</td>\n",
       "      <td>441615.343347</td>\n",
       "      <td>4.475768e+06</td>\n",
       "      <td>40.430502</td>\n",
       "      <td>-3.688323</td>\n",
       "    </tr>\n",
       "    <tr>\n",
       "      <th>1</th>\n",
       "      <td>URB</td>\n",
       "      <td>3841</td>\n",
       "      <td>01002</td>\n",
       "      <td>Jose Ortega y Gasset O-E - Serrano-Pº Castellana</td>\n",
       "      <td>441705.882340</td>\n",
       "      <td>4.475770e+06</td>\n",
       "      <td>40.430524</td>\n",
       "      <td>-3.687256</td>\n",
       "    </tr>\n",
       "    <tr>\n",
       "      <th>2</th>\n",
       "      <td>URB</td>\n",
       "      <td>3842</td>\n",
       "      <td>01003</td>\n",
       "      <td>Pº Recoletos N-S - Almirante-Prim</td>\n",
       "      <td>441319.371258</td>\n",
       "      <td>4.474841e+06</td>\n",
       "      <td>40.422132</td>\n",
       "      <td>-3.691727</td>\n",
       "    </tr>\n",
       "    <tr>\n",
       "      <th>3</th>\n",
       "      <td>URB</td>\n",
       "      <td>3843</td>\n",
       "      <td>01004</td>\n",
       "      <td>Pº Recoletos S-N - Pl, Cibeles- Recoletos</td>\n",
       "      <td>441301.632986</td>\n",
       "      <td>4.474764e+06</td>\n",
       "      <td>40.421433</td>\n",
       "      <td>-3.691929</td>\n",
       "    </tr>\n",
       "    <tr>\n",
       "      <th>4</th>\n",
       "      <td>URB</td>\n",
       "      <td>3844</td>\n",
       "      <td>01005</td>\n",
       "      <td>(AFOROS) Pº Castellana S-N  - Eduardo Dato - P...</td>\n",
       "      <td>441605.765072</td>\n",
       "      <td>4.476132e+06</td>\n",
       "      <td>40.433782</td>\n",
       "      <td>-3.688470</td>\n",
       "    </tr>\n",
       "  </tbody>\n",
       "</table>\n",
       "</div>"
      ],
      "text/plain": [
       "  tipo_elem    id cod_cent                                             nombre  \\\n",
       "0       URB  3840    01001   Jose Ortega y Gasset E-O - Pº Castellana-Serrano   \n",
       "1       URB  3841    01002   Jose Ortega y Gasset O-E - Serrano-Pº Castellana   \n",
       "2       URB  3842    01003                  Pº Recoletos N-S - Almirante-Prim   \n",
       "3       URB  3843    01004          Pº Recoletos S-N - Pl, Cibeles- Recoletos   \n",
       "4       URB  3844    01005  (AFOROS) Pº Castellana S-N  - Eduardo Dato - P...   \n",
       "\n",
       "               x             y        Lat      Long  \n",
       "0  441615.343347  4.475768e+06  40.430502 -3.688323  \n",
       "1  441705.882340  4.475770e+06  40.430524 -3.687256  \n",
       "2  441319.371258  4.474841e+06  40.422132 -3.691727  \n",
       "3  441301.632986  4.474764e+06  40.421433 -3.691929  \n",
       "4  441605.765072  4.476132e+06  40.433782 -3.688470  "
      ]
     },
     "execution_count": 150,
     "metadata": {},
     "output_type": "execute_result"
    }
   ],
   "source": [
    "dfplaces.head()"
   ]
  },
  {
   "cell_type": "markdown",
   "metadata": {},
   "source": [
    "**4. Adding Latitude and Longitude to the main dataframe.**"
   ]
  },
  {
   "cell_type": "code",
   "execution_count": 151,
   "metadata": {},
   "outputs": [
    {
     "name": "stdout",
     "output_type": "stream",
     "text": [
      "CPU times: user 8.62 ms, sys: 2.56 ms, total: 11.2 ms\n",
      "Wall time: 9.27 ms\n"
     ]
    }
   ],
   "source": [
    "%%time\n",
    "df_test_route_firstweek_7AM_complete=df_test_route_firstweek_7AM.join(dfplaces.set_index('id')[['Lat','Long']],on='id',how='left',rsuffix='_other')"
   ]
  },
  {
   "cell_type": "code",
   "execution_count": 152,
   "metadata": {},
   "outputs": [
    {
     "data": {
      "text/plain": [
       "id                              int64\n",
       "tipo_elem                      object\n",
       "intensidad                    float64\n",
       "ocupacion                     float64\n",
       "carga                         float64\n",
       "vmed                          float64\n",
       "error                          object\n",
       "periodo_integracion             int64\n",
       "Fecha                          object\n",
       "Hora                           object\n",
       "Date                   datetime64[ns]\n",
       "Lat                           float64\n",
       "Long                          float64\n",
       "dtype: object"
      ]
     },
     "execution_count": 152,
     "metadata": {},
     "output_type": "execute_result"
    }
   ],
   "source": [
    "df_test_route_firstweek_7AM_complete.dtypes"
   ]
  },
  {
   "cell_type": "markdown",
   "metadata": {},
   "source": [
    "**5. Dealing columns with missing values**"
   ]
  },
  {
   "cell_type": "code",
   "execution_count": 153,
   "metadata": {},
   "outputs": [
    {
     "name": "stdout",
     "output_type": "stream",
     "text": [
      "CPU times: user 9.94 ms, sys: 2.55 ms, total: 12.5 ms\n",
      "Wall time: 10.7 ms\n"
     ]
    },
    {
     "data": {
      "text/plain": [
       "id                     False\n",
       "tipo_elem              False\n",
       "intensidad              True\n",
       "ocupacion               True\n",
       "carga                   True\n",
       "vmed                    True\n",
       "error                  False\n",
       "periodo_integracion    False\n",
       "Fecha                  False\n",
       "Hora                   False\n",
       "Date                   False\n",
       "Lat                    False\n",
       "Long                   False\n",
       "dtype: bool"
      ]
     },
     "execution_count": 153,
     "metadata": {},
     "output_type": "execute_result"
    }
   ],
   "source": [
    "%%time\n",
    "df_test_route_firstweek_7AM_complete.isnull().any()"
   ]
  },
  {
   "cell_type": "code",
   "execution_count": 154,
   "metadata": {},
   "outputs": [],
   "source": [
    "nan_rowsIntensidad = df_test_route_firstweek_7AM_complete[df_test_route_firstweek_7AM_complete['intensidad'].isnull()]\n",
    "nan_rowsOcupac = df_test_route_firstweek_7AM_complete[df_test_route_firstweek_7AM_complete['ocupacion'].isnull()]\n",
    "nan_rowsCarga = df_test_route_firstweek_7AM_complete[df_test_route_firstweek_7AM_complete['carga'].isnull()]\n",
    "nan_rowsVmed = df_test_route_firstweek_7AM_complete[df_test_route_firstweek_7AM_complete['vmed'].isnull()]"
   ]
  },
  {
   "cell_type": "code",
   "execution_count": 155,
   "metadata": {},
   "outputs": [
    {
     "name": "stdout",
     "output_type": "stream",
     "text": [
      "-Number of Nan in Intensidad: 25\n",
      "-Number of Nan in Ocupacion: 1778\n",
      "-Number of Nan in Carga: 30\n",
      "-Number of Nan in Vmed: 25\n"
     ]
    }
   ],
   "source": [
    "print(\"-Number of Nan in Intensidad: {}\".format(nan_rowsIntensidad.shape[0]))\n",
    "print(\"-Number of Nan in Ocupacion: {}\".format(nan_rowsOcupac.shape[0]))\n",
    "print(\"-Number of Nan in Carga: {}\".format(nan_rowsCarga.shape[0]))\n",
    "print(\"-Number of Nan in Vmed: {}\".format(nan_rowsVmed.shape[0]))"
   ]
  },
  {
   "cell_type": "code",
   "execution_count": 156,
   "metadata": {},
   "outputs": [
    {
     "data": {
      "text/plain": [
       "(12313, 13)"
      ]
     },
     "execution_count": 156,
     "metadata": {},
     "output_type": "execute_result"
    }
   ],
   "source": [
    "df_test_route_firstweek_7AM_complete.shape"
   ]
  },
  {
   "cell_type": "markdown",
   "metadata": {},
   "source": [
    "Dropping Nan values."
   ]
  },
  {
   "cell_type": "code",
   "execution_count": 157,
   "metadata": {},
   "outputs": [
    {
     "name": "stdout",
     "output_type": "stream",
     "text": [
      "CPU times: user 10.1 ms, sys: 1.9 ms, total: 12 ms\n",
      "Wall time: 10.4 ms\n"
     ]
    }
   ],
   "source": [
    "%%time\n",
    "df_test_route_firstweek_7AM_complete=df_test_route_firstweek_7AM_complete.dropna(axis=0)"
   ]
  },
  {
   "cell_type": "code",
   "execution_count": 158,
   "metadata": {},
   "outputs": [
    {
     "data": {
      "text/plain": [
       "(10526, 13)"
      ]
     },
     "execution_count": 158,
     "metadata": {},
     "output_type": "execute_result"
    }
   ],
   "source": [
    "df_test_route_firstweek_7AM_complete.shape"
   ]
  },
  {
   "cell_type": "code",
   "execution_count": 159,
   "metadata": {},
   "outputs": [
    {
     "name": "stdout",
     "output_type": "stream",
     "text": [
      "CPU times: user 7.04 ms, sys: 1.91 ms, total: 8.95 ms\n",
      "Wall time: 6.91 ms\n"
     ]
    },
    {
     "data": {
      "text/plain": [
       "id                     False\n",
       "tipo_elem              False\n",
       "intensidad             False\n",
       "ocupacion              False\n",
       "carga                  False\n",
       "vmed                   False\n",
       "error                  False\n",
       "periodo_integracion    False\n",
       "Fecha                  False\n",
       "Hora                   False\n",
       "Date                   False\n",
       "Lat                    False\n",
       "Long                   False\n",
       "dtype: bool"
      ]
     },
     "execution_count": 159,
     "metadata": {},
     "output_type": "execute_result"
    }
   ],
   "source": [
    "%%time\n",
    "df_test_route_firstweek_7AM_complete.isnull().any()"
   ]
  },
  {
   "cell_type": "code",
   "execution_count": 160,
   "metadata": {},
   "outputs": [
    {
     "data": {
      "text/plain": [
       "array([[<matplotlib.axes._subplots.AxesSubplot object at 0x1abd5ff400>,\n",
       "        <matplotlib.axes._subplots.AxesSubplot object at 0x1abd61a5c0>],\n",
       "       [<matplotlib.axes._subplots.AxesSubplot object at 0x1abd248c50>,\n",
       "        <matplotlib.axes._subplots.AxesSubplot object at 0x1abd276208>]],\n",
       "      dtype=object)"
      ]
     },
     "execution_count": 160,
     "metadata": {},
     "output_type": "execute_result"
    },
    {
     "data": {
      "image/png": "[encoded data removed]",
      "text/plain": [
       "<Figure size 432x288 with 4 Axes>"
      ]
     },
     "metadata": {
      "needs_background": "light"
     },
     "output_type": "display_data"
    }
   ],
   "source": [
    "df_test_route_firstweek_7AM_complete[['intensidad','ocupacion','vmed','carga']].hist(bins=20)"
   ]
  },
  {
   "cell_type": "markdown",
   "metadata": {},
   "source": [
    "**6. Homogenizing values that are different because come from different files.**\n",
    "\n",
    "An example of this is that feature 'tipo_elem' contains different names from one files to anothers. To homogenize this feature, we apply a function to map it in a uniform way."
   ]
  },
  {
   "cell_type": "code",
   "execution_count": 161,
   "metadata": {},
   "outputs": [
    {
     "data": {
      "text/plain": [
       "<matplotlib.axes._subplots.AxesSubplot at 0x1a9c3b8da0>"
      ]
     },
     "execution_count": 161,
     "metadata": {},
     "output_type": "execute_result"
    },
    {
     "data": {
      "image/png": "[encoded data removed]",
      "text/plain": [
       "<Figure size 432x288 with 1 Axes>"
      ]
     },
     "metadata": {
      "needs_background": "light"
     },
     "output_type": "display_data"
    }
   ],
   "source": [
    "# Before applying the function. Histograms based on the categories.\n",
    "df_test_route_firstweek_7AM_complete['tipo_elem'].value_counts().plot(kind='bar')"
   ]
  },
  {
   "cell_type": "markdown",
   "metadata": {},
   "source": [
    "In this case, we only have a value in opposition of train set."
   ]
  },
  {
   "cell_type": "markdown",
   "metadata": {},
   "source": [
    "**7. Dealing with wrong values**"
   ]
  },
  {
   "cell_type": "markdown",
   "metadata": {},
   "source": [
    "In this case, we dont have anomalous values for the features."
   ]
  },
  {
   "cell_type": "code",
   "execution_count": 162,
   "metadata": {},
   "outputs": [
    {
     "data": {
      "text/html": [
       "<div>\n",
       "<style scoped>\n",
       "    .dataframe tbody tr th:only-of-type {\n",
       "        vertical-align: middle;\n",
       "    }\n",
       "\n",
       "    .dataframe tbody tr th {\n",
       "        vertical-align: top;\n",
       "    }\n",
       "\n",
       "    .dataframe thead th {\n",
       "        text-align: right;\n",
       "    }\n",
       "</style>\n",
       "<table border=\"1\" class=\"dataframe\">\n",
       "  <thead>\n",
       "    <tr style=\"text-align: right;\">\n",
       "      <th></th>\n",
       "      <th>id</th>\n",
       "      <th>intensidad</th>\n",
       "      <th>ocupacion</th>\n",
       "      <th>carga</th>\n",
       "      <th>vmed</th>\n",
       "      <th>periodo_integracion</th>\n",
       "      <th>Lat</th>\n",
       "      <th>Long</th>\n",
       "    </tr>\n",
       "  </thead>\n",
       "  <tbody>\n",
       "    <tr>\n",
       "      <th>count</th>\n",
       "      <td>10526.000000</td>\n",
       "      <td>10526.000000</td>\n",
       "      <td>10526.000000</td>\n",
       "      <td>10526.000000</td>\n",
       "      <td>10526.000000</td>\n",
       "      <td>10526.000000</td>\n",
       "      <td>10526.000000</td>\n",
       "      <td>10526.000000</td>\n",
       "    </tr>\n",
       "    <tr>\n",
       "      <th>mean</th>\n",
       "      <td>6729.556907</td>\n",
       "      <td>2351.216797</td>\n",
       "      <td>7.346855</td>\n",
       "      <td>52.075052</td>\n",
       "      <td>79.530401</td>\n",
       "      <td>14.909082</td>\n",
       "      <td>40.432354</td>\n",
       "      <td>-3.667283</td>\n",
       "    </tr>\n",
       "    <tr>\n",
       "      <th>std</th>\n",
       "      <td>20.665193</td>\n",
       "      <td>1671.041131</td>\n",
       "      <td>7.427167</td>\n",
       "      <td>26.233732</td>\n",
       "      <td>14.767808</td>\n",
       "      <td>0.748585</td>\n",
       "      <td>0.030781</td>\n",
       "      <td>0.007450</td>\n",
       "    </tr>\n",
       "    <tr>\n",
       "      <th>min</th>\n",
       "      <td>6679.000000</td>\n",
       "      <td>5.000000</td>\n",
       "      <td>1.000000</td>\n",
       "      <td>1.000000</td>\n",
       "      <td>4.000000</td>\n",
       "      <td>1.000000</td>\n",
       "      <td>40.383376</td>\n",
       "      <td>-3.683001</td>\n",
       "    </tr>\n",
       "    <tr>\n",
       "      <th>25%</th>\n",
       "      <td>6717.000000</td>\n",
       "      <td>892.000000</td>\n",
       "      <td>3.000000</td>\n",
       "      <td>28.000000</td>\n",
       "      <td>77.000000</td>\n",
       "      <td>15.000000</td>\n",
       "      <td>40.407452</td>\n",
       "      <td>-3.673634</td>\n",
       "    </tr>\n",
       "    <tr>\n",
       "      <th>50%</th>\n",
       "      <td>6729.000000</td>\n",
       "      <td>2054.500000</td>\n",
       "      <td>6.000000</td>\n",
       "      <td>56.000000</td>\n",
       "      <td>84.000000</td>\n",
       "      <td>15.000000</td>\n",
       "      <td>40.435325</td>\n",
       "      <td>-3.665770</td>\n",
       "    </tr>\n",
       "    <tr>\n",
       "      <th>75%</th>\n",
       "      <td>6746.000000</td>\n",
       "      <td>3596.000000</td>\n",
       "      <td>9.000000</td>\n",
       "      <td>74.000000</td>\n",
       "      <td>88.000000</td>\n",
       "      <td>15.000000</td>\n",
       "      <td>40.461982</td>\n",
       "      <td>-3.660087</td>\n",
       "    </tr>\n",
       "    <tr>\n",
       "      <th>max</th>\n",
       "      <td>6762.000000</td>\n",
       "      <td>7255.000000</td>\n",
       "      <td>76.000000</td>\n",
       "      <td>100.000000</td>\n",
       "      <td>100.000000</td>\n",
       "      <td>15.000000</td>\n",
       "      <td>40.481905</td>\n",
       "      <td>-3.659082</td>\n",
       "    </tr>\n",
       "  </tbody>\n",
       "</table>\n",
       "</div>"
      ],
      "text/plain": [
       "                 id    intensidad     ocupacion         carga          vmed  \\\n",
       "count  10526.000000  10526.000000  10526.000000  10526.000000  10526.000000   \n",
       "mean    6729.556907   2351.216797      7.346855     52.075052     79.530401   \n",
       "std       20.665193   1671.041131      7.427167     26.233732     14.767808   \n",
       "min     6679.000000      5.000000      1.000000      1.000000      4.000000   \n",
       "25%     6717.000000    892.000000      3.000000     28.000000     77.000000   \n",
       "50%     6729.000000   2054.500000      6.000000     56.000000     84.000000   \n",
       "75%     6746.000000   3596.000000      9.000000     74.000000     88.000000   \n",
       "max     6762.000000   7255.000000     76.000000    100.000000    100.000000   \n",
       "\n",
       "       periodo_integracion           Lat          Long  \n",
       "count         10526.000000  10526.000000  10526.000000  \n",
       "mean             14.909082     40.432354     -3.667283  \n",
       "std               0.748585      0.030781      0.007450  \n",
       "min               1.000000     40.383376     -3.683001  \n",
       "25%              15.000000     40.407452     -3.673634  \n",
       "50%              15.000000     40.435325     -3.665770  \n",
       "75%              15.000000     40.461982     -3.660087  \n",
       "max              15.000000     40.481905     -3.659082  "
      ]
     },
     "execution_count": 162,
     "metadata": {},
     "output_type": "execute_result"
    }
   ],
   "source": [
    "df_test_route_firstweek_7AM_complete.describe()"
   ]
  },
  {
   "cell_type": "markdown",
   "metadata": {},
   "source": [
    "**8. Looking for Outliers**"
   ]
  },
  {
   "cell_type": "markdown",
   "metadata": {},
   "source": [
    "In test case, we shouldn't remove outliers avoiding to have influence in the test results. "
   ]
  },
  {
   "cell_type": "markdown",
   "metadata": {},
   "source": [
    "**9. One Hot Encoding for categorical features**"
   ]
  },
  {
   "cell_type": "markdown",
   "metadata": {},
   "source": [
    "We have 2 categorical features: *\"Tipo_elem\"* and *\"error\"*"
   ]
  },
  {
   "cell_type": "code",
   "execution_count": 163,
   "metadata": {},
   "outputs": [
    {
     "name": "stdout",
     "output_type": "stream",
     "text": [
      "CPU times: user 4.24 ms, sys: 1.65 ms, total: 5.89 ms\n",
      "Wall time: 4.24 ms\n"
     ]
    }
   ],
   "source": [
    "%%time\n",
    "df_test_route_firstweek_7AM_complete1=pd.get_dummies(df_test_route_firstweek_7AM_complete['tipo_elem'])\n",
    "df_test_route_firstweek_7AM_complete2=pd.get_dummies(df_test_route_firstweek_7AM_complete['error'])"
   ]
  },
  {
   "cell_type": "code",
   "execution_count": 164,
   "metadata": {},
   "outputs": [
    {
     "name": "stdout",
     "output_type": "stream",
     "text": [
      "CPU times: user 3 µs, sys: 1 µs, total: 4 µs\n",
      "Wall time: 7.15 µs\n"
     ]
    }
   ],
   "source": [
    "%time\n",
    "df_test_route_firstweek_7AM_complete3=df_test_route_firstweek_7AM_complete.merge(df_test_route_firstweek_7AM_complete1,left_index=True,right_index=True)\n",
    "df_test_route_firstweek_7AM_complete3=df_test_route_firstweek_7AM_complete3.merge(df_test_route_firstweek_7AM_complete2,left_index=True,right_index=True)"
   ]
  },
  {
   "cell_type": "code",
   "execution_count": 165,
   "metadata": {},
   "outputs": [
    {
     "data": {
      "text/html": [
       "<div>\n",
       "<style scoped>\n",
       "    .dataframe tbody tr th:only-of-type {\n",
       "        vertical-align: middle;\n",
       "    }\n",
       "\n",
       "    .dataframe tbody tr th {\n",
       "        vertical-align: top;\n",
       "    }\n",
       "\n",
       "    .dataframe thead th {\n",
       "        text-align: right;\n",
       "    }\n",
       "</style>\n",
       "<table border=\"1\" class=\"dataframe\">\n",
       "  <thead>\n",
       "    <tr style=\"text-align: right;\">\n",
       "      <th></th>\n",
       "      <th>id</th>\n",
       "      <th>tipo_elem</th>\n",
       "      <th>intensidad</th>\n",
       "      <th>ocupacion</th>\n",
       "      <th>carga</th>\n",
       "      <th>vmed</th>\n",
       "      <th>error</th>\n",
       "      <th>periodo_integracion</th>\n",
       "      <th>Fecha</th>\n",
       "      <th>Hora</th>\n",
       "      <th>Date</th>\n",
       "      <th>Lat</th>\n",
       "      <th>Long</th>\n",
       "      <th>M30</th>\n",
       "      <th>N</th>\n",
       "    </tr>\n",
       "  </thead>\n",
       "  <tbody>\n",
       "    <tr>\n",
       "      <th>0</th>\n",
       "      <td>6679</td>\n",
       "      <td>M30</td>\n",
       "      <td>2468.0</td>\n",
       "      <td>3.0</td>\n",
       "      <td>38.0</td>\n",
       "      <td>87.0</td>\n",
       "      <td>N</td>\n",
       "      <td>15</td>\n",
       "      <td>2018-09-01</td>\n",
       "      <td>00:00:00</td>\n",
       "      <td>2018-09-01 00:00:00</td>\n",
       "      <td>40.393663</td>\n",
       "      <td>-3.674823</td>\n",
       "      <td>1</td>\n",
       "      <td>1</td>\n",
       "    </tr>\n",
       "    <tr>\n",
       "      <th>1</th>\n",
       "      <td>6679</td>\n",
       "      <td>M30</td>\n",
       "      <td>2488.0</td>\n",
       "      <td>4.0</td>\n",
       "      <td>37.0</td>\n",
       "      <td>87.0</td>\n",
       "      <td>N</td>\n",
       "      <td>15</td>\n",
       "      <td>2018-09-01</td>\n",
       "      <td>00:15:00</td>\n",
       "      <td>2018-09-01 00:15:00</td>\n",
       "      <td>40.393663</td>\n",
       "      <td>-3.674823</td>\n",
       "      <td>1</td>\n",
       "      <td>1</td>\n",
       "    </tr>\n",
       "    <tr>\n",
       "      <th>2</th>\n",
       "      <td>6679</td>\n",
       "      <td>M30</td>\n",
       "      <td>2503.0</td>\n",
       "      <td>4.0</td>\n",
       "      <td>38.0</td>\n",
       "      <td>88.0</td>\n",
       "      <td>N</td>\n",
       "      <td>15</td>\n",
       "      <td>2018-09-01</td>\n",
       "      <td>00:30:00</td>\n",
       "      <td>2018-09-01 00:30:00</td>\n",
       "      <td>40.393663</td>\n",
       "      <td>-3.674823</td>\n",
       "      <td>1</td>\n",
       "      <td>1</td>\n",
       "    </tr>\n",
       "    <tr>\n",
       "      <th>3</th>\n",
       "      <td>6679</td>\n",
       "      <td>M30</td>\n",
       "      <td>2140.0</td>\n",
       "      <td>3.0</td>\n",
       "      <td>32.0</td>\n",
       "      <td>88.0</td>\n",
       "      <td>N</td>\n",
       "      <td>15</td>\n",
       "      <td>2018-09-01</td>\n",
       "      <td>00:45:00</td>\n",
       "      <td>2018-09-01 00:45:00</td>\n",
       "      <td>40.393663</td>\n",
       "      <td>-3.674823</td>\n",
       "      <td>1</td>\n",
       "      <td>1</td>\n",
       "    </tr>\n",
       "    <tr>\n",
       "      <th>4</th>\n",
       "      <td>6679</td>\n",
       "      <td>M30</td>\n",
       "      <td>2156.0</td>\n",
       "      <td>4.0</td>\n",
       "      <td>33.0</td>\n",
       "      <td>90.0</td>\n",
       "      <td>N</td>\n",
       "      <td>15</td>\n",
       "      <td>2018-09-01</td>\n",
       "      <td>01:00:00</td>\n",
       "      <td>2018-09-01 01:00:00</td>\n",
       "      <td>40.393663</td>\n",
       "      <td>-3.674823</td>\n",
       "      <td>1</td>\n",
       "      <td>1</td>\n",
       "    </tr>\n",
       "  </tbody>\n",
       "</table>\n",
       "</div>"
      ],
      "text/plain": [
       "     id tipo_elem  intensidad  ocupacion  carga  vmed error  \\\n",
       "0  6679       M30      2468.0        3.0   38.0  87.0     N   \n",
       "1  6679       M30      2488.0        4.0   37.0  87.0     N   \n",
       "2  6679       M30      2503.0        4.0   38.0  88.0     N   \n",
       "3  6679       M30      2140.0        3.0   32.0  88.0     N   \n",
       "4  6679       M30      2156.0        4.0   33.0  90.0     N   \n",
       "\n",
       "   periodo_integracion       Fecha      Hora                Date        Lat  \\\n",
       "0                   15  2018-09-01  00:00:00 2018-09-01 00:00:00  40.393663   \n",
       "1                   15  2018-09-01  00:15:00 2018-09-01 00:15:00  40.393663   \n",
       "2                   15  2018-09-01  00:30:00 2018-09-01 00:30:00  40.393663   \n",
       "3                   15  2018-09-01  00:45:00 2018-09-01 00:45:00  40.393663   \n",
       "4                   15  2018-09-01  01:00:00 2018-09-01 01:00:00  40.393663   \n",
       "\n",
       "       Long  M30  N  \n",
       "0 -3.674823    1  1  \n",
       "1 -3.674823    1  1  \n",
       "2 -3.674823    1  1  \n",
       "3 -3.674823    1  1  \n",
       "4 -3.674823    1  1  "
      ]
     },
     "execution_count": 165,
     "metadata": {},
     "output_type": "execute_result"
    }
   ],
   "source": [
    "df_test_route_firstweek_7AM_complete3.head()"
   ]
  },
  {
   "cell_type": "code",
   "execution_count": 166,
   "metadata": {},
   "outputs": [
    {
     "data": {
      "text/plain": [
       "id                              int64\n",
       "tipo_elem                      object\n",
       "intensidad                    float64\n",
       "ocupacion                     float64\n",
       "carga                         float64\n",
       "vmed                          float64\n",
       "error                          object\n",
       "periodo_integracion             int64\n",
       "Fecha                          object\n",
       "Hora                           object\n",
       "Date                   datetime64[ns]\n",
       "Lat                           float64\n",
       "Long                          float64\n",
       "M30                             uint8\n",
       "N                               uint8\n",
       "dtype: object"
      ]
     },
     "execution_count": 166,
     "metadata": {},
     "output_type": "execute_result"
    }
   ],
   "source": [
    "df_test_route_firstweek_7AM_complete3.dtypes"
   ]
  },
  {
   "cell_type": "markdown",
   "metadata": {},
   "source": [
    "-------------"
   ]
  },
  {
   "cell_type": "markdown",
   "metadata": {},
   "source": [
    "## **BREAK TO SAVE DATA FOR VISUALIZATIONS**"
   ]
  },
  {
   "cell_type": "raw",
   "metadata": {},
   "source": [
    "%%time\n",
    "df_complete_6.to_csv('/Users/antoniobravomunoz/Documents/DATA_SCIENCE_MASTER/TFM/Data-Science-Master-project/DATA/traffic_data_complete_visualizations.csv',index=False)"
   ]
  },
  {
   "cell_type": "markdown",
   "metadata": {},
   "source": [
    "-------------"
   ]
  },
  {
   "cell_type": "markdown",
   "metadata": {},
   "source": [
    "**10. Splitting and adapting *\"Date\"* feature in separated fields in order to adecuate data to Machine Learning Algorithm**"
   ]
  },
  {
   "cell_type": "code",
   "execution_count": 167,
   "metadata": {},
   "outputs": [
    {
     "name": "stdout",
     "output_type": "stream",
     "text": [
      "CPU times: user 17.6 ms, sys: 1.72 ms, total: 19.3 ms\n",
      "Wall time: 17.8 ms\n"
     ]
    }
   ],
   "source": [
    "%%time\n",
    "#Parsing Date feature to string in order to split it\n",
    "df_test_route_firstweek_7AM_complete3['Date'] = df_test_route_firstweek_7AM_complete3['Date'].astype(str)"
   ]
  },
  {
   "cell_type": "code",
   "execution_count": 168,
   "metadata": {},
   "outputs": [
    {
     "data": {
      "text/plain": [
       "str"
      ]
     },
     "execution_count": 168,
     "metadata": {},
     "output_type": "execute_result"
    }
   ],
   "source": [
    "type(df_test_route_firstweek_7AM_complete3['Date'][0])"
   ]
  },
  {
   "cell_type": "code",
   "execution_count": 169,
   "metadata": {},
   "outputs": [
    {
     "name": "stdout",
     "output_type": "stream",
     "text": [
      "CPU times: user 186 ms, sys: 4.59 ms, total: 190 ms\n",
      "Wall time: 190 ms\n"
     ]
    }
   ],
   "source": [
    "%%time\n",
    "df_test_route_firstweek_7AM_complete3['FechaAUX'], df_test_route_firstweek_7AM_complete3['HoraAUX'] = df_test_route_firstweek_7AM_complete3['Date'].str.split(' ', 1).str\n",
    "df_test_route_firstweek_7AM_complete3['Anio'], df_test_route_firstweek_7AM_complete3['Mes'], df_test_route_firstweek_7AM_complete3['Dia'] = df_test_route_firstweek_7AM_complete3['FechaAUX'].str.split('-', 2).str\n",
    "df_test_route_firstweek_7AM_complete3['Hora'], df_test_route_firstweek_7AM_complete3['Minutos'], df_test_route_firstweek_7AM_complete3['Segundos']= df_test_route_firstweek_7AM_complete3['HoraAUX'].str.split(':', 2).str"
   ]
  },
  {
   "cell_type": "markdown",
   "metadata": {},
   "source": [
    "Dropping unusable and auxiliar columns including \"Segundos\" due to its value is always 00."
   ]
  },
  {
   "cell_type": "code",
   "execution_count": 170,
   "metadata": {},
   "outputs": [],
   "source": [
    "df_test_route_firstweek_7AM_complete3=df_test_route_firstweek_7AM_complete3.drop(['FechaAUX','HoraAUX','Date','Segundos'],axis=1)"
   ]
  },
  {
   "cell_type": "markdown",
   "metadata": {},
   "source": [
    "Casting to integer for generated columns"
   ]
  },
  {
   "cell_type": "code",
   "execution_count": 171,
   "metadata": {},
   "outputs": [],
   "source": [
    "df_test_route_firstweek_7AM_complete3 = df_test_route_firstweek_7AM_complete3.astype({\"Anio\": int, \"Mes\": int, \"Dia\": int, \"Hora\": int, \"Minutos\": int})"
   ]
  },
  {
   "cell_type": "code",
   "execution_count": 172,
   "metadata": {},
   "outputs": [
    {
     "data": {
      "text/plain": [
       "id                       int64\n",
       "tipo_elem               object\n",
       "intensidad             float64\n",
       "ocupacion              float64\n",
       "carga                  float64\n",
       "vmed                   float64\n",
       "error                   object\n",
       "periodo_integracion      int64\n",
       "Fecha                   object\n",
       "Hora                     int64\n",
       "Lat                    float64\n",
       "Long                   float64\n",
       "M30                      uint8\n",
       "N                        uint8\n",
       "Anio                     int64\n",
       "Mes                      int64\n",
       "Dia                      int64\n",
       "Minutos                  int64\n",
       "dtype: object"
      ]
     },
     "execution_count": 172,
     "metadata": {},
     "output_type": "execute_result"
    }
   ],
   "source": [
    "df_test_route_firstweek_7AM_complete3.dtypes"
   ]
  },
  {
   "cell_type": "markdown",
   "metadata": {},
   "source": [
    "**11. Cleaning-up the complete dataframe (Dropping auxiliar columns, original columns encoded, etc)**"
   ]
  },
  {
   "cell_type": "markdown",
   "metadata": {},
   "source": [
    "Dropping columns without information in our dataset because it has a constant value for all rows.\n",
    "These are \"error\" an \"Anio\". \"Error\" has always N value and for this case we only have data for 2018, so Anio is constant."
   ]
  },
  {
   "cell_type": "code",
   "execution_count": 174,
   "metadata": {},
   "outputs": [],
   "source": [
    "df_test_route_firstweek_7AM_complete4=df_test_route_firstweek_7AM_complete3.drop(columns=['N','Anio'])"
   ]
  },
  {
   "cell_type": "code",
   "execution_count": 175,
   "metadata": {},
   "outputs": [
    {
     "data": {
      "text/plain": [
       "id                       int64\n",
       "tipo_elem               object\n",
       "intensidad             float64\n",
       "ocupacion              float64\n",
       "carga                  float64\n",
       "vmed                   float64\n",
       "error                   object\n",
       "periodo_integracion      int64\n",
       "Fecha                   object\n",
       "Hora                     int64\n",
       "Lat                    float64\n",
       "Long                   float64\n",
       "M30                      uint8\n",
       "Mes                      int64\n",
       "Dia                      int64\n",
       "Minutos                  int64\n",
       "dtype: object"
      ]
     },
     "execution_count": 175,
     "metadata": {},
     "output_type": "execute_result"
    }
   ],
   "source": [
    "df_test_route_firstweek_7AM_complete4.dtypes"
   ]
  },
  {
   "cell_type": "markdown",
   "metadata": {},
   "source": [
    "Dropping irrelevant columns for modeling"
   ]
  },
  {
   "cell_type": "code",
   "execution_count": 177,
   "metadata": {},
   "outputs": [],
   "source": [
    "df_test_route_firstweek_7AM_final=df_test_route_firstweek_7AM_complete4.drop(columns=['tipo_elem','error','Fecha'])"
   ]
  },
  {
   "cell_type": "code",
   "execution_count": 179,
   "metadata": {},
   "outputs": [
    {
     "data": {
      "text/plain": [
       "id                       int64\n",
       "intensidad             float64\n",
       "ocupacion              float64\n",
       "carga                  float64\n",
       "vmed                   float64\n",
       "periodo_integracion      int64\n",
       "Hora                     int64\n",
       "Lat                    float64\n",
       "Long                   float64\n",
       "M30                      uint8\n",
       "Mes                      int64\n",
       "Dia                      int64\n",
       "Minutos                  int64\n",
       "dtype: object"
      ]
     },
     "execution_count": 179,
     "metadata": {},
     "output_type": "execute_result"
    }
   ],
   "source": [
    "df_test_route_firstweek_7AM_final.dtypes"
   ]
  },
  {
   "cell_type": "code",
   "execution_count": 180,
   "metadata": {},
   "outputs": [
    {
     "data": {
      "text/plain": [
       "<matplotlib.axes._subplots.AxesSubplot at 0x1abba19ac8>"
      ]
     },
     "execution_count": 180,
     "metadata": {},
     "output_type": "execute_result"
    },
    {
     "data": {
      "image/png": "[encoded data removed]",
      "text/plain": [
       "<Figure size 432x432 with 2 Axes>"
      ]
     },
     "metadata": {
      "needs_background": "light"
     },
     "output_type": "display_data"
    }
   ],
   "source": [
    "plt.figure(figsize=(6,6))\n",
    "sns.heatmap(df_test_route_firstweek_7AM_final.corr(),vmin=0,vmax=1,cmap=\"YlGnBu\")"
   ]
  },
  {
   "cell_type": "markdown",
   "metadata": {},
   "source": [
    "## **SAVING FINAL DATA**"
   ]
  },
  {
   "cell_type": "markdown",
   "metadata": {},
   "source": [
    "Saving complete processed traffic data"
   ]
  },
  {
   "cell_type": "code",
   "execution_count": 181,
   "metadata": {},
   "outputs": [
    {
     "name": "stdout",
     "output_type": "stream",
     "text": [
      "CPU times: user 156 ms, sys: 11.7 ms, total: 168 ms\n",
      "Wall time: 171 ms\n"
     ]
    }
   ],
   "source": [
    "%%time\n",
    "df_test_route_firstweek_7AM_final.to_csv('/Users/antoniobravomunoz/Documents/DATA_SCIENCE_MASTER/TFM/Data-Science-Master-project/DATA/traffic_data_test_complete.csv',index=False)"
   ]
  },
  {
   "cell_type": "markdown",
   "metadata": {},
   "source": [
    "For the final test dataset we see that not all detectors have the same registers. This is a real situation, so we are not going to do anything. We will predict the carga values over using these data."
   ]
  },
  {
   "cell_type": "code",
   "execution_count": 185,
   "metadata": {},
   "outputs": [
    {
     "data": {
      "text/plain": [
       "<matplotlib.axes._subplots.AxesSubplot at 0x1a5fcd9ac8>"
      ]
     },
     "execution_count": 185,
     "metadata": {},
     "output_type": "execute_result"
    },
    {
     "data": {
      "image/png": "[encoded data removed]",
      "text/plain": [
       "<Figure size 432x288 with 1 Axes>"
      ]
     },
     "metadata": {
      "needs_background": "light"
     },
     "output_type": "display_data"
    }
   ],
   "source": [
    "df_test_route_firstweek_7AM_final['id'].value_counts().plot(kind='bar')"
   ]
  },
  {
   "cell_type": "code",
   "execution_count": null,
   "metadata": {},
   "outputs": [],
   "source": []
  }
 ],
 "metadata": {
  "kernelspec": {
   "display_name": "Python 3",
   "language": "python",
   "name": "python3"
  },
  "language_info": {
   "codemirror_mode": {
    "name": "ipython",
    "version": 3
   },
   "file_extension": ".py",
   "mimetype": "text/x-python",
   "name": "python",
   "nbconvert_exporter": "python",
   "pygments_lexer": "ipython3",
   "version": "3.6.6"
  }
 },
 "nbformat": 4,
 "nbformat_minor": 2
}

{
 "cells": [
  {
   "cell_type": "markdown",
   "metadata": {},
   "source": [
    "**IMPORT PACKAGES**"
   ]
  },
  {
   "cell_type": "code",
   "execution_count": 3,
   "metadata": {},
   "outputs": [],
   "source": [
    "import pandas as pd\n",
    "import numpy as np\n",
    "import math\n",
    "from datetime import datetime\n",
    "import os\n",
    "#VISUALIZATION\n",
    "import seaborn as sns\n",
    "import matplotlib.pyplot as plt\n",
    "%matplotlib inline"
   ]
  },
  {
   "cell_type": "markdown",
   "metadata": {},
   "source": [
    "**READING RAW DATA FROM CSV FILES**"
   ]
  },
  {
   "cell_type": "code",
   "execution_count": 24,
   "metadata": {},
   "outputs": [
    {
     "name": "stdout",
     "output_type": "stream",
     "text": [
      "CPU times: user 46.6 s, sys: 27.6 s, total: 1min 14s\n",
      "Wall time: 1min 12s\n"
     ]
    }
   ],
   "source": [
    "%%time\n",
    "df_list = []\n",
    "source='/Users/antoniobravomunoz/Documents/DATA_SCIENCE_MASTER/TFM/Data/Historico/Prueba/'\n",
    "\n",
    "for file in os.listdir(source):\n",
    "    df_aux = pd.read_csv(source+file,sep=';')\n",
    "    df_list.append(df_aux)\n",
    "\n",
    "df = df.append([df for df in df_list],ignore_index=True)\n",
    "#df.to_csv('final.csv', index=False)"
   ]
  },
  {
   "cell_type": "markdown",
   "metadata": {},
   "source": [
    "**DATA PREPARATION**"
   ]
  },
  {
   "cell_type": "markdown",
   "metadata": {},
   "source": [
    "- Formating \"Fecha\" Column and splitting it on \"Date\" and \"Hora\""
   ]
  },
  {
   "cell_type": "code",
   "execution_count": 27,
   "metadata": {},
   "outputs": [
    {
     "name": "stdout",
     "output_type": "stream",
     "text": [
      "CPU times: user 1min 1s, sys: 1min 13s, total: 2min 15s\n",
      "Wall time: 2min 35s\n"
     ]
    }
   ],
   "source": [
    "%%time\n",
    "df['fecha']=pd.to_datetime(df['fecha'], format='%Y-%m-%d %H:%M:%S')\n",
    "df['Fecha']=df[\"fecha\"].dt.date\n",
    "#Creating new columns spiltting Date and Hour of the day.\n",
    "df['Hora']=df[\"fecha\"].dt.time\n",
    "df[\"Date\"]=df[\"fecha\"]\n",
    "#Drop original column fecha\n",
    "df = df.drop('fecha', 1)"
   ]
  },
  {
   "cell_type": "code",
   "execution_count": 28,
   "metadata": {},
   "outputs": [
    {
     "data": {
      "text/plain": [
       "id                              int64\n",
       "tipo_elem                      object\n",
       "intensidad                      int64\n",
       "ocupacion                       int64\n",
       "carga                           int64\n",
       "vmed                            int64\n",
       "error                          object\n",
       "periodo_integracion             int64\n",
       "Fecha                          object\n",
       "Hora                           object\n",
       "Date                   datetime64[ns]\n",
       "dtype: object"
      ]
     },
     "execution_count": 28,
     "metadata": {},
     "output_type": "execute_result"
    }
   ],
   "source": [
    "df.dtypes"
   ]
  },
  {
   "cell_type": "markdown",
   "metadata": {},
   "source": [
    "- Obtaining X e Y UTM coordinates from others files"
   ]
  },
  {
   "cell_type": "raw",
   "metadata": {},
   "source": [
    "# %%time\n",
    "dfplaces_list = []\n",
    "sourceMP='/Users/antoniobravomunoz/Documents/DATA_SCIENCE_MASTER/TFM/Data/HistoricoPuntosMedidaUbic/'\n",
    "\n",
    "for file in os.listdir(sourceMP):\n",
    "    df_aux = pd.read_csv(sourceMP+file,sep=';',encoding='ISO-8859-1',decimal=\",\")\n",
    "    dfplaces_list.append(df_aux)\n",
    "\n",
    "dfplaces = dfplaces.append([df for df in dfplaces_list])"
   ]
  },
  {
   "cell_type": "markdown",
   "metadata": {},
   "source": [
    "Finally, we only keep in mind points measuremente places on the last month registed. By this way, we filer only for the points that they are currently working. These are only the interested ones for us."
   ]
  },
  {
   "cell_type": "code",
   "execution_count": 42,
   "metadata": {},
   "outputs": [],
   "source": [
    "sourceMP='/Users/antoniobravomunoz/Documents/DATA_SCIENCE_MASTER/TFM/Data/HistoricoPuntosMedidaUbic/pmed_ubicacion_09_2018.csv'\n",
    "dfplaces=pd.read_csv(sourceMP,sep=';',encoding='ISO-8859-1',decimal=\",\")"
   ]
  },
  {
   "cell_type": "code",
   "execution_count": 43,
   "metadata": {},
   "outputs": [
    {
     "data": {
      "text/plain": [
       "tipo_elem     object\n",
       "id             int64\n",
       "cod_cent      object\n",
       "nombre        object\n",
       "x            float64\n",
       "y            float64\n",
       "dtype: object"
      ]
     },
     "execution_count": 43,
     "metadata": {},
     "output_type": "execute_result"
    }
   ],
   "source": [
    "dfplaces.dtypes"
   ]
  },
  {
   "cell_type": "markdown",
   "metadata": {},
   "source": [
    "- Transforming Coordinates from UTM to Latitude and Longitude.\n",
    "\n",
    "    Code function source: https://stackoverflow.com/questions/343865/how-to-convert-from-utm-to-latlng-in-python-or-javascript\n",
    "\n",
    "    Modifications: \n",
    "    - Madrid zone value: 30\n",
    "    - Values returned like a list of float64"
   ]
  },
  {
   "cell_type": "code",
   "execution_count": 45,
   "metadata": {},
   "outputs": [],
   "source": [
    "def utmToLatLng(easting, northing, northernHemisphere=True,zone=30):\n",
    "    #Defining default Madrid zone with the value: 30\n",
    "    if not northernHemisphere:\n",
    "        northing = 10000000 - northing\n",
    "\n",
    "    a = 6378137\n",
    "    e = 0.081819191\n",
    "    e1sq = 0.006739497\n",
    "    k0 = 0.9996\n",
    "\n",
    "    arc = northing / k0\n",
    "    mu = arc / (a * (1 - math.pow(e, 2) / 4.0 - 3 * math.pow(e, 4) / 64.0 - 5 * math.pow(e, 6) / 256.0))\n",
    "\n",
    "    ei = (1 - math.pow((1 - e * e), (1 / 2.0))) / (1 + math.pow((1 - e * e), (1 / 2.0)))\n",
    "\n",
    "    ca = 3 * ei / 2 - 27 * math.pow(ei, 3) / 32.0\n",
    "\n",
    "    cb = 21 * math.pow(ei, 2) / 16 - 55 * math.pow(ei, 4) / 32\n",
    "    cc = 151 * math.pow(ei, 3) / 96\n",
    "    cd = 1097 * math.pow(ei, 4) / 512\n",
    "    phi1 = mu + ca * math.sin(2 * mu) + cb * math.sin(4 * mu) + cc * math.sin(6 * mu) + cd * math.sin(8 * mu)\n",
    "\n",
    "    n0 = a / math.pow((1 - math.pow((e * math.sin(phi1)), 2)), (1 / 2.0))\n",
    "\n",
    "    r0 = a * (1 - e * e) / math.pow((1 - math.pow((e * math.sin(phi1)), 2)), (3 / 2.0))\n",
    "    fact1 = n0 * math.tan(phi1) / r0\n",
    "\n",
    "    _a1 = 500000 - easting\n",
    "    dd0 = _a1 / (n0 * k0)\n",
    "    fact2 = dd0 * dd0 / 2\n",
    "\n",
    "    t0 = math.pow(math.tan(phi1), 2)\n",
    "    Q0 = e1sq * math.pow(math.cos(phi1), 2)\n",
    "    fact3 = (5 + 3 * t0 + 10 * Q0 - 4 * Q0 * Q0 - 9 * e1sq) * math.pow(dd0, 4) / 24\n",
    "\n",
    "    fact4 = (61 + 90 * t0 + 298 * Q0 + 45 * t0 * t0 - 252 * e1sq - 3 * Q0 * Q0) * math.pow(dd0, 6) / 720\n",
    "\n",
    "    lof1 = _a1 / (n0 * k0)\n",
    "    lof2 = (1 + 2 * t0 + Q0) * math.pow(dd0, 3) / 6.0\n",
    "    lof3 = (5 - 2 * Q0 + 28 * t0 - 3 * math.pow(Q0, 2) + 8 * e1sq + 24 * math.pow(t0, 2)) * math.pow(dd0, 5) / 120\n",
    "    _a2 = (lof1 - lof2 + lof3) / math.cos(phi1)\n",
    "    _a3 = _a2 * 180 / math.pi\n",
    "\n",
    "    latitude = 180 * (phi1 - fact1 * (fact2 + fact3 + fact4)) / math.pi\n",
    "\n",
    "    if not northernHemisphere:\n",
    "        latitude = -latitude\n",
    "\n",
    "    longitude = ((zone > 0) and (6 * zone - 183.0) or 3.0) - _a3\n",
    "\n",
    "    return [latitude, longitude]"
   ]
  },
  {
   "cell_type": "code",
   "execution_count": 46,
   "metadata": {},
   "outputs": [
    {
     "name": "stdout",
     "output_type": "stream",
     "text": [
      "CPU times: user 146 ms, sys: 27.5 ms, total: 174 ms\n",
      "Wall time: 192 ms\n"
     ]
    }
   ],
   "source": [
    "%%time\n",
    "dfplaces['LatLong'] = dfplaces.apply(lambda x: utmToLatLng(x['x'], x['y']), axis=1)"
   ]
  },
  {
   "cell_type": "code",
   "execution_count": 47,
   "metadata": {},
   "outputs": [
    {
     "name": "stdout",
     "output_type": "stream",
     "text": [
      "CPU times: user 3.52 ms, sys: 2.33 ms, total: 5.84 ms\n",
      "Wall time: 7.4 ms\n"
     ]
    }
   ],
   "source": [
    "%%time\n",
    "dfplaces[['Lat','Long']] = pd.DataFrame(dfplaces.LatLong.values.tolist(), index= dfplaces.index)"
   ]
  },
  {
   "cell_type": "code",
   "execution_count": 48,
   "metadata": {},
   "outputs": [
    {
     "data": {
      "text/plain": [
       "(4117, 8)"
      ]
     },
     "execution_count": 48,
     "metadata": {},
     "output_type": "execute_result"
    }
   ],
   "source": [
    "dfplaces=dfplaces.drop(columns=['LatLong'])"
   ]
  },
  {
   "cell_type": "code",
   "execution_count": 50,
   "metadata": {},
   "outputs": [
    {
     "data": {
      "text/html": [
       "<div>\n",
       "<style scoped>\n",
       "    .dataframe tbody tr th:only-of-type {\n",
       "        vertical-align: middle;\n",
       "    }\n",
       "\n",
       "    .dataframe tbody tr th {\n",
       "        vertical-align: top;\n",
       "    }\n",
       "\n",
       "    .dataframe thead th {\n",
       "        text-align: right;\n",
       "    }\n",
       "</style>\n",
       "<table border=\"1\" class=\"dataframe\">\n",
       "  <thead>\n",
       "    <tr style=\"text-align: right;\">\n",
       "      <th></th>\n",
       "      <th>tipo_elem</th>\n",
       "      <th>id</th>\n",
       "      <th>cod_cent</th>\n",
       "      <th>nombre</th>\n",
       "      <th>x</th>\n",
       "      <th>y</th>\n",
       "      <th>Lat</th>\n",
       "      <th>Long</th>\n",
       "    </tr>\n",
       "  </thead>\n",
       "  <tbody>\n",
       "    <tr>\n",
       "      <th>0</th>\n",
       "      <td>URB</td>\n",
       "      <td>3840</td>\n",
       "      <td>01001</td>\n",
       "      <td>Jose Ortega y Gasset E-O - Pº Castellana-Serrano</td>\n",
       "      <td>441615.343347</td>\n",
       "      <td>4.475768e+06</td>\n",
       "      <td>40.430502</td>\n",
       "      <td>-3.688323</td>\n",
       "    </tr>\n",
       "    <tr>\n",
       "      <th>1</th>\n",
       "      <td>URB</td>\n",
       "      <td>3841</td>\n",
       "      <td>01002</td>\n",
       "      <td>Jose Ortega y Gasset O-E - Serrano-Pº Castellana</td>\n",
       "      <td>441705.882340</td>\n",
       "      <td>4.475770e+06</td>\n",
       "      <td>40.430524</td>\n",
       "      <td>-3.687256</td>\n",
       "    </tr>\n",
       "    <tr>\n",
       "      <th>2</th>\n",
       "      <td>URB</td>\n",
       "      <td>3842</td>\n",
       "      <td>01003</td>\n",
       "      <td>Pº Recoletos N-S - Almirante-Prim</td>\n",
       "      <td>441319.371258</td>\n",
       "      <td>4.474841e+06</td>\n",
       "      <td>40.422132</td>\n",
       "      <td>-3.691727</td>\n",
       "    </tr>\n",
       "    <tr>\n",
       "      <th>3</th>\n",
       "      <td>URB</td>\n",
       "      <td>3843</td>\n",
       "      <td>01004</td>\n",
       "      <td>Pº Recoletos S-N - Pl, Cibeles- Recoletos</td>\n",
       "      <td>441301.632986</td>\n",
       "      <td>4.474764e+06</td>\n",
       "      <td>40.421433</td>\n",
       "      <td>-3.691929</td>\n",
       "    </tr>\n",
       "    <tr>\n",
       "      <th>4</th>\n",
       "      <td>URB</td>\n",
       "      <td>3844</td>\n",
       "      <td>01005</td>\n",
       "      <td>(AFOROS) Pº Castellana S-N  - Eduardo Dato - P...</td>\n",
       "      <td>441605.765072</td>\n",
       "      <td>4.476132e+06</td>\n",
       "      <td>40.433782</td>\n",
       "      <td>-3.688470</td>\n",
       "    </tr>\n",
       "  </tbody>\n",
       "</table>\n",
       "</div>"
      ],
      "text/plain": [
       "  tipo_elem    id cod_cent                                             nombre  \\\n",
       "0       URB  3840    01001   Jose Ortega y Gasset E-O - Pº Castellana-Serrano   \n",
       "1       URB  3841    01002   Jose Ortega y Gasset O-E - Serrano-Pº Castellana   \n",
       "2       URB  3842    01003                  Pº Recoletos N-S - Almirante-Prim   \n",
       "3       URB  3843    01004          Pº Recoletos S-N - Pl, Cibeles- Recoletos   \n",
       "4       URB  3844    01005  (AFOROS) Pº Castellana S-N  - Eduardo Dato - P...   \n",
       "\n",
       "               x             y        Lat      Long  \n",
       "0  441615.343347  4.475768e+06  40.430502 -3.688323  \n",
       "1  441705.882340  4.475770e+06  40.430524 -3.687256  \n",
       "2  441319.371258  4.474841e+06  40.422132 -3.691727  \n",
       "3  441301.632986  4.474764e+06  40.421433 -3.691929  \n",
       "4  441605.765072  4.476132e+06  40.433782 -3.688470  "
      ]
     },
     "execution_count": 50,
     "metadata": {},
     "output_type": "execute_result"
    }
   ],
   "source": [
    "dfplaces.head()"
   ]
  },
  {
   "cell_type": "code",
   "execution_count": 51,
   "metadata": {},
   "outputs": [
    {
     "name": "stdout",
     "output_type": "stream",
     "text": [
      "CPU times: user 13.8 s, sys: 19.5 s, total: 33.3 s\n",
      "Wall time: 37.7 s\n"
     ]
    }
   ],
   "source": [
    "%%time\n",
    "df_complete=df.join(dfplaces.set_index('id')[['Lat','Long']],on='id',how='left',rsuffix='_other')"
   ]
  },
  {
   "cell_type": "code",
   "execution_count": 53,
   "metadata": {},
   "outputs": [
    {
     "data": {
      "text/plain": [
       "id                              int64\n",
       "tipo_elem                      object\n",
       "intensidad                      int64\n",
       "ocupacion                       int64\n",
       "carga                           int64\n",
       "vmed                            int64\n",
       "error                          object\n",
       "periodo_integracion             int64\n",
       "Fecha                          object\n",
       "Hora                           object\n",
       "Date                   datetime64[ns]\n",
       "Lat                           float64\n",
       "Long                          float64\n",
       "dtype: object"
      ]
     },
     "execution_count": 53,
     "metadata": {},
     "output_type": "execute_result"
    }
   ],
   "source": [
    "df_complete.dtypes"
   ]
  },
  {
   "cell_type": "markdown",
   "metadata": {},
   "source": [
    "- Identifying columns with missing values"
   ]
  },
  {
   "cell_type": "code",
   "execution_count": 54,
   "metadata": {},
   "outputs": [
    {
     "data": {
      "text/plain": [
       "id                     False\n",
       "tipo_elem              False\n",
       "intensidad             False\n",
       "ocupacion              False\n",
       "carga                  False\n",
       "vmed                   False\n",
       "error                  False\n",
       "periodo_integracion    False\n",
       "Fecha                  False\n",
       "Hora                   False\n",
       "Date                   False\n",
       "Lat                     True\n",
       "Long                    True\n",
       "dtype: bool"
      ]
     },
     "execution_count": 54,
     "metadata": {},
     "output_type": "execute_result"
    }
   ],
   "source": [
    "df_complete.isnull().any()"
   ]
  },
  {
   "cell_type": "code",
   "execution_count": 55,
   "metadata": {},
   "outputs": [
    {
     "data": {
      "text/plain": [
       "(169460, 13)"
      ]
     },
     "execution_count": 55,
     "metadata": {},
     "output_type": "execute_result"
    }
   ],
   "source": [
    "nan_rows = df_complete[df_complete['Lat'].isnull()]\n",
    "nan_rows.shape"
   ]
  },
  {
   "cell_type": "code",
   "execution_count": 56,
   "metadata": {},
   "outputs": [
    {
     "data": {
      "text/plain": [
       "(57607004, 13)"
      ]
     },
     "execution_count": 56,
     "metadata": {},
     "output_type": "execute_result"
    }
   ],
   "source": [
    "df_complete.shape"
   ]
  },
  {
   "cell_type": "markdown",
   "metadata": {},
   "source": [
    "169.460 Missing Values of 57.607.004 Total Values. In this first approach, we will drop them."
   ]
  },
  {
   "cell_type": "code",
   "execution_count": null,
   "metadata": {},
   "outputs": [],
   "source": []
  }
 ],
 "metadata": {
  "kernelspec": {
   "display_name": "Python 3",
   "language": "python",
   "name": "python3"
  },
  "language_info": {
   "codemirror_mode": {
    "name": "ipython",
    "version": 3
   },
   "file_extension": ".py",
   "mimetype": "text/x-python",
   "name": "python",
   "nbconvert_exporter": "python",
   "pygments_lexer": "ipython3",
   "version": "3.6.6"
  }
 },
 "nbformat": 4,
 "nbformat_minor": 2
}

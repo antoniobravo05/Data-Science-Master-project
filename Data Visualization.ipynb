{
 "cells": [
  {
   "cell_type": "markdown",
   "metadata": {},
   "source": [
    "## **IMPORT PACKAGES**"
   ]
  },
  {
   "cell_type": "code",
   "execution_count": 1,
   "metadata": {},
   "outputs": [],
   "source": [
    "import pandas as pd\n",
    "import altair as alt\n",
    "import numpy as np\n",
    "import seaborn as sns\n",
    "import matplotlib.pyplot as plt\n",
    "%matplotlib inline"
   ]
  },
  {
   "cell_type": "markdown",
   "metadata": {},
   "source": [
    "## **READ FILES**"
   ]
  },
  {
   "cell_type": "code",
   "execution_count": 2,
   "metadata": {},
   "outputs": [
    {
     "name": "stdout",
     "output_type": "stream",
     "text": [
      "CPU times: user 39.7 s, sys: 6.56 s, total: 46.3 s\n",
      "Wall time: 46.7 s\n"
     ]
    }
   ],
   "source": [
    "%%time\n",
    "source = '/Users/antoniobravomunoz/Documents/DATA_SCIENCE_MASTER/TFM/Data-Science-Master-project/DATA/traffic_data_complete_visualizations.csv'\n",
    "df = pd.read_csv(source,sep=',')"
   ]
  },
  {
   "cell_type": "markdown",
   "metadata": {},
   "source": [
    "## **HANDLE DATA TO VISUALIZE**"
   ]
  },
  {
   "cell_type": "code",
   "execution_count": 3,
   "metadata": {},
   "outputs": [],
   "source": [
    "df['Date']=pd.to_datetime(df['Date'], format='%Y-%m-%d %H:%M:%S')"
   ]
  },
  {
   "cell_type": "code",
   "execution_count": 4,
   "metadata": {},
   "outputs": [
    {
     "data": {
      "text/plain": [
       "id                              int64\n",
       "tipo_elem                      object\n",
       "intensidad                      int64\n",
       "ocupacion                       int64\n",
       "carga                           int64\n",
       "vmed                            int64\n",
       "error                          object\n",
       "periodo_integracion             int64\n",
       "Fecha                          object\n",
       "Hora                           object\n",
       "Date                   datetime64[ns]\n",
       "Lat                           float64\n",
       "Long                          float64\n",
       "intensidad_zscore             float64\n",
       "ocupacion_zscore              float64\n",
       "carga_zscore                  float64\n",
       "vmed_zscore                   float64\n",
       "M30                             int64\n",
       "URB                             int64\n",
       "N                               int64\n",
       "dtype: object"
      ]
     },
     "execution_count": 4,
     "metadata": {},
     "output_type": "execute_result"
    }
   ],
   "source": [
    "df.dtypes"
   ]
  },
  {
   "cell_type": "code",
   "execution_count": 5,
   "metadata": {},
   "outputs": [
    {
     "data": {
      "text/plain": [
       "(10090919, 20)"
      ]
     },
     "execution_count": 5,
     "metadata": {},
     "output_type": "execute_result"
    }
   ],
   "source": [
    "df.shape"
   ]
  },
  {
   "cell_type": "markdown",
   "metadata": {},
   "source": [
    "In order to group data by hour of the day, making applying the mean on numeric features, we are going to create a new column which allows us to do this."
   ]
  },
  {
   "cell_type": "code",
   "execution_count": 6,
   "metadata": {},
   "outputs": [
    {
     "name": "stdout",
     "output_type": "stream",
     "text": [
      "CPU times: user 31.4 s, sys: 4.29 s, total: 35.7 s\n",
      "Wall time: 36.2 s\n"
     ]
    }
   ],
   "source": [
    "%%time\n",
    "df['id_date_hour']=df['id'].astype(str)+'_'+df['Date'].dt.day.astype(str)+'-'+df['Date'].dt.month.astype(str)+'_'+df['Date'].dt.hour.astype(str)"
   ]
  },
  {
   "cell_type": "code",
   "execution_count": 7,
   "metadata": {},
   "outputs": [
    {
     "data": {
      "text/html": [
       "<div>\n",
       "<style scoped>\n",
       "    .dataframe tbody tr th:only-of-type {\n",
       "        vertical-align: middle;\n",
       "    }\n",
       "\n",
       "    .dataframe tbody tr th {\n",
       "        vertical-align: top;\n",
       "    }\n",
       "\n",
       "    .dataframe thead th {\n",
       "        text-align: right;\n",
       "    }\n",
       "</style>\n",
       "<table border=\"1\" class=\"dataframe\">\n",
       "  <thead>\n",
       "    <tr style=\"text-align: right;\">\n",
       "      <th></th>\n",
       "      <th>id</th>\n",
       "      <th>tipo_elem</th>\n",
       "      <th>intensidad</th>\n",
       "      <th>ocupacion</th>\n",
       "      <th>carga</th>\n",
       "      <th>vmed</th>\n",
       "      <th>error</th>\n",
       "      <th>periodo_integracion</th>\n",
       "      <th>Fecha</th>\n",
       "      <th>Hora</th>\n",
       "      <th>...</th>\n",
       "      <th>Lat</th>\n",
       "      <th>Long</th>\n",
       "      <th>intensidad_zscore</th>\n",
       "      <th>ocupacion_zscore</th>\n",
       "      <th>carga_zscore</th>\n",
       "      <th>vmed_zscore</th>\n",
       "      <th>M30</th>\n",
       "      <th>URB</th>\n",
       "      <th>N</th>\n",
       "      <th>id_date_hour</th>\n",
       "    </tr>\n",
       "  </thead>\n",
       "  <tbody>\n",
       "    <tr>\n",
       "      <th>7511744</th>\n",
       "      <td>6783</td>\n",
       "      <td>M30</td>\n",
       "      <td>1260</td>\n",
       "      <td>8</td>\n",
       "      <td>41</td>\n",
       "      <td>86</td>\n",
       "      <td>N</td>\n",
       "      <td>15</td>\n",
       "      <td>2018-04-01</td>\n",
       "      <td>12:00:00</td>\n",
       "      <td>...</td>\n",
       "      <td>40.497498</td>\n",
       "      <td>-3.7004</td>\n",
       "      <td>0.05316</td>\n",
       "      <td>0.406656</td>\n",
       "      <td>0.655491</td>\n",
       "      <td>0.982299</td>\n",
       "      <td>1</td>\n",
       "      <td>0</td>\n",
       "      <td>1</td>\n",
       "      <td>6783_1-4_12</td>\n",
       "    </tr>\n",
       "  </tbody>\n",
       "</table>\n",
       "<p>1 rows × 21 columns</p>\n",
       "</div>"
      ],
      "text/plain": [
       "           id tipo_elem  intensidad  ocupacion  carga  vmed error  \\\n",
       "7511744  6783       M30        1260          8     41    86     N   \n",
       "\n",
       "         periodo_integracion       Fecha      Hora      ...             Lat  \\\n",
       "7511744                   15  2018-04-01  12:00:00      ...       40.497498   \n",
       "\n",
       "           Long  intensidad_zscore  ocupacion_zscore  carga_zscore  \\\n",
       "7511744 -3.7004            0.05316          0.406656      0.655491   \n",
       "\n",
       "         vmed_zscore  M30  URB  N  id_date_hour  \n",
       "7511744     0.982299    1    0  1   6783_1-4_12  \n",
       "\n",
       "[1 rows x 21 columns]"
      ]
     },
     "execution_count": 7,
     "metadata": {},
     "output_type": "execute_result"
    }
   ],
   "source": [
    "df.sample()"
   ]
  },
  {
   "cell_type": "markdown",
   "metadata": {},
   "source": [
    "Aggregation by mean:"
   ]
  },
  {
   "cell_type": "code",
   "execution_count": 8,
   "metadata": {},
   "outputs": [
    {
     "name": "stdout",
     "output_type": "stream",
     "text": [
      "CPU times: user 16.8 s, sys: 6.62 s, total: 23.5 s\n",
      "Wall time: 24.2 s\n"
     ]
    }
   ],
   "source": [
    "%%time\n",
    "df2=df.groupby(df['id_date_hour']).mean().reset_index()"
   ]
  },
  {
   "cell_type": "code",
   "execution_count": 9,
   "metadata": {},
   "outputs": [
    {
     "data": {
      "text/plain": [
       "(2911750, 16)"
      ]
     },
     "execution_count": 9,
     "metadata": {},
     "output_type": "execute_result"
    }
   ],
   "source": [
    "df2.shape"
   ]
  },
  {
   "cell_type": "markdown",
   "metadata": {},
   "source": [
    "The amount of data is reduced. We have about 28% of the original data."
   ]
  },
  {
   "cell_type": "code",
   "execution_count": 10,
   "metadata": {},
   "outputs": [
    {
     "data": {
      "text/plain": [
       "28.85515184494098"
      ]
     },
     "execution_count": 10,
     "metadata": {},
     "output_type": "execute_result"
    }
   ],
   "source": [
    "(df2.shape[0]/df.shape[0])*100"
   ]
  },
  {
   "cell_type": "code",
   "execution_count": 11,
   "metadata": {},
   "outputs": [
    {
     "data": {
      "text/html": [
       "<div>\n",
       "<style scoped>\n",
       "    .dataframe tbody tr th:only-of-type {\n",
       "        vertical-align: middle;\n",
       "    }\n",
       "\n",
       "    .dataframe tbody tr th {\n",
       "        vertical-align: top;\n",
       "    }\n",
       "\n",
       "    .dataframe thead th {\n",
       "        text-align: right;\n",
       "    }\n",
       "</style>\n",
       "<table border=\"1\" class=\"dataframe\">\n",
       "  <thead>\n",
       "    <tr style=\"text-align: right;\">\n",
       "      <th></th>\n",
       "      <th>id_date_hour</th>\n",
       "      <th>id</th>\n",
       "      <th>intensidad</th>\n",
       "      <th>ocupacion</th>\n",
       "      <th>carga</th>\n",
       "      <th>vmed</th>\n",
       "      <th>periodo_integracion</th>\n",
       "      <th>Lat</th>\n",
       "      <th>Long</th>\n",
       "      <th>intensidad_zscore</th>\n",
       "      <th>ocupacion_zscore</th>\n",
       "      <th>carga_zscore</th>\n",
       "      <th>vmed_zscore</th>\n",
       "      <th>M30</th>\n",
       "      <th>URB</th>\n",
       "      <th>N</th>\n",
       "    </tr>\n",
       "  </thead>\n",
       "  <tbody>\n",
       "    <tr>\n",
       "      <th>0</th>\n",
       "      <td>10000_1-1_14</td>\n",
       "      <td>10000.0</td>\n",
       "      <td>0.0</td>\n",
       "      <td>0.0</td>\n",
       "      <td>0.0</td>\n",
       "      <td>0.0</td>\n",
       "      <td>3.0</td>\n",
       "      <td>40.428967</td>\n",
       "      <td>-3.729464</td>\n",
       "      <td>-0.892181</td>\n",
       "      <td>-0.731411</td>\n",
       "      <td>-0.829367</td>\n",
       "      <td>-2.089625</td>\n",
       "      <td>0.0</td>\n",
       "      <td>1.0</td>\n",
       "      <td>1.0</td>\n",
       "    </tr>\n",
       "    <tr>\n",
       "      <th>1</th>\n",
       "      <td>10000_1-1_22</td>\n",
       "      <td>10000.0</td>\n",
       "      <td>0.0</td>\n",
       "      <td>0.0</td>\n",
       "      <td>0.0</td>\n",
       "      <td>0.0</td>\n",
       "      <td>1.0</td>\n",
       "      <td>40.428967</td>\n",
       "      <td>-3.729464</td>\n",
       "      <td>-0.892181</td>\n",
       "      <td>-0.731411</td>\n",
       "      <td>-0.829367</td>\n",
       "      <td>-2.089625</td>\n",
       "      <td>0.0</td>\n",
       "      <td>1.0</td>\n",
       "      <td>1.0</td>\n",
       "    </tr>\n",
       "    <tr>\n",
       "      <th>2</th>\n",
       "      <td>10000_1-1_7</td>\n",
       "      <td>10000.0</td>\n",
       "      <td>0.0</td>\n",
       "      <td>0.0</td>\n",
       "      <td>0.0</td>\n",
       "      <td>0.0</td>\n",
       "      <td>1.0</td>\n",
       "      <td>40.428967</td>\n",
       "      <td>-3.729464</td>\n",
       "      <td>-0.892181</td>\n",
       "      <td>-0.731411</td>\n",
       "      <td>-0.829367</td>\n",
       "      <td>-2.089625</td>\n",
       "      <td>0.0</td>\n",
       "      <td>1.0</td>\n",
       "      <td>1.0</td>\n",
       "    </tr>\n",
       "    <tr>\n",
       "      <th>3</th>\n",
       "      <td>10000_1-1_9</td>\n",
       "      <td>10000.0</td>\n",
       "      <td>0.0</td>\n",
       "      <td>0.0</td>\n",
       "      <td>0.0</td>\n",
       "      <td>0.0</td>\n",
       "      <td>3.0</td>\n",
       "      <td>40.428967</td>\n",
       "      <td>-3.729464</td>\n",
       "      <td>-0.892181</td>\n",
       "      <td>-0.731411</td>\n",
       "      <td>-0.829367</td>\n",
       "      <td>-2.089625</td>\n",
       "      <td>0.0</td>\n",
       "      <td>1.0</td>\n",
       "      <td>1.0</td>\n",
       "    </tr>\n",
       "    <tr>\n",
       "      <th>4</th>\n",
       "      <td>10000_1-2_12</td>\n",
       "      <td>10000.0</td>\n",
       "      <td>0.0</td>\n",
       "      <td>0.0</td>\n",
       "      <td>0.0</td>\n",
       "      <td>0.0</td>\n",
       "      <td>2.0</td>\n",
       "      <td>40.428967</td>\n",
       "      <td>-3.729464</td>\n",
       "      <td>-0.892181</td>\n",
       "      <td>-0.731411</td>\n",
       "      <td>-0.829367</td>\n",
       "      <td>-2.089625</td>\n",
       "      <td>0.0</td>\n",
       "      <td>1.0</td>\n",
       "      <td>1.0</td>\n",
       "    </tr>\n",
       "  </tbody>\n",
       "</table>\n",
       "</div>"
      ],
      "text/plain": [
       "   id_date_hour       id  intensidad  ocupacion  carga  vmed  \\\n",
       "0  10000_1-1_14  10000.0         0.0        0.0    0.0   0.0   \n",
       "1  10000_1-1_22  10000.0         0.0        0.0    0.0   0.0   \n",
       "2   10000_1-1_7  10000.0         0.0        0.0    0.0   0.0   \n",
       "3   10000_1-1_9  10000.0         0.0        0.0    0.0   0.0   \n",
       "4  10000_1-2_12  10000.0         0.0        0.0    0.0   0.0   \n",
       "\n",
       "   periodo_integracion        Lat      Long  intensidad_zscore  \\\n",
       "0                  3.0  40.428967 -3.729464          -0.892181   \n",
       "1                  1.0  40.428967 -3.729464          -0.892181   \n",
       "2                  1.0  40.428967 -3.729464          -0.892181   \n",
       "3                  3.0  40.428967 -3.729464          -0.892181   \n",
       "4                  2.0  40.428967 -3.729464          -0.892181   \n",
       "\n",
       "   ocupacion_zscore  carga_zscore  vmed_zscore  M30  URB    N  \n",
       "0         -0.731411     -0.829367    -2.089625  0.0  1.0  1.0  \n",
       "1         -0.731411     -0.829367    -2.089625  0.0  1.0  1.0  \n",
       "2         -0.731411     -0.829367    -2.089625  0.0  1.0  1.0  \n",
       "3         -0.731411     -0.829367    -2.089625  0.0  1.0  1.0  \n",
       "4         -0.731411     -0.829367    -2.089625  0.0  1.0  1.0  "
      ]
     },
     "execution_count": 11,
     "metadata": {},
     "output_type": "execute_result"
    }
   ],
   "source": [
    "df2.head()"
   ]
  },
  {
   "cell_type": "markdown",
   "metadata": {},
   "source": [
    "Creating the Date with format='%Y-%m-%d %H'and type datetime64[ns] after the aggregation in order to represent correctly."
   ]
  },
  {
   "cell_type": "code",
   "execution_count": 12,
   "metadata": {},
   "outputs": [],
   "source": [
    "df2['ID_Agrup'], df2['Date_Agrup'] = df2['id_date_hour'].str.split('_', 1).str\n",
    "df2['Date_Agrup_D'], df2['Date_Agrup_H'] = df2['Date_Agrup'].str.split('_', 1).str"
   ]
  },
  {
   "cell_type": "code",
   "execution_count": 13,
   "metadata": {},
   "outputs": [],
   "source": [
    "df2['Date_Agrup_Date'] = pd.to_datetime(df2['Date_Agrup_D']+'-2018'+' '+df2['Date_Agrup_H'],\n",
    "                                        format='%d-%m-%Y %H')"
   ]
  },
  {
   "cell_type": "code",
   "execution_count": 14,
   "metadata": {},
   "outputs": [
    {
     "data": {
      "text/plain": [
       "id_date_hour                   object\n",
       "id                            float64\n",
       "intensidad                    float64\n",
       "ocupacion                     float64\n",
       "carga                         float64\n",
       "vmed                          float64\n",
       "periodo_integracion           float64\n",
       "Lat                           float64\n",
       "Long                          float64\n",
       "intensidad_zscore             float64\n",
       "ocupacion_zscore              float64\n",
       "carga_zscore                  float64\n",
       "vmed_zscore                   float64\n",
       "M30                           float64\n",
       "URB                           float64\n",
       "N                             float64\n",
       "ID_Agrup                       object\n",
       "Date_Agrup                     object\n",
       "Date_Agrup_D                   object\n",
       "Date_Agrup_H                   object\n",
       "Date_Agrup_Date        datetime64[ns]\n",
       "dtype: object"
      ]
     },
     "execution_count": 14,
     "metadata": {},
     "output_type": "execute_result"
    }
   ],
   "source": [
    "df2.dtypes"
   ]
  },
  {
   "cell_type": "markdown",
   "metadata": {},
   "source": [
    "Dropping unusable columns and define filter by the Measurement points that involves in\n",
    "our route from the South of Madrid, to the North, we can see their location in the file:\n",
    "\n",
    "\n",
    "*Figures and visualizations/Final_MeasurementPoints_routeinvolved_location.html*."
   ]
  },
  {
   "cell_type": "markdown",
   "metadata": {},
   "source": [
    "Selecting measurement point IDs involved and filter dataframe."
   ]
  },
  {
   "cell_type": "code",
   "execution_count": 15,
   "metadata": {},
   "outputs": [],
   "source": [
    "route_ids=['6762','6759','6753','6680','6679','6753','6751','6746','6743','6737',\n",
    "'6736','6732','6729','6727','6725','6724','6720','6717','6715','6714','6713']"
   ]
  },
  {
   "cell_type": "code",
   "execution_count": 16,
   "metadata": {},
   "outputs": [],
   "source": [
    "df_route=df2.loc[df2['id'].isin(route_ids)]"
   ]
  },
  {
   "cell_type": "code",
   "execution_count": 17,
   "metadata": {},
   "outputs": [],
   "source": [
    "df_route=df_route.drop(columns=['id_date_hour','intensidad_zscore','ocupacion_zscore',\n",
    "                                'carga_zscore','vmed_zscore','ID_Agrup','Date_Agrup',\n",
    "                                'Date_Agrup_D','Date_Agrup_H','M30','URB','N',\n",
    "                                'periodo_integracion'])"
   ]
  },
  {
   "cell_type": "code",
   "execution_count": 18,
   "metadata": {},
   "outputs": [
    {
     "data": {
      "text/plain": [
       "(107371, 8)"
      ]
     },
     "execution_count": 18,
     "metadata": {},
     "output_type": "execute_result"
    }
   ],
   "source": [
    "df_route.shape"
   ]
  },
  {
   "cell_type": "markdown",
   "metadata": {},
   "source": [
    "## **VISUALIZATIONS**"
   ]
  },
  {
   "cell_type": "code",
   "execution_count": null,
   "metadata": {},
   "outputs": [],
   "source": [
    "#poner visualizaciones del test.ipynb"
   ]
  },
  {
   "cell_type": "raw",
   "metadata": {},
   "source": [
    "#ANALISIS POR HORAS EN UN DÍA PARA ESTE SENSOR\n",
    "from datetime import datetime\n",
    "df_route.loc[df_route['Fecha'] == datetime(2018, 5, 10).date()].plot(x='Hora',y=['ocupacion','vmed'],figsize=(25,10),grid=True)"
   ]
  },
  {
   "cell_type": "raw",
   "metadata": {},
   "source": [
    "#EN ESTE CASO SE OBSERVA LA VARIACIÓN DE LA INTENSIDAD DE TRÁFICO CON EL TIEMPO DURANTE TODO EL MES\n",
    "data0518.loc[data0518['id'] == 6806].plot(x='Date',y=['carga','intensidad','ocupacion'],figsize=(25,10),grid=True)"
   ]
  },
  {
   "cell_type": "code",
   "execution_count": null,
   "metadata": {},
   "outputs": [],
   "source": []
  },
  {
   "cell_type": "markdown",
   "metadata": {},
   "source": [
    "## **INTERACTIVE VISUALIZATIONS**"
   ]
  },
  {
   "cell_type": "code",
   "execution_count": 33,
   "metadata": {},
   "outputs": [
    {
     "data": {
      "text/plain": [
       "RendererRegistry.enable('notebook')"
      ]
     },
     "execution_count": 33,
     "metadata": {},
     "output_type": "execute_result"
    }
   ],
   "source": [
    "alt.renderers.enable('notebook')"
   ]
  },
  {
   "cell_type": "code",
   "execution_count": 34,
   "metadata": {
    "scrolled": true
   },
   "outputs": [
    {
     "data": {
      "text/plain": [
       "DataTransformerRegistry.enable('custom')"
      ]
     },
     "execution_count": 34,
     "metadata": {},
     "output_type": "execute_result"
    }
   ],
   "source": [
    "## Overide the limit\n",
    "from altair import pipe, limit_rows, to_values\n",
    "t = lambda data: pipe(data, limit_rows(max_rows=1000000), to_values)\n",
    "alt.data_transformers.register('custom', t)\n",
    "alt.data_transformers.enable('custom')"
   ]
  },
  {
   "cell_type": "markdown",
   "metadata": {},
   "source": [
    "Scaling parameter for a correct HTML representation"
   ]
  },
  {
   "cell_type": "code",
   "execution_count": 77,
   "metadata": {},
   "outputs": [],
   "source": [
    "scl=0.55"
   ]
  },
  {
   "cell_type": "code",
   "execution_count": 84,
   "metadata": {},
   "outputs": [],
   "source": [
    "###### Graphic 1 ###### \n",
    "#Carga for each sensor selecting in the second graph a temporal window in\n",
    "#which the data are zoomed\n",
    "selection1=alt.selection_multi(fields=['id'])\n",
    "select_date=alt.selection_interval(encodings=['x'])\n",
    "color1=alt.condition(selection1,\n",
    "                    alt.Color('id:N', legend=None),\n",
    "                    alt.value('lightgray'))\n",
    "\n",
    "#Carga Line visualizations\n",
    "carga_lineLittle=alt.Chart(df_route).mark_line(interpolate='basis').encode(\n",
    "    x='Date_Agrup_Date:T',\n",
    "    y='carga:Q',\n",
    "    color=color1,\n",
    "    opacity=alt.value(0.5)\n",
    ").properties(\n",
    "    title='1. CARGA FOR SELECTED SENSOR',\n",
    "    height=80*scl,\n",
    "    width=800*scl\n",
    ").add_selection(\n",
    "    select_date\n",
    ").transform_filter(\n",
    "    selection1\n",
    ")\n",
    "\n",
    "carga_line=alt.Chart(df_route).mark_line(interpolate='basis').encode(\n",
    "    x='Date_Agrup_Date:T',\n",
    "    y='carga:Q',\n",
    "    color=color1,\n",
    "    opacity=alt.value(0.5)\n",
    ").properties(\n",
    "    title='1.1 TIME SCALE DETAILS',\n",
    "    height=240*scl,\n",
    "    width=800*scl\n",
    ").transform_filter(\n",
    "    select_date.ref()\n",
    ").transform_filter(\n",
    "    selection1\n",
    ")\n",
    "\n",
    "###### Graphic 2 ###### \n",
    "#Carga bar histogram\n",
    "carga_histogram=alt.Chart(df_route).mark_bar().encode(\n",
    "    x=alt.X(\"carga\",bin=alt.Bin(maxbins=100)),\n",
    "    y='count()',\n",
    "    color=color1,\n",
    ").properties(\n",
    "    title='2. CARGA HISTOGRAM FOR EACH SENSOR',\n",
    "    height=390*scl,\n",
    "    width=800*scl\n",
    ").transform_filter(\n",
    "    selection1\n",
    ")\n",
    "\n",
    "legend_points = alt.Chart(df_route).mark_point().encode(\n",
    "    y=alt.Y('id:N'),\n",
    "    color=color1\n",
    ").properties(\n",
    "    #title='Sensor',\n",
    "    #height=600*scl,\n",
    "    #width=20*scl\n",
    ").add_selection(\n",
    "    selection1\n",
    ")"
   ]
  },
  {
   "cell_type": "code",
   "execution_count": 85,
   "metadata": {},
   "outputs": [],
   "source": [
    "###### Graphic 3 ###### \n",
    "df_route3=df_route\n",
    "#Id chart\n",
    "id_char=alt.Chart(df_route3).mark_rect().encode(\n",
    "    alt.Y('id:N'),\n",
    "    alt.X('Date_Agrup_Date:O',timeUnit='month'),\n",
    "    alt.Color('carga:Q', aggregate='mean'),\n",
    "    tooltip=[alt.Tooltip('Date_Agrup_Date:T', timeUnit='monthdate', title='Date'),\n",
    "             alt.Tooltip('carga:Q', aggregate='mean', title='mean Carga')]\n",
    ").properties(\n",
    "    title='3. MEAN OF CARGA FOR EACH SENSOR BY MONTH',\n",
    "    height=455*scl,\n",
    "    width=800*scl\n",
    ")"
   ]
  },
  {
   "cell_type": "code",
   "execution_count": 147,
   "metadata": {
    "scrolled": false
   },
   "outputs": [],
   "source": [
    "###### Graphic 4 ###### \n",
    "#Comparision between vmed and ocupacion\n",
    "df_route4=df_route\n",
    "\n",
    "# Basic lines composition\n",
    "line1 = alt.Chart().encode(\n",
    "    x='Date_Agrup_Date:T',\n",
    "    y='mean(vmed):Q',\n",
    "    opacity=alt.value(0.8)\n",
    ")\n",
    "\n",
    "line2 = alt.Chart().encode(\n",
    "    x='Date_Agrup_Date:T',\n",
    "    y='mean(ocupacion):Q',\n",
    "    opacity=alt.value(0.8),\n",
    ")\n",
    "\n",
    "#Scale\n",
    "select_date=alt.selection_interval(encodings=['x'])\n",
    "\n",
    "# Put the five layers into a chart and bind the data\n",
    "comparation_graphic=alt.layer(\n",
    "                    line1.mark_line(color='red',interpolate='basis').add_selection(select_date), \n",
    "                    line2.mark_line(color='blue',interpolate='basis'),\n",
    "                    data=df_route4, width=860*scl, height=390*scl,\n",
    "                    title='4. COMPARISON BETWEEN VMED (RED) AND OCUPACION (BLUE)')"
   ]
  },
  {
   "cell_type": "code",
   "execution_count": 148,
   "metadata": {},
   "outputs": [],
   "source": [
    "part_iz=(carga_lineLittle & carga_line & carga_histogram) | legend_points\n",
    "part_der=id_char & comparation_graphic"
   ]
  },
  {
   "cell_type": "code",
   "execution_count": 150,
   "metadata": {},
   "outputs": [],
   "source": [
    "Dashboard=alt.hconcat(part_iz,part_der)"
   ]
  },
  {
   "cell_type": "code",
   "execution_count": 151,
   "metadata": {},
   "outputs": [
    {
     "name": "stdout",
     "output_type": "stream",
     "text": [
      "CPU times: user 31.3 s, sys: 1.33 s, total: 32.6 s\n",
      "Wall time: 32.9 s\n"
     ]
    }
   ],
   "source": [
    "%%time\n",
    "Dashboard.save('Figures and visualizations/Interactive_Dashboard.html')"
   ]
  }
 ],
 "metadata": {
  "kernelspec": {
   "display_name": "Python 3",
   "language": "python",
   "name": "python3"
  },
  "language_info": {
   "codemirror_mode": {
    "name": "ipython",
    "version": 3
   },
   "file_extension": ".py",
   "mimetype": "text/x-python",
   "name": "python",
   "nbconvert_exporter": "python",
   "pygments_lexer": "ipython3",
   "version": "3.6.6"
  }
 },
 "nbformat": 4,
 "nbformat_minor": 2
}

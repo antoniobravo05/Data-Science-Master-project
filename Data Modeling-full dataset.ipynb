{
 "cells": [
  {
   "cell_type": "markdown",
   "metadata": {},
   "source": [
    "## **IMPORT PACKAGES**"
   ]
  },
  {
   "cell_type": "markdown",
   "metadata": {},
   "source": [
    "To install xgboost package: *!conda install -c conda-forge xgboost*"
   ]
  },
  {
   "cell_type": "code",
   "execution_count": 69,
   "metadata": {},
   "outputs": [],
   "source": [
    "import pandas as pd\n",
    "import numpy as np\n",
    "from sklearn.model_selection import train_test_split\n",
    "from sklearn.metrics import accuracy_score\n",
    "from sklearn.model_selection import cross_val_score\n",
    "from sklearn.model_selection import GridSearchCV\n",
    "from sklearn.neighbors import KNeighborsRegressor\n",
    "from sklearn.tree import DecisionTreeRegressor\n",
    "from sklearn.ensemble import RandomForestRegressor\n",
    "from sklearn.ensemble import GradientBoostingRegressor\n",
    "from xgboost import XGBRegressor"
   ]
  },
  {
   "cell_type": "markdown",
   "metadata": {},
   "source": [
    "## **READING PREPARED DATASET**"
   ]
  },
  {
   "cell_type": "code",
   "execution_count": 70,
   "metadata": {},
   "outputs": [
    {
     "name": "stdout",
     "output_type": "stream",
     "text": [
      "CPU times: user 16.1 s, sys: 4.69 s, total: 20.8 s\n",
      "Wall time: 21.2 s\n"
     ]
    }
   ],
   "source": [
    "%%time\n",
    "source = '/Users/antoniobravomunoz/Documents/DATA_SCIENCE_MASTER/TFM/Data-Science-Master-project/DATA/traffic_data_complete.csv'\n",
    "df = pd.read_csv(source,sep=',')"
   ]
  },
  {
   "cell_type": "code",
   "execution_count": 71,
   "metadata": {},
   "outputs": [
    {
     "data": {
      "text/html": [
       "<div>\n",
       "<style scoped>\n",
       "    .dataframe tbody tr th:only-of-type {\n",
       "        vertical-align: middle;\n",
       "    }\n",
       "\n",
       "    .dataframe tbody tr th {\n",
       "        vertical-align: top;\n",
       "    }\n",
       "\n",
       "    .dataframe thead th {\n",
       "        text-align: right;\n",
       "    }\n",
       "</style>\n",
       "<table border=\"1\" class=\"dataframe\">\n",
       "  <thead>\n",
       "    <tr style=\"text-align: right;\">\n",
       "      <th></th>\n",
       "      <th>id</th>\n",
       "      <th>intensidad</th>\n",
       "      <th>ocupacion</th>\n",
       "      <th>carga</th>\n",
       "      <th>vmed</th>\n",
       "      <th>periodo_integracion</th>\n",
       "      <th>Hora</th>\n",
       "      <th>Lat</th>\n",
       "      <th>Long</th>\n",
       "      <th>M30</th>\n",
       "      <th>URB</th>\n",
       "      <th>Mes</th>\n",
       "      <th>Dia</th>\n",
       "      <th>Minutos</th>\n",
       "    </tr>\n",
       "  </thead>\n",
       "  <tbody>\n",
       "    <tr>\n",
       "      <th>0</th>\n",
       "      <td>1001</td>\n",
       "      <td>204</td>\n",
       "      <td>12</td>\n",
       "      <td>0</td>\n",
       "      <td>73</td>\n",
       "      <td>5</td>\n",
       "      <td>0</td>\n",
       "      <td>40.409729</td>\n",
       "      <td>-3.740786</td>\n",
       "      <td>1</td>\n",
       "      <td>0</td>\n",
       "      <td>1</td>\n",
       "      <td>1</td>\n",
       "      <td>0</td>\n",
       "    </tr>\n",
       "    <tr>\n",
       "      <th>1</th>\n",
       "      <td>1002</td>\n",
       "      <td>252</td>\n",
       "      <td>1</td>\n",
       "      <td>0</td>\n",
       "      <td>79</td>\n",
       "      <td>5</td>\n",
       "      <td>0</td>\n",
       "      <td>40.408029</td>\n",
       "      <td>-3.743760</td>\n",
       "      <td>1</td>\n",
       "      <td>0</td>\n",
       "      <td>1</td>\n",
       "      <td>1</td>\n",
       "      <td>0</td>\n",
       "    </tr>\n",
       "    <tr>\n",
       "      <th>2</th>\n",
       "      <td>1003</td>\n",
       "      <td>420</td>\n",
       "      <td>2</td>\n",
       "      <td>0</td>\n",
       "      <td>82</td>\n",
       "      <td>5</td>\n",
       "      <td>0</td>\n",
       "      <td>40.406824</td>\n",
       "      <td>-3.746834</td>\n",
       "      <td>1</td>\n",
       "      <td>0</td>\n",
       "      <td>1</td>\n",
       "      <td>1</td>\n",
       "      <td>0</td>\n",
       "    </tr>\n",
       "    <tr>\n",
       "      <th>3</th>\n",
       "      <td>1006</td>\n",
       "      <td>288</td>\n",
       "      <td>1</td>\n",
       "      <td>0</td>\n",
       "      <td>75</td>\n",
       "      <td>5</td>\n",
       "      <td>0</td>\n",
       "      <td>40.411894</td>\n",
       "      <td>-3.736324</td>\n",
       "      <td>1</td>\n",
       "      <td>0</td>\n",
       "      <td>1</td>\n",
       "      <td>1</td>\n",
       "      <td>0</td>\n",
       "    </tr>\n",
       "    <tr>\n",
       "      <th>4</th>\n",
       "      <td>1009</td>\n",
       "      <td>276</td>\n",
       "      <td>0</td>\n",
       "      <td>0</td>\n",
       "      <td>76</td>\n",
       "      <td>5</td>\n",
       "      <td>0</td>\n",
       "      <td>40.416233</td>\n",
       "      <td>-3.724909</td>\n",
       "      <td>1</td>\n",
       "      <td>0</td>\n",
       "      <td>1</td>\n",
       "      <td>1</td>\n",
       "      <td>0</td>\n",
       "    </tr>\n",
       "  </tbody>\n",
       "</table>\n",
       "</div>"
      ],
      "text/plain": [
       "     id  intensidad  ocupacion  carga  vmed  periodo_integracion  Hora  \\\n",
       "0  1001         204         12      0    73                    5     0   \n",
       "1  1002         252          1      0    79                    5     0   \n",
       "2  1003         420          2      0    82                    5     0   \n",
       "3  1006         288          1      0    75                    5     0   \n",
       "4  1009         276          0      0    76                    5     0   \n",
       "\n",
       "         Lat      Long  M30  URB  Mes  Dia  Minutos  \n",
       "0  40.409729 -3.740786    1    0    1    1        0  \n",
       "1  40.408029 -3.743760    1    0    1    1        0  \n",
       "2  40.406824 -3.746834    1    0    1    1        0  \n",
       "3  40.411894 -3.736324    1    0    1    1        0  \n",
       "4  40.416233 -3.724909    1    0    1    1        0  "
      ]
     },
     "execution_count": 71,
     "metadata": {},
     "output_type": "execute_result"
    }
   ],
   "source": [
    "df.head()"
   ]
  },
  {
   "cell_type": "code",
   "execution_count": 72,
   "metadata": {},
   "outputs": [
    {
     "data": {
      "text/html": [
       "<div>\n",
       "<style scoped>\n",
       "    .dataframe tbody tr th:only-of-type {\n",
       "        vertical-align: middle;\n",
       "    }\n",
       "\n",
       "    .dataframe tbody tr th {\n",
       "        vertical-align: top;\n",
       "    }\n",
       "\n",
       "    .dataframe thead th {\n",
       "        text-align: right;\n",
       "    }\n",
       "</style>\n",
       "<table border=\"1\" class=\"dataframe\">\n",
       "  <thead>\n",
       "    <tr style=\"text-align: right;\">\n",
       "      <th></th>\n",
       "      <th>id</th>\n",
       "      <th>intensidad</th>\n",
       "      <th>ocupacion</th>\n",
       "      <th>carga</th>\n",
       "      <th>vmed</th>\n",
       "      <th>periodo_integracion</th>\n",
       "      <th>Hora</th>\n",
       "      <th>Lat</th>\n",
       "      <th>Long</th>\n",
       "      <th>M30</th>\n",
       "      <th>URB</th>\n",
       "      <th>Mes</th>\n",
       "      <th>Dia</th>\n",
       "      <th>Minutos</th>\n",
       "    </tr>\n",
       "  </thead>\n",
       "  <tbody>\n",
       "    <tr>\n",
       "      <th>3171326</th>\n",
       "      <td>10036</td>\n",
       "      <td>0</td>\n",
       "      <td>0</td>\n",
       "      <td>1</td>\n",
       "      <td>0</td>\n",
       "      <td>15</td>\n",
       "      <td>6</td>\n",
       "      <td>40.423722</td>\n",
       "      <td>-3.693921</td>\n",
       "      <td>0</td>\n",
       "      <td>1</td>\n",
       "      <td>6</td>\n",
       "      <td>19</td>\n",
       "      <td>0</td>\n",
       "    </tr>\n",
       "    <tr>\n",
       "      <th>2884492</th>\n",
       "      <td>6056</td>\n",
       "      <td>0</td>\n",
       "      <td>0</td>\n",
       "      <td>0</td>\n",
       "      <td>0</td>\n",
       "      <td>15</td>\n",
       "      <td>4</td>\n",
       "      <td>40.444752</td>\n",
       "      <td>-3.645364</td>\n",
       "      <td>0</td>\n",
       "      <td>1</td>\n",
       "      <td>6</td>\n",
       "      <td>12</td>\n",
       "      <td>15</td>\n",
       "    </tr>\n",
       "    <tr>\n",
       "      <th>5514103</th>\n",
       "      <td>6741</td>\n",
       "      <td>576</td>\n",
       "      <td>5</td>\n",
       "      <td>36</td>\n",
       "      <td>60</td>\n",
       "      <td>15</td>\n",
       "      <td>8</td>\n",
       "      <td>40.416908</td>\n",
       "      <td>-3.657900</td>\n",
       "      <td>1</td>\n",
       "      <td>0</td>\n",
       "      <td>2</td>\n",
       "      <td>16</td>\n",
       "      <td>0</td>\n",
       "    </tr>\n",
       "    <tr>\n",
       "      <th>7208647</th>\n",
       "      <td>7110</td>\n",
       "      <td>0</td>\n",
       "      <td>0</td>\n",
       "      <td>0</td>\n",
       "      <td>0</td>\n",
       "      <td>15</td>\n",
       "      <td>0</td>\n",
       "      <td>40.507305</td>\n",
       "      <td>-3.685617</td>\n",
       "      <td>0</td>\n",
       "      <td>1</td>\n",
       "      <td>8</td>\n",
       "      <td>31</td>\n",
       "      <td>15</td>\n",
       "    </tr>\n",
       "    <tr>\n",
       "      <th>4640363</th>\n",
       "      <td>5993</td>\n",
       "      <td>0</td>\n",
       "      <td>0</td>\n",
       "      <td>0</td>\n",
       "      <td>0</td>\n",
       "      <td>15</td>\n",
       "      <td>4</td>\n",
       "      <td>40.417211</td>\n",
       "      <td>-3.623704</td>\n",
       "      <td>0</td>\n",
       "      <td>1</td>\n",
       "      <td>3</td>\n",
       "      <td>26</td>\n",
       "      <td>0</td>\n",
       "    </tr>\n",
       "  </tbody>\n",
       "</table>\n",
       "</div>"
      ],
      "text/plain": [
       "            id  intensidad  ocupacion  carga  vmed  periodo_integracion  Hora  \\\n",
       "3171326  10036           0          0      1     0                   15     6   \n",
       "2884492   6056           0          0      0     0                   15     4   \n",
       "5514103   6741         576          5     36    60                   15     8   \n",
       "7208647   7110           0          0      0     0                   15     0   \n",
       "4640363   5993           0          0      0     0                   15     4   \n",
       "\n",
       "               Lat      Long  M30  URB  Mes  Dia  Minutos  \n",
       "3171326  40.423722 -3.693921    0    1    6   19        0  \n",
       "2884492  40.444752 -3.645364    0    1    6   12       15  \n",
       "5514103  40.416908 -3.657900    1    0    2   16        0  \n",
       "7208647  40.507305 -3.685617    0    1    8   31       15  \n",
       "4640363  40.417211 -3.623704    0    1    3   26        0  "
      ]
     },
     "execution_count": 72,
     "metadata": {},
     "output_type": "execute_result"
    }
   ],
   "source": [
    "df.sample(5)"
   ]
  },
  {
   "cell_type": "code",
   "execution_count": 73,
   "metadata": {},
   "outputs": [
    {
     "data": {
      "text/plain": [
       "id                       int64\n",
       "intensidad               int64\n",
       "ocupacion                int64\n",
       "carga                    int64\n",
       "vmed                     int64\n",
       "periodo_integracion      int64\n",
       "Hora                     int64\n",
       "Lat                    float64\n",
       "Long                   float64\n",
       "M30                      int64\n",
       "URB                      int64\n",
       "Mes                      int64\n",
       "Dia                      int64\n",
       "Minutos                  int64\n",
       "dtype: object"
      ]
     },
     "execution_count": 73,
     "metadata": {},
     "output_type": "execute_result"
    }
   ],
   "source": [
    "df.dtypes"
   ]
  },
  {
   "cell_type": "markdown",
   "metadata": {},
   "source": [
    "## **TRAIN: SPLIT DATASET IN X (OBSERVATIONS) AND Y (TARGET)**"
   ]
  },
  {
   "cell_type": "code",
   "execution_count": 74,
   "metadata": {},
   "outputs": [],
   "source": [
    "X=df.drop(['carga'],axis=1)"
   ]
  },
  {
   "cell_type": "code",
   "execution_count": 75,
   "metadata": {},
   "outputs": [
    {
     "data": {
      "text/plain": [
       "(9740545, 13)"
      ]
     },
     "execution_count": 75,
     "metadata": {},
     "output_type": "execute_result"
    }
   ],
   "source": [
    "X.shape"
   ]
  },
  {
   "cell_type": "code",
   "execution_count": 76,
   "metadata": {},
   "outputs": [],
   "source": [
    "y=df['carga']"
   ]
  },
  {
   "cell_type": "code",
   "execution_count": 77,
   "metadata": {},
   "outputs": [
    {
     "data": {
      "text/plain": [
       "(9740545,)"
      ]
     },
     "execution_count": 77,
     "metadata": {},
     "output_type": "execute_result"
    }
   ],
   "source": [
    "y.shape"
   ]
  },
  {
   "cell_type": "markdown",
   "metadata": {},
   "source": [
    "## **ML REGRESSION ALGORITHMS**"
   ]
  },
  {
   "cell_type": "markdown",
   "metadata": {},
   "source": [
    "In our case, we have chosen to use Decission Tree Methods due to they have some interesting advantages:\n",
    "- They are easy to understand.\n",
    "- They require little data preparation.\n",
    "- They are robust.\n",
    "- They work good with large datasets\n"
   ]
  },
  {
   "cell_type": "markdown",
   "metadata": {},
   "source": [
    "Using GridSearchCV we look for the best parameters which give the best score in order to use it as final model parameters."
   ]
  },
  {
   "cell_type": "markdown",
   "metadata": {},
   "source": [
    "First of all, we are testing with a **Decision Tree Regressor**"
   ]
  },
  {
   "cell_type": "code",
   "execution_count": 13,
   "metadata": {},
   "outputs": [
    {
     "name": "stdout",
     "output_type": "stream",
     "text": [
      "-70.60611753784305\n",
      "8.402744643141492\n",
      "{'max_depth': 4, 'min_samples_leaf': 10}\n",
      "CPU times: user 11min 32s, sys: 1min 19s, total: 12min 51s\n",
      "Wall time: 12min 9s\n"
     ]
    }
   ],
   "source": [
    "%%time\n",
    "#Decission Tree\n",
    "reg_DeciTree=GridSearchCV(DecisionTreeRegressor(min_samples_leaf=1,max_depth=4),\n",
    "                          param_grid={\"min_samples_leaf\":[10,20,30,40,70,100],\"max_depth\":range(2,5)},\n",
    "                          scoring=\"neg_mean_squared_error\"\n",
    "                          )\n",
    "reg_DeciTree.fit(X,y)\n",
    "print(reg_DeciTree.best_score_)\n",
    "print(np.sqrt(-reg_DeciTree.best_score_))\n",
    "print(reg_DeciTree.best_params_)"
   ]
  },
  {
   "cell_type": "code",
   "execution_count": 14,
   "metadata": {
    "scrolled": true
   },
   "outputs": [
    {
     "name": "stdout",
     "output_type": "stream",
     "text": [
      "-14.437166601055841\n",
      "3.799627166059302\n",
      "{'max_depth': 14, 'min_samples_leaf': 30}\n",
      "CPU times: user 1h 4min 24s, sys: 6min 10s, total: 1h 10min 34s\n",
      "Wall time: 1h 13min 4s\n"
     ]
    }
   ],
   "source": [
    "%%time\n",
    "#Decission Tree v2\n",
    "reg_DeciTree2=GridSearchCV(DecisionTreeRegressor(min_samples_leaf=1,max_depth=4),\n",
    "                          param_grid={\"min_samples_leaf\":[10,20,30,40,70,100],\"max_depth\":range(10,15)},\n",
    "                          scoring=\"neg_mean_squared_error\"\n",
    "                          )\n",
    "reg_DeciTree2.fit(X,y)\n",
    "print(reg_DeciTree2.best_score_)\n",
    "print(np.sqrt(-reg_DeciTree2.best_score_))\n",
    "print(reg_DeciTree2.best_params_)"
   ]
  },
  {
   "cell_type": "code",
   "execution_count": 15,
   "metadata": {
    "scrolled": true
   },
   "outputs": [
    {
     "name": "stdout",
     "output_type": "stream",
     "text": [
      "2.5348422766054957\n",
      "{'max_depth': 19, 'min_samples_leaf': 10}\n",
      "CPU times: user 11min 55s, sys: 21.8 s, total: 12min 17s\n",
      "Wall time: 12min 10s\n"
     ]
    }
   ],
   "source": [
    "%%time\n",
    "#Decission Tree v3\n",
    "reg_DeciTree3=GridSearchCV(DecisionTreeRegressor(min_samples_leaf=9,max_depth=19),\n",
    "                          param_grid={\"min_samples_leaf\":[10,20,30,40],\"max_depth\":range(19,20)},\n",
    "                          scoring=\"neg_mean_squared_error\"\n",
    "                          )\n",
    "reg_DeciTree3.fit(X,y)\n",
    "print(np.sqrt(-reg_DeciTree3.best_score_))\n",
    "print(reg_DeciTree3.best_params_)"
   ]
  },
  {
   "cell_type": "markdown",
   "metadata": {},
   "source": [
    "Testing with a **Random Forest Regressor**"
   ]
  },
  {
   "cell_type": "code",
   "execution_count": 20,
   "metadata": {},
   "outputs": [
    {
     "name": "stdout",
     "output_type": "stream",
     "text": [
      "12.491872273809218\n",
      "3.534384284965235\n",
      "{'max_depth': 14, 'min_samples_leaf': 20}\n",
      "CPU times: user 4h 39min 19s, sys: 1min 22s, total: 4h 40min 42s\n",
      "Wall time: 4h 39min 4s\n"
     ]
    }
   ],
   "source": [
    "%%time\n",
    "#Random Forest\n",
    "reg_RF=GridSearchCV(RandomForestRegressor(n_estimators=50,min_samples_leaf=9,max_depth=14),\n",
    "                          param_grid={\"min_samples_leaf\":[20,30,40],\"max_depth\":range(14,15)},\n",
    "                          scoring=\"neg_mean_squared_error\"\n",
    "                          )\n",
    "reg_RF.fit(X,y)\n",
    "print(-reg_RF.best_score_)\n",
    "print(np.sqrt(-reg_RF.best_score_))\n",
    "print(reg_RF.best_params_)"
   ]
  },
  {
   "cell_type": "markdown",
   "metadata": {},
   "source": [
    "To achive to train heavier algorithms like random forest or XGBoost models with others parameters we have decided to do it in through **Google Colab** to have higher computacional capabilities. In notebook *Data Modeling Colab-full dataset.ipynb* we can found this procedure."
   ]
  },
  {
   "cell_type": "markdown",
   "metadata": {},
   "source": [
    "Once the model would have been trained, the results are saving with joblib.dump() method. After that, the files are loaded here in order to predict with test dataset."
   ]
  },
  {
   "cell_type": "markdown",
   "metadata": {},
   "source": [
    "## **SPLIT SEPTEMBER-2018 DATASET IN X_test AND Y_test**"
   ]
  },
  {
   "cell_type": "markdown",
   "metadata": {},
   "source": [
    "Before split the dataset, we are going to apply it a processing like in *Data Acquisition and Preparation.ipynb* is done for the data used in train. This can be checked in *Data Acquisition and Preparation_test.ipynb* notebook."
   ]
  },
  {
   "cell_type": "markdown",
   "metadata": {},
   "source": [
    "Loading the file"
   ]
  },
  {
   "cell_type": "code",
   "execution_count": 48,
   "metadata": {},
   "outputs": [
    {
     "name": "stdout",
     "output_type": "stream",
     "text": [
      "CPU times: user 24.2 ms, sys: 21.4 ms, total: 45.6 ms\n",
      "Wall time: 47.6 ms\n"
     ]
    }
   ],
   "source": [
    "%%time\n",
    "sourceTest='/Users/antoniobravomunoz/Documents/DATA_SCIENCE_MASTER/TFM/Data-Science-Master-project/DATA/traffic_data_test_complete.csv'\n",
    "df_test=pd.read_csv(sourceTest,sep=',')"
   ]
  },
  {
   "cell_type": "code",
   "execution_count": 49,
   "metadata": {},
   "outputs": [
    {
     "data": {
      "text/html": [
       "<div>\n",
       "<style scoped>\n",
       "    .dataframe tbody tr th:only-of-type {\n",
       "        vertical-align: middle;\n",
       "    }\n",
       "\n",
       "    .dataframe tbody tr th {\n",
       "        vertical-align: top;\n",
       "    }\n",
       "\n",
       "    .dataframe thead th {\n",
       "        text-align: right;\n",
       "    }\n",
       "</style>\n",
       "<table border=\"1\" class=\"dataframe\">\n",
       "  <thead>\n",
       "    <tr style=\"text-align: right;\">\n",
       "      <th></th>\n",
       "      <th>id</th>\n",
       "      <th>intensidad</th>\n",
       "      <th>ocupacion</th>\n",
       "      <th>carga</th>\n",
       "      <th>vmed</th>\n",
       "      <th>periodo_integracion</th>\n",
       "      <th>Hora</th>\n",
       "      <th>Lat</th>\n",
       "      <th>Long</th>\n",
       "      <th>M30</th>\n",
       "      <th>URB</th>\n",
       "      <th>Mes</th>\n",
       "      <th>Dia</th>\n",
       "      <th>Minutos</th>\n",
       "    </tr>\n",
       "  </thead>\n",
       "  <tbody>\n",
       "    <tr>\n",
       "      <th>0</th>\n",
       "      <td>6679</td>\n",
       "      <td>2468.0</td>\n",
       "      <td>3.0</td>\n",
       "      <td>38.0</td>\n",
       "      <td>87.0</td>\n",
       "      <td>15</td>\n",
       "      <td>0</td>\n",
       "      <td>40.393663</td>\n",
       "      <td>-3.674823</td>\n",
       "      <td>1</td>\n",
       "      <td>0</td>\n",
       "      <td>9</td>\n",
       "      <td>1</td>\n",
       "      <td>0</td>\n",
       "    </tr>\n",
       "    <tr>\n",
       "      <th>1</th>\n",
       "      <td>6679</td>\n",
       "      <td>2488.0</td>\n",
       "      <td>4.0</td>\n",
       "      <td>37.0</td>\n",
       "      <td>87.0</td>\n",
       "      <td>15</td>\n",
       "      <td>0</td>\n",
       "      <td>40.393663</td>\n",
       "      <td>-3.674823</td>\n",
       "      <td>1</td>\n",
       "      <td>0</td>\n",
       "      <td>9</td>\n",
       "      <td>1</td>\n",
       "      <td>15</td>\n",
       "    </tr>\n",
       "    <tr>\n",
       "      <th>2</th>\n",
       "      <td>6679</td>\n",
       "      <td>2503.0</td>\n",
       "      <td>4.0</td>\n",
       "      <td>38.0</td>\n",
       "      <td>88.0</td>\n",
       "      <td>15</td>\n",
       "      <td>0</td>\n",
       "      <td>40.393663</td>\n",
       "      <td>-3.674823</td>\n",
       "      <td>1</td>\n",
       "      <td>0</td>\n",
       "      <td>9</td>\n",
       "      <td>1</td>\n",
       "      <td>30</td>\n",
       "    </tr>\n",
       "    <tr>\n",
       "      <th>3</th>\n",
       "      <td>6679</td>\n",
       "      <td>2140.0</td>\n",
       "      <td>3.0</td>\n",
       "      <td>32.0</td>\n",
       "      <td>88.0</td>\n",
       "      <td>15</td>\n",
       "      <td>0</td>\n",
       "      <td>40.393663</td>\n",
       "      <td>-3.674823</td>\n",
       "      <td>1</td>\n",
       "      <td>0</td>\n",
       "      <td>9</td>\n",
       "      <td>1</td>\n",
       "      <td>45</td>\n",
       "    </tr>\n",
       "    <tr>\n",
       "      <th>4</th>\n",
       "      <td>6679</td>\n",
       "      <td>2156.0</td>\n",
       "      <td>4.0</td>\n",
       "      <td>33.0</td>\n",
       "      <td>90.0</td>\n",
       "      <td>15</td>\n",
       "      <td>1</td>\n",
       "      <td>40.393663</td>\n",
       "      <td>-3.674823</td>\n",
       "      <td>1</td>\n",
       "      <td>0</td>\n",
       "      <td>9</td>\n",
       "      <td>1</td>\n",
       "      <td>0</td>\n",
       "    </tr>\n",
       "  </tbody>\n",
       "</table>\n",
       "</div>"
      ],
      "text/plain": [
       "     id  intensidad  ocupacion  carga  vmed  periodo_integracion  Hora  \\\n",
       "0  6679      2468.0        3.0   38.0  87.0                   15     0   \n",
       "1  6679      2488.0        4.0   37.0  87.0                   15     0   \n",
       "2  6679      2503.0        4.0   38.0  88.0                   15     0   \n",
       "3  6679      2140.0        3.0   32.0  88.0                   15     0   \n",
       "4  6679      2156.0        4.0   33.0  90.0                   15     1   \n",
       "\n",
       "         Lat      Long  M30  URB  Mes  Dia  Minutos  \n",
       "0  40.393663 -3.674823    1    0    9    1        0  \n",
       "1  40.393663 -3.674823    1    0    9    1       15  \n",
       "2  40.393663 -3.674823    1    0    9    1       30  \n",
       "3  40.393663 -3.674823    1    0    9    1       45  \n",
       "4  40.393663 -3.674823    1    0    9    1        0  "
      ]
     },
     "execution_count": 49,
     "metadata": {},
     "output_type": "execute_result"
    }
   ],
   "source": [
    "df_test.head()"
   ]
  },
  {
   "cell_type": "code",
   "execution_count": 50,
   "metadata": {},
   "outputs": [
    {
     "data": {
      "text/plain": [
       "(10526, 14)"
      ]
     },
     "execution_count": 50,
     "metadata": {},
     "output_type": "execute_result"
    }
   ],
   "source": [
    "df_test.shape"
   ]
  },
  {
   "cell_type": "code",
   "execution_count": 51,
   "metadata": {},
   "outputs": [
    {
     "data": {
      "text/plain": [
       "id                       int64\n",
       "intensidad             float64\n",
       "ocupacion              float64\n",
       "carga                  float64\n",
       "vmed                   float64\n",
       "periodo_integracion      int64\n",
       "Hora                     int64\n",
       "Lat                    float64\n",
       "Long                   float64\n",
       "M30                      int64\n",
       "URB                      int64\n",
       "Mes                      int64\n",
       "Dia                      int64\n",
       "Minutos                  int64\n",
       "dtype: object"
      ]
     },
     "execution_count": 51,
     "metadata": {},
     "output_type": "execute_result"
    }
   ],
   "source": [
    "df_test.dtypes"
   ]
  },
  {
   "cell_type": "code",
   "execution_count": 52,
   "metadata": {},
   "outputs": [],
   "source": [
    "X_test=df_test.drop(['carga'],axis=1)"
   ]
  },
  {
   "cell_type": "code",
   "execution_count": 53,
   "metadata": {},
   "outputs": [
    {
     "data": {
      "text/plain": [
       "(10526, 13)"
      ]
     },
     "execution_count": 53,
     "metadata": {},
     "output_type": "execute_result"
    }
   ],
   "source": [
    "X_test.shape"
   ]
  },
  {
   "cell_type": "code",
   "execution_count": 54,
   "metadata": {},
   "outputs": [],
   "source": [
    "y_test=df_test['carga']"
   ]
  },
  {
   "cell_type": "code",
   "execution_count": 55,
   "metadata": {},
   "outputs": [
    {
     "data": {
      "text/plain": [
       "(10526,)"
      ]
     },
     "execution_count": 55,
     "metadata": {},
     "output_type": "execute_result"
    }
   ],
   "source": [
    "y_test.shape"
   ]
  },
  {
   "cell_type": "markdown",
   "metadata": {},
   "source": [
    "## **PREDICTING Y_test WITH RANDOM FOREST**"
   ]
  },
  {
   "cell_type": "markdown",
   "metadata": {},
   "source": [
    "Loading the trained model with \"Pickle\" module."
   ]
  },
  {
   "cell_type": "code",
   "execution_count": 43,
   "metadata": {},
   "outputs": [],
   "source": [
    "import pickle \n",
    "from sklearn.externals import joblib"
   ]
  },
  {
   "cell_type": "code",
   "execution_count": 44,
   "metadata": {},
   "outputs": [],
   "source": [
    "pkl_filename_route='/Users/antoniobravomunoz/Documents/DATA_SCIENCE_MASTER/TFM/Data-Science-Master-project/TrainedModels/randomforest2_colab.pkl'"
   ]
  },
  {
   "cell_type": "code",
   "execution_count": 66,
   "metadata": {},
   "outputs": [
    {
     "name": "stderr",
     "output_type": "stream",
     "text": [
      "/Users/antoniobravomunoz/anaconda3/lib/python3.6/site-packages/sklearn/base.py:311: UserWarning: Trying to unpickle estimator DecisionTreeRegressor from version 0.20.2 when using version 0.19.2. This might lead to breaking code or invalid results. Use at your own risk.\n",
      "  UserWarning)\n",
      "/Users/antoniobravomunoz/anaconda3/lib/python3.6/site-packages/sklearn/base.py:311: UserWarning: Trying to unpickle estimator RandomForestRegressor from version 0.20.2 when using version 0.19.2. This might lead to breaking code or invalid results. Use at your own risk.\n",
      "  UserWarning)\n"
     ]
    }
   ],
   "source": [
    "RFreg = joblib.load(pkl_filename_route)"
   ]
  },
  {
   "cell_type": "code",
   "execution_count": 67,
   "metadata": {},
   "outputs": [
    {
     "data": {
      "text/plain": [
       "RandomForestRegressor(bootstrap=True, criterion='mse', max_depth=29,\n",
       "           max_features='auto', max_leaf_nodes=None,\n",
       "           min_impurity_decrease=0.0, min_impurity_split=None,\n",
       "           min_samples_leaf=20, min_samples_split=2,\n",
       "           min_weight_fraction_leaf=0.0, n_estimators=100, n_jobs=None,\n",
       "           oob_score=False, random_state=None, verbose=0, warm_start=False)"
      ]
     },
     "execution_count": 67,
     "metadata": {},
     "output_type": "execute_result"
    }
   ],
   "source": [
    "RFreg"
   ]
  },
  {
   "cell_type": "code",
   "execution_count": 65,
   "metadata": {},
   "outputs": [
    {
     "name": "stdout",
     "output_type": "stream",
     "text": [
      "<bound method RegressorMixin.score of RandomForestRegressor(bootstrap=True, criterion='mse', max_depth=29,\n",
      "           max_features='auto', max_leaf_nodes=None,\n",
      "           min_impurity_decrease=0.0, min_impurity_split=None,\n",
      "           min_samples_leaf=20, min_samples_split=2,\n",
      "           min_weight_fraction_leaf=0.0, n_estimators=100, n_jobs=None,\n",
      "           oob_score=False, random_state=None, verbose=0, warm_start=False)>\n"
     ]
    }
   ],
   "source": [
    "RFreg.score"
   ]
  },
  {
   "cell_type": "code",
   "execution_count": 59,
   "metadata": {},
   "outputs": [
    {
     "data": {
      "text/html": [
       "<div>\n",
       "<style scoped>\n",
       "    .dataframe tbody tr th:only-of-type {\n",
       "        vertical-align: middle;\n",
       "    }\n",
       "\n",
       "    .dataframe tbody tr th {\n",
       "        vertical-align: top;\n",
       "    }\n",
       "\n",
       "    .dataframe thead th {\n",
       "        text-align: right;\n",
       "    }\n",
       "</style>\n",
       "<table border=\"1\" class=\"dataframe\">\n",
       "  <thead>\n",
       "    <tr style=\"text-align: right;\">\n",
       "      <th></th>\n",
       "      <th>id</th>\n",
       "      <th>intensidad</th>\n",
       "      <th>ocupacion</th>\n",
       "      <th>vmed</th>\n",
       "      <th>periodo_integracion</th>\n",
       "      <th>Hora</th>\n",
       "      <th>Lat</th>\n",
       "      <th>Long</th>\n",
       "      <th>M30</th>\n",
       "      <th>URB</th>\n",
       "      <th>Mes</th>\n",
       "      <th>Dia</th>\n",
       "      <th>Minutos</th>\n",
       "    </tr>\n",
       "  </thead>\n",
       "  <tbody>\n",
       "    <tr>\n",
       "      <th>count</th>\n",
       "      <td>10526.000000</td>\n",
       "      <td>10526.000000</td>\n",
       "      <td>10526.000000</td>\n",
       "      <td>10526.000000</td>\n",
       "      <td>10526.000000</td>\n",
       "      <td>10526.000000</td>\n",
       "      <td>10526.000000</td>\n",
       "      <td>10526.000000</td>\n",
       "      <td>10526.0</td>\n",
       "      <td>10526.0</td>\n",
       "      <td>10526.0</td>\n",
       "      <td>10526.000000</td>\n",
       "      <td>10526.000000</td>\n",
       "    </tr>\n",
       "    <tr>\n",
       "      <th>mean</th>\n",
       "      <td>6729.556907</td>\n",
       "      <td>2351.216797</td>\n",
       "      <td>7.346855</td>\n",
       "      <td>79.530401</td>\n",
       "      <td>14.909082</td>\n",
       "      <td>12.917443</td>\n",
       "      <td>40.432354</td>\n",
       "      <td>-3.667283</td>\n",
       "      <td>1.0</td>\n",
       "      <td>0.0</td>\n",
       "      <td>9.0</td>\n",
       "      <td>3.840965</td>\n",
       "      <td>22.347520</td>\n",
       "    </tr>\n",
       "    <tr>\n",
       "      <th>std</th>\n",
       "      <td>20.665193</td>\n",
       "      <td>1671.041131</td>\n",
       "      <td>7.427167</td>\n",
       "      <td>14.767808</td>\n",
       "      <td>0.748585</td>\n",
       "      <td>6.604995</td>\n",
       "      <td>0.030781</td>\n",
       "      <td>0.007450</td>\n",
       "      <td>0.0</td>\n",
       "      <td>0.0</td>\n",
       "      <td>0.0</td>\n",
       "      <td>2.032883</td>\n",
       "      <td>16.792269</td>\n",
       "    </tr>\n",
       "    <tr>\n",
       "      <th>min</th>\n",
       "      <td>6679.000000</td>\n",
       "      <td>5.000000</td>\n",
       "      <td>1.000000</td>\n",
       "      <td>4.000000</td>\n",
       "      <td>1.000000</td>\n",
       "      <td>0.000000</td>\n",
       "      <td>40.383376</td>\n",
       "      <td>-3.683001</td>\n",
       "      <td>1.0</td>\n",
       "      <td>0.0</td>\n",
       "      <td>9.0</td>\n",
       "      <td>1.000000</td>\n",
       "      <td>0.000000</td>\n",
       "    </tr>\n",
       "    <tr>\n",
       "      <th>25%</th>\n",
       "      <td>6717.000000</td>\n",
       "      <td>892.000000</td>\n",
       "      <td>3.000000</td>\n",
       "      <td>77.000000</td>\n",
       "      <td>15.000000</td>\n",
       "      <td>8.000000</td>\n",
       "      <td>40.407452</td>\n",
       "      <td>-3.673634</td>\n",
       "      <td>1.0</td>\n",
       "      <td>0.0</td>\n",
       "      <td>9.0</td>\n",
       "      <td>2.000000</td>\n",
       "      <td>0.000000</td>\n",
       "    </tr>\n",
       "    <tr>\n",
       "      <th>50%</th>\n",
       "      <td>6729.000000</td>\n",
       "      <td>2054.500000</td>\n",
       "      <td>6.000000</td>\n",
       "      <td>84.000000</td>\n",
       "      <td>15.000000</td>\n",
       "      <td>13.000000</td>\n",
       "      <td>40.435325</td>\n",
       "      <td>-3.665770</td>\n",
       "      <td>1.0</td>\n",
       "      <td>0.0</td>\n",
       "      <td>9.0</td>\n",
       "      <td>4.000000</td>\n",
       "      <td>15.000000</td>\n",
       "    </tr>\n",
       "    <tr>\n",
       "      <th>75%</th>\n",
       "      <td>6746.000000</td>\n",
       "      <td>3596.000000</td>\n",
       "      <td>9.000000</td>\n",
       "      <td>88.000000</td>\n",
       "      <td>15.000000</td>\n",
       "      <td>19.000000</td>\n",
       "      <td>40.461982</td>\n",
       "      <td>-3.660087</td>\n",
       "      <td>1.0</td>\n",
       "      <td>0.0</td>\n",
       "      <td>9.0</td>\n",
       "      <td>6.000000</td>\n",
       "      <td>30.000000</td>\n",
       "    </tr>\n",
       "    <tr>\n",
       "      <th>max</th>\n",
       "      <td>6762.000000</td>\n",
       "      <td>7255.000000</td>\n",
       "      <td>76.000000</td>\n",
       "      <td>100.000000</td>\n",
       "      <td>15.000000</td>\n",
       "      <td>23.000000</td>\n",
       "      <td>40.481905</td>\n",
       "      <td>-3.659082</td>\n",
       "      <td>1.0</td>\n",
       "      <td>0.0</td>\n",
       "      <td>9.0</td>\n",
       "      <td>8.000000</td>\n",
       "      <td>45.000000</td>\n",
       "    </tr>\n",
       "  </tbody>\n",
       "</table>\n",
       "</div>"
      ],
      "text/plain": [
       "                 id    intensidad     ocupacion          vmed  \\\n",
       "count  10526.000000  10526.000000  10526.000000  10526.000000   \n",
       "mean    6729.556907   2351.216797      7.346855     79.530401   \n",
       "std       20.665193   1671.041131      7.427167     14.767808   \n",
       "min     6679.000000      5.000000      1.000000      4.000000   \n",
       "25%     6717.000000    892.000000      3.000000     77.000000   \n",
       "50%     6729.000000   2054.500000      6.000000     84.000000   \n",
       "75%     6746.000000   3596.000000      9.000000     88.000000   \n",
       "max     6762.000000   7255.000000     76.000000    100.000000   \n",
       "\n",
       "       periodo_integracion          Hora           Lat          Long      M30  \\\n",
       "count         10526.000000  10526.000000  10526.000000  10526.000000  10526.0   \n",
       "mean             14.909082     12.917443     40.432354     -3.667283      1.0   \n",
       "std               0.748585      6.604995      0.030781      0.007450      0.0   \n",
       "min               1.000000      0.000000     40.383376     -3.683001      1.0   \n",
       "25%              15.000000      8.000000     40.407452     -3.673634      1.0   \n",
       "50%              15.000000     13.000000     40.435325     -3.665770      1.0   \n",
       "75%              15.000000     19.000000     40.461982     -3.660087      1.0   \n",
       "max              15.000000     23.000000     40.481905     -3.659082      1.0   \n",
       "\n",
       "           URB      Mes           Dia       Minutos  \n",
       "count  10526.0  10526.0  10526.000000  10526.000000  \n",
       "mean       0.0      9.0      3.840965     22.347520  \n",
       "std        0.0      0.0      2.032883     16.792269  \n",
       "min        0.0      9.0      1.000000      0.000000  \n",
       "25%        0.0      9.0      2.000000      0.000000  \n",
       "50%        0.0      9.0      4.000000     15.000000  \n",
       "75%        0.0      9.0      6.000000     30.000000  \n",
       "max        0.0      9.0      8.000000     45.000000  "
      ]
     },
     "execution_count": 59,
     "metadata": {},
     "output_type": "execute_result"
    }
   ],
   "source": [
    "X_test.describe()"
   ]
  },
  {
   "cell_type": "code",
   "execution_count": 60,
   "metadata": {},
   "outputs": [
    {
     "ename": "TypeError",
     "evalue": "'<' not supported between instances of 'NoneType' and 'int'",
     "output_type": "error",
     "traceback": [
      "\u001b[0;31m---------------------------------------------------------------------------\u001b[0m",
      "\u001b[0;31mTypeError\u001b[0m                                 Traceback (most recent call last)",
      "\u001b[0;32m<ipython-input-60-18c9d636bed5>\u001b[0m in \u001b[0;36m<module>\u001b[0;34m()\u001b[0m\n\u001b[0;32m----> 1\u001b[0;31m \u001b[0mYpredict\u001b[0m\u001b[0;34m=\u001b[0m\u001b[0mRFreg\u001b[0m\u001b[0;34m.\u001b[0m\u001b[0mpredict\u001b[0m\u001b[0;34m(\u001b[0m\u001b[0mX_test\u001b[0m\u001b[0;34m)\u001b[0m\u001b[0;34m\u001b[0m\u001b[0m\n\u001b[0m",
      "\u001b[0;32m~/anaconda3/lib/python3.6/site-packages/sklearn/ensemble/forest.py\u001b[0m in \u001b[0;36mpredict\u001b[0;34m(self, X)\u001b[0m\n\u001b[1;32m    682\u001b[0m \u001b[0;34m\u001b[0m\u001b[0m\n\u001b[1;32m    683\u001b[0m         \u001b[0;31m# Assign chunk of trees to jobs\u001b[0m\u001b[0;34m\u001b[0m\u001b[0;34m\u001b[0m\u001b[0m\n\u001b[0;32m--> 684\u001b[0;31m         \u001b[0mn_jobs\u001b[0m\u001b[0;34m,\u001b[0m \u001b[0m_\u001b[0m\u001b[0;34m,\u001b[0m \u001b[0m_\u001b[0m \u001b[0;34m=\u001b[0m \u001b[0m_partition_estimators\u001b[0m\u001b[0;34m(\u001b[0m\u001b[0mself\u001b[0m\u001b[0;34m.\u001b[0m\u001b[0mn_estimators\u001b[0m\u001b[0;34m,\u001b[0m \u001b[0mself\u001b[0m\u001b[0;34m.\u001b[0m\u001b[0mn_jobs\u001b[0m\u001b[0;34m)\u001b[0m\u001b[0;34m\u001b[0m\u001b[0m\n\u001b[0m\u001b[1;32m    685\u001b[0m \u001b[0;34m\u001b[0m\u001b[0m\n\u001b[1;32m    686\u001b[0m         \u001b[0;31m# avoid storing the output of every estimator by summing them here\u001b[0m\u001b[0;34m\u001b[0m\u001b[0;34m\u001b[0m\u001b[0m\n",
      "\u001b[0;32m~/anaconda3/lib/python3.6/site-packages/sklearn/ensemble/base.py\u001b[0m in \u001b[0;36m_partition_estimators\u001b[0;34m(n_estimators, n_jobs)\u001b[0m\n\u001b[1;32m    151\u001b[0m     \u001b[0;34m\"\"\"Private function used to partition estimators between jobs.\"\"\"\u001b[0m\u001b[0;34m\u001b[0m\u001b[0m\n\u001b[1;32m    152\u001b[0m     \u001b[0;31m# Compute the number of jobs\u001b[0m\u001b[0;34m\u001b[0m\u001b[0;34m\u001b[0m\u001b[0m\n\u001b[0;32m--> 153\u001b[0;31m     \u001b[0mn_jobs\u001b[0m \u001b[0;34m=\u001b[0m \u001b[0mmin\u001b[0m\u001b[0;34m(\u001b[0m\u001b[0m_get_n_jobs\u001b[0m\u001b[0;34m(\u001b[0m\u001b[0mn_jobs\u001b[0m\u001b[0;34m)\u001b[0m\u001b[0;34m,\u001b[0m \u001b[0mn_estimators\u001b[0m\u001b[0;34m)\u001b[0m\u001b[0;34m\u001b[0m\u001b[0m\n\u001b[0m\u001b[1;32m    154\u001b[0m \u001b[0;34m\u001b[0m\u001b[0m\n\u001b[1;32m    155\u001b[0m     \u001b[0;31m# Partition estimators between jobs\u001b[0m\u001b[0;34m\u001b[0m\u001b[0;34m\u001b[0m\u001b[0m\n",
      "\u001b[0;32m~/anaconda3/lib/python3.6/site-packages/sklearn/utils/__init__.py\u001b[0m in \u001b[0;36m_get_n_jobs\u001b[0;34m(n_jobs)\u001b[0m\n\u001b[1;32m    462\u001b[0m     \u001b[0mValueError\u001b[0m\u001b[0;34m:\u001b[0m \u001b[0mParameter\u001b[0m \u001b[0mn_jobs\u001b[0m \u001b[0;34m==\u001b[0m \u001b[0;36m0\u001b[0m \u001b[0mhas\u001b[0m \u001b[0mno\u001b[0m \u001b[0mmeaning\u001b[0m\u001b[0;34m.\u001b[0m\u001b[0;34m\u001b[0m\u001b[0m\n\u001b[1;32m    463\u001b[0m     \"\"\"\n\u001b[0;32m--> 464\u001b[0;31m     \u001b[0;32mif\u001b[0m \u001b[0mn_jobs\u001b[0m \u001b[0;34m<\u001b[0m \u001b[0;36m0\u001b[0m\u001b[0;34m:\u001b[0m\u001b[0;34m\u001b[0m\u001b[0m\n\u001b[0m\u001b[1;32m    465\u001b[0m         \u001b[0;32mreturn\u001b[0m \u001b[0mmax\u001b[0m\u001b[0;34m(\u001b[0m\u001b[0mcpu_count\u001b[0m\u001b[0;34m(\u001b[0m\u001b[0;34m)\u001b[0m \u001b[0;34m+\u001b[0m \u001b[0;36m1\u001b[0m \u001b[0;34m+\u001b[0m \u001b[0mn_jobs\u001b[0m\u001b[0;34m,\u001b[0m \u001b[0;36m1\u001b[0m\u001b[0;34m)\u001b[0m\u001b[0;34m\u001b[0m\u001b[0m\n\u001b[1;32m    466\u001b[0m     \u001b[0;32melif\u001b[0m \u001b[0mn_jobs\u001b[0m \u001b[0;34m==\u001b[0m \u001b[0;36m0\u001b[0m\u001b[0;34m:\u001b[0m\u001b[0;34m\u001b[0m\u001b[0m\n",
      "\u001b[0;31mTypeError\u001b[0m: '<' not supported between instances of 'NoneType' and 'int'"
     ]
    }
   ],
   "source": [
    "Ypredict=RFreg.predict(X_test)"
   ]
  },
  {
   "cell_type": "raw",
   "metadata": {},
   "source": [
    "<bound method RegressorMixin.score of RandomForestRegressor(bootstrap=True, criterion='mse', max_depth=29,\n",
    "           max_features='auto', max_leaf_nodes=None,\n",
    "           min_impurity_decrease=0.0, min_impurity_split=None,\n",
    "           min_samples_leaf=20, min_samples_split=2,\n",
    "           min_weight_fraction_leaf=0.0, n_estimators=100, n_jobs=None,\n",
    "           oob_score=False, random_state=None, verbose=0, warm_start=False)>"
   ]
  },
  {
   "cell_type": "code",
   "execution_count": 80,
   "metadata": {},
   "outputs": [],
   "source": [
    "#Random Forest v2\n",
    "reg_RF2=RandomForestRegressor(n_estimators=100,min_samples_leaf=20,max_depth=29)"
   ]
  },
  {
   "cell_type": "code",
   "execution_count": null,
   "metadata": {},
   "outputs": [],
   "source": [
    "%%time\n",
    "reg_RF2.fit(X,y)"
   ]
  },
  {
   "cell_type": "raw",
   "metadata": {},
   "source": [
    "print(-reg_RF2.best_score_)\n",
    "print(np.sqrt(-reg_RF2.best_score_))\n",
    "print(reg_RF2.best_params_)"
   ]
  },
  {
   "cell_type": "code",
   "execution_count": null,
   "metadata": {},
   "outputs": [],
   "source": []
  },
  {
   "cell_type": "code",
   "execution_count": null,
   "metadata": {},
   "outputs": [],
   "source": []
  },
  {
   "cell_type": "code",
   "execution_count": null,
   "metadata": {},
   "outputs": [],
   "source": []
  },
  {
   "cell_type": "code",
   "execution_count": null,
   "metadata": {},
   "outputs": [],
   "source": []
  },
  {
   "cell_type": "code",
   "execution_count": null,
   "metadata": {},
   "outputs": [],
   "source": []
  },
  {
   "cell_type": "code",
   "execution_count": null,
   "metadata": {},
   "outputs": [],
   "source": []
  },
  {
   "cell_type": "code",
   "execution_count": null,
   "metadata": {},
   "outputs": [],
   "source": [
    "%%time\n",
    "#Random Forest v3\n",
    "reg_RF3=GridSearchCV(RandomForestRegressor(n_estimators=100,min_samples_leaf=9,max_depth=29),\n",
    "                          param_grid={\"min_samples_leaf\":[10,20,30,40],\"max_depth\":range(29,30)},\n",
    "                          scoring=\"neg_mean_squared_error\"\n",
    "                          )\n",
    "reg_RF3.fit(X,y)\n",
    "print(-reg_RF3.best_score_)\n",
    "print(np.sqrt(-reg_RF3.best_score_))\n",
    "print(reg_RF3.best_params_)"
   ]
  },
  {
   "cell_type": "markdown",
   "metadata": {},
   "source": [
    "**Regression metrics**\n",
    "- ‘explained_variance’ \n",
    "- ‘neg_mean_absolute_error’\n",
    "- ‘neg_mean_squared_error’\n",
    "- ‘neg_mean_squared_log_error’\n",
    "- ‘neg_median_absolute_error’"
   ]
  },
  {
   "cell_type": "markdown",
   "metadata": {},
   "source": [
    "Finally, we are going to test with a **Gradient Boosting Regressor**"
   ]
  },
  {
   "cell_type": "raw",
   "metadata": {},
   "source": [
    "# Fit regression model\n",
    "params = {'n_estimators': 500, 'max_depth': 4, 'min_samples_split': 2,\n",
    "          'learning_rate': 0.01, 'loss': 'ls'}\n",
    "clf = ensemble.GradientBoostingRegressor(**params)\n",
    "\n",
    "clf.fit(X_train, y_train)\n",
    "mse = mean_squared_error(y_test, clf.predict(X_test))\n",
    "print(\"MSE: %.4f\" % mse)"
   ]
  },
  {
   "cell_type": "code",
   "execution_count": null,
   "metadata": {},
   "outputs": [],
   "source": [
    "%%time\n",
    "#XGBoost\n",
    "reg_XGB=GridSearchCV(XGBRegressor(n_estimators=100,min_samples_leaf=9,max_depth=19),\n",
    "                          param_grid={\"min_samples_leaf\":[10,20,30,40],\"max_depth\":range(19,20)},\n",
    "                          scoring=\"neg_mean_squared_error\"\n",
    "                          )\n",
    "reg_XGB.fit(X,y)\n",
    "print(reg_XGB.best_score_)\n",
    "print(np.sqrt(-reg_XGB.best_score_))\n",
    "print(reg_XGB.best_params_)"
   ]
  },
  {
   "cell_type": "code",
   "execution_count": null,
   "metadata": {},
   "outputs": [],
   "source": [
    "%%time\n",
    "#XGBoost\n",
    "reg_XGB2=GridSearchCV(XGBRegressor(n_estimators=100,min_samples_leaf=9,max_depth=29),\n",
    "                          param_grid={\"min_samples_leaf\":[10,20,30,40],\"max_depth\":range(29,30)},\n",
    "                          scoring=\"neg_mean_squared_error\"\n",
    "                          )\n",
    "reg_XGB2.fit(X,y)\n",
    "print(reg_XGB2.best_score_)\n",
    "print(np.sqrt(-reg_XGB2.best_score_))\n",
    "print(reg_XGB2.best_params_)"
   ]
  },
  {
   "cell_type": "code",
   "execution_count": null,
   "metadata": {},
   "outputs": [],
   "source": []
  }
 ],
 "metadata": {
  "kernelspec": {
   "display_name": "Python 3",
   "language": "python",
   "name": "python3"
  },
  "language_info": {
   "codemirror_mode": {
    "name": "ipython",
    "version": 3
   },
   "file_extension": ".py",
   "mimetype": "text/x-python",
   "name": "python",
   "nbconvert_exporter": "python",
   "pygments_lexer": "ipython3",
   "version": "3.6.6"
  }
 },
 "nbformat": 4,
 "nbformat_minor": 2
}
